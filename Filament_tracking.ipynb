{
 "cells": [
  {
   "cell_type": "markdown",
   "metadata": {},
   "source": [
    "# Discovering the foundation of solar eruptions"
   ]
  },
  {
   "cell_type": "markdown",
   "metadata": {},
   "source": [
    "Type of Project: Data analysis\n",
    "\n",
    "Skils/interest required: A successful student will have an interest in the physics of solar eruptions, big data, and statistics.  Python or IDL skills a plus.\n",
    "\n",
    "Mentors: Dr. Kathy Reeves and Ms. Nicole Schanche"
   ]
  },
  {
   "cell_type": "code",
   "execution_count": 1,
   "metadata": {
    "collapsed": false
   },
   "outputs": [
    {
     "name": "stdout",
     "output_type": "stream",
     "text": [
      "Welcome to your new iPython notebook!\n"
     ]
    }
   ],
   "source": [
    "print 'Welcome to your new iPython notebook!'"
   ]
  },
  {
   "cell_type": "code",
   "execution_count": 3,
   "metadata": {
    "collapsed": false
   },
   "outputs": [],
   "source": [
    "from sunpy.net import hek\n",
    "client = hek.HEKClient()\n",
    "tstart = '2013/10/01 00:00:00'\n",
    "tend = '2013/10/31 23:59:59'\n",
    "event_type = 'FE'\n",
    "eruptions = client.query(hek.attrs.Time(tstart,tend),hek.attrs.EventType(event_type))"
   ]
  },
  {
   "cell_type": "code",
   "execution_count": 2,
   "metadata": {
    "collapsed": false
   },
   "outputs": [],
   "source": [
    "result?"
   ]
  },
  {
   "cell_type": "code",
   "execution_count": 1,
   "metadata": {
    "collapsed": false
   },
   "outputs": [
    {
     "name": "stdout",
     "output_type": "stream",
     "text": [
      "Ashna has been here!\n"
     ]
    }
   ],
   "source": [
    "print 'Ashna has been here!'"
   ]
  },
  {
   "cell_type": "code",
   "execution_count": 4,
   "metadata": {
    "collapsed": false
   },
   "outputs": [],
   "source": [
    "FE_poly = [elem[\"hpc_bbox\"] for elem in eruptions] "
   ]
  },
  {
   "cell_type": "code",
   "execution_count": 8,
   "metadata": {
    "collapsed": false
   },
   "outputs": [
    {
     "name": "stdout",
     "output_type": "stream",
     "text": [
      "POLYGON((159 -1127,758 -1127,758 -617,159 -617,159 -1127))\n"
     ]
    }
   ],
   "source": [
    "print FE_poly[0]"
   ]
  },
  {
   "cell_type": "code",
   "execution_count": null,
   "metadata": {
    "collapsed": true
   },
   "outputs": [],
   "source": []
  }
 ],
 "metadata": {
  "kernelspec": {
   "display_name": "Python 2",
   "language": "python",
   "name": "python2"
  },
  "language_info": {
   "codemirror_mode": {
    "name": "ipython",
    "version": 2
   },
   "file_extension": ".py",
   "mimetype": "text/x-python",
   "name": "python",
   "nbconvert_exporter": "python",
   "pygments_lexer": "ipython2",
   "version": "2.7.10"
  }
 },
 "nbformat": 4,
 "nbformat_minor": 0
}
