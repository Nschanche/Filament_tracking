{
 "cells": [
  {
   "cell_type": "code",
   "execution_count": 1,
   "metadata": {
    "collapsed": false
   },
   "outputs": [],
   "source": [
    "%matplotlib inline\n",
    "import numpy as np\n",
    "import pandas as pd\n",
    "import scipy as sp\n",
    "from scipy import stats\n",
    "import sklearn\n",
    "import seaborn as sns\n",
    "import sklearn.cross_validation\n",
    "from sklearn.ensemble import RandomForestClassifier\n",
    "from sklearn.cross_validation import cross_val_score\n",
    "from matplotlib import pyplot as plt"
   ]
  },
  {
   "cell_type": "code",
   "execution_count": 2,
   "metadata": {
    "collapsed": false
   },
   "outputs": [
    {
     "data": {
      "text/html": [
       "<div>\n",
       "<table border=\"1\" class=\"dataframe\">\n",
       "  <thead>\n",
       "    <tr style=\"text-align: right;\">\n",
       "      <th></th>\n",
       "      <th>Track No.</th>\n",
       "      <th>fi_length_avg</th>\n",
       "      <th>length_slp</th>\n",
       "      <th>fi_area_avg</th>\n",
       "      <th>area_slp</th>\n",
       "      <th>fi_chiral_avg</th>\n",
       "      <th>chiral_slp</th>\n",
       "      <th>fi_tilt_avg</th>\n",
       "      <th>tilt_slp</th>\n",
       "      <th>Eruption</th>\n",
       "    </tr>\n",
       "  </thead>\n",
       "  <tbody>\n",
       "    <tr>\n",
       "      <th>0</th>\n",
       "      <td>64</td>\n",
       "      <td>1.910054e+10</td>\n",
       "      <td>-20851.523458</td>\n",
       "      <td>4899.559437</td>\n",
       "      <td>-0.017645</td>\n",
       "      <td>0.400000</td>\n",
       "      <td>-0.259382</td>\n",
       "      <td>46.965340</td>\n",
       "      <td>-3.110127</td>\n",
       "      <td>0</td>\n",
       "    </tr>\n",
       "    <tr>\n",
       "      <th>1</th>\n",
       "      <td>78</td>\n",
       "      <td>9.040830e+09</td>\n",
       "      <td>19070.132868</td>\n",
       "      <td>1100.649604</td>\n",
       "      <td>0.001371</td>\n",
       "      <td>-0.333333</td>\n",
       "      <td>-0.836622</td>\n",
       "      <td>-33.939233</td>\n",
       "      <td>0.316939</td>\n",
       "      <td>0</td>\n",
       "    </tr>\n",
       "    <tr>\n",
       "      <th>2</th>\n",
       "      <td>98</td>\n",
       "      <td>6.642232e+09</td>\n",
       "      <td>5826.291102</td>\n",
       "      <td>1461.183990</td>\n",
       "      <td>-0.000051</td>\n",
       "      <td>0.285714</td>\n",
       "      <td>0.864459</td>\n",
       "      <td>2.343557</td>\n",
       "      <td>-1.330016</td>\n",
       "      <td>0</td>\n",
       "    </tr>\n",
       "    <tr>\n",
       "      <th>3</th>\n",
       "      <td>106</td>\n",
       "      <td>1.047587e+10</td>\n",
       "      <td>19895.431452</td>\n",
       "      <td>1288.497093</td>\n",
       "      <td>0.003803</td>\n",
       "      <td>0.222222</td>\n",
       "      <td>0.832329</td>\n",
       "      <td>-21.837421</td>\n",
       "      <td>0.671030</td>\n",
       "      <td>0</td>\n",
       "    </tr>\n",
       "    <tr>\n",
       "      <th>4</th>\n",
       "      <td>135</td>\n",
       "      <td>4.836125e+09</td>\n",
       "      <td>-14971.593714</td>\n",
       "      <td>353.247685</td>\n",
       "      <td>-0.001294</td>\n",
       "      <td>-0.200000</td>\n",
       "      <td>2.301987</td>\n",
       "      <td>-37.236174</td>\n",
       "      <td>0.481864</td>\n",
       "      <td>0</td>\n",
       "    </tr>\n",
       "  </tbody>\n",
       "</table>\n",
       "</div>"
      ],
      "text/plain": [
       "   Track No.  fi_length_avg    length_slp  fi_area_avg  area_slp  \\\n",
       "0         64   1.910054e+10 -20851.523458  4899.559437 -0.017645   \n",
       "1         78   9.040830e+09  19070.132868  1100.649604  0.001371   \n",
       "2         98   6.642232e+09   5826.291102  1461.183990 -0.000051   \n",
       "3        106   1.047587e+10  19895.431452  1288.497093  0.003803   \n",
       "4        135   4.836125e+09 -14971.593714   353.247685 -0.001294   \n",
       "\n",
       "   fi_chiral_avg  chiral_slp  fi_tilt_avg  tilt_slp  Eruption  \n",
       "0       0.400000   -0.259382    46.965340 -3.110127         0  \n",
       "1      -0.333333   -0.836622   -33.939233  0.316939         0  \n",
       "2       0.285714    0.864459     2.343557 -1.330016         0  \n",
       "3       0.222222    0.832329   -21.837421  0.671030         0  \n",
       "4      -0.200000    2.301987   -37.236174  0.481864         0  "
      ]
     },
     "execution_count": 2,
     "metadata": {},
     "output_type": "execute_result"
    }
   ],
   "source": [
    "url = 'Non-Eruption_Analysis.csv'\n",
    "non_erupting = pd.read_csv(url)\n",
    "non_erupting = non_erupting.drop('Unnamed: 0', axis=1)\n",
    "non_erupting.replace('Na',np.nan, inplace=True)\n",
    "non_erupting['Eruption'] = 0\n",
    "non_erupting.head()\n",
    "#non_erupting.keys()\n"
   ]
  },
  {
   "cell_type": "code",
   "execution_count": 3,
   "metadata": {
    "collapsed": false
   },
   "outputs": [
    {
     "data": {
      "text/html": [
       "<div>\n",
       "<table border=\"1\" class=\"dataframe\">\n",
       "  <thead>\n",
       "    <tr style=\"text-align: right;\">\n",
       "      <th></th>\n",
       "      <th>Track No.</th>\n",
       "      <th>fi_length_avg</th>\n",
       "      <th>length_slp</th>\n",
       "      <th>fi_area_avg</th>\n",
       "      <th>area_slp</th>\n",
       "      <th>fi_chiral_avg</th>\n",
       "      <th>chiral_slp</th>\n",
       "      <th>fi_tilt_avg</th>\n",
       "      <th>tilt_slp</th>\n",
       "      <th>Eruption</th>\n",
       "    </tr>\n",
       "  </thead>\n",
       "  <tbody>\n",
       "    <tr>\n",
       "      <th>1</th>\n",
       "      <td>21</td>\n",
       "      <td>4.843297e+09</td>\n",
       "      <td>14271.123747</td>\n",
       "      <td>476.062630</td>\n",
       "      <td>-0.002162</td>\n",
       "      <td>0.000000</td>\n",
       "      <td>0.000000</td>\n",
       "      <td>-55.760900</td>\n",
       "      <td>-6.176173</td>\n",
       "      <td>1</td>\n",
       "    </tr>\n",
       "    <tr>\n",
       "      <th>3</th>\n",
       "      <td>93</td>\n",
       "      <td>1.140865e+10</td>\n",
       "      <td>5635.917614</td>\n",
       "      <td>4542.134217</td>\n",
       "      <td>-0.004866</td>\n",
       "      <td>0.000000</td>\n",
       "      <td>4.706329</td>\n",
       "      <td>-9.283704</td>\n",
       "      <td>-4.488977</td>\n",
       "      <td>1</td>\n",
       "    </tr>\n",
       "    <tr>\n",
       "      <th>4</th>\n",
       "      <td>94</td>\n",
       "      <td>2.242780e+10</td>\n",
       "      <td>-26760.784806</td>\n",
       "      <td>5584.925487</td>\n",
       "      <td>-0.007008</td>\n",
       "      <td>-0.142857</td>\n",
       "      <td>-3.257830</td>\n",
       "      <td>33.833814</td>\n",
       "      <td>-0.721631</td>\n",
       "      <td>1</td>\n",
       "    </tr>\n",
       "    <tr>\n",
       "      <th>5</th>\n",
       "      <td>140</td>\n",
       "      <td>1.219793e+10</td>\n",
       "      <td>100417.840826</td>\n",
       "      <td>3487.984499</td>\n",
       "      <td>0.029020</td>\n",
       "      <td>0.250000</td>\n",
       "      <td>0.242555</td>\n",
       "      <td>17.280300</td>\n",
       "      <td>4.510884</td>\n",
       "      <td>1</td>\n",
       "    </tr>\n",
       "    <tr>\n",
       "      <th>6</th>\n",
       "      <td>175</td>\n",
       "      <td>1.381954e+10</td>\n",
       "      <td>12941.709122</td>\n",
       "      <td>5210.939558</td>\n",
       "      <td>0.007604</td>\n",
       "      <td>0.400000</td>\n",
       "      <td>-1.354914</td>\n",
       "      <td>-22.194140</td>\n",
       "      <td>-0.169296</td>\n",
       "      <td>1</td>\n",
       "    </tr>\n",
       "  </tbody>\n",
       "</table>\n",
       "</div>"
      ],
      "text/plain": [
       "   Track No.  fi_length_avg     length_slp  fi_area_avg  area_slp  \\\n",
       "1         21   4.843297e+09   14271.123747   476.062630 -0.002162   \n",
       "3         93   1.140865e+10    5635.917614  4542.134217 -0.004866   \n",
       "4         94   2.242780e+10  -26760.784806  5584.925487 -0.007008   \n",
       "5        140   1.219793e+10  100417.840826  3487.984499  0.029020   \n",
       "6        175   1.381954e+10   12941.709122  5210.939558  0.007604   \n",
       "\n",
       "   fi_chiral_avg  chiral_slp  fi_tilt_avg  tilt_slp  Eruption  \n",
       "1       0.000000    0.000000   -55.760900 -6.176173         1  \n",
       "3       0.000000    4.706329    -9.283704 -4.488977         1  \n",
       "4      -0.142857   -3.257830    33.833814 -0.721631         1  \n",
       "5       0.250000    0.242555    17.280300  4.510884         1  \n",
       "6       0.400000   -1.354914   -22.194140 -0.169296         1  "
      ]
     },
     "execution_count": 3,
     "metadata": {},
     "output_type": "execute_result"
    }
   ],
   "source": [
    "url = 'Eruption_Analysis.csv'\n",
    "erupting = pd.read_csv(url)\n",
    "erupting = erupting.drop('Unnamed: 0', axis=1)\n",
    "erupting.replace('Na',np.nan, inplace=True)\n",
    "erupting = erupting.astype(float)\n",
    "erupting['Eruption'] = 1\n",
    "erupting = erupting.dropna()\n",
    "erupting.head()"
   ]
  },
  {
   "cell_type": "code",
   "execution_count": 4,
   "metadata": {
    "collapsed": false
   },
   "outputs": [
    {
     "data": {
      "text/plain": [
       "Ks_2sampResult(statistic=0.10255562899317039, pvalue=0.67609716385090435)"
      ]
     },
     "execution_count": 4,
     "metadata": {},
     "output_type": "execute_result"
    }
   ],
   "source": [
    "#KS test for filament length\n",
    "erupt_len = erupting['fi_length_avg'].tolist()\n",
    "nerupt_len = non_erupting['fi_length_avg'].tolist()\n",
    "stats.ks_2samp(erupt_len, nerupt_len)"
   ]
  },
  {
   "cell_type": "code",
   "execution_count": 5,
   "metadata": {
    "collapsed": false
   },
   "outputs": [
    {
     "data": {
      "text/plain": [
       "Ks_2sampResult(statistic=0.22758316809870016, pvalue=0.011957756784611816)"
      ]
     },
     "execution_count": 5,
     "metadata": {},
     "output_type": "execute_result"
    }
   ],
   "source": [
    "#KS test for change in length (slope)\n",
    "erupt_slen = erupting['length_slp'].dropna().tolist()\n",
    "nerupt_slen = non_erupting['length_slp'].dropna().tolist()\n",
    "stats.ks_2samp(erupt_slen, nerupt_slen)"
   ]
  },
  {
   "cell_type": "code",
   "execution_count": 6,
   "metadata": {
    "collapsed": false
   },
   "outputs": [
    {
     "data": {
      "text/plain": [
       "Ks_2sampResult(statistic=0.10343688037012566, pvalue=0.66566065133367547)"
      ]
     },
     "execution_count": 6,
     "metadata": {},
     "output_type": "execute_result"
    }
   ],
   "source": [
    "erupt_area = erupting['fi_area_avg'].tolist()\n",
    "nerupt_area = non_erupting['fi_area_avg'].tolist()\n",
    "stats.ks_2samp(erupt_area, nerupt_area)"
   ]
  },
  {
   "cell_type": "code",
   "execution_count": 7,
   "metadata": {
    "collapsed": false
   },
   "outputs": [
    {
     "data": {
      "text/plain": [
       "Ks_2sampResult(statistic=0.25501211720643313, pvalue=0.0032316014476262644)"
      ]
     },
     "execution_count": 7,
     "metadata": {},
     "output_type": "execute_result"
    }
   ],
   "source": [
    "#KS test for change in area (slope)\n",
    "erupt_sarea = erupting['area_slp'].dropna().astype(float).tolist()\n",
    "nerupt_sarea = non_erupting['area_slp'].dropna().astype(float).tolist()\n",
    "stats.ks_2samp(erupt_sarea, nerupt_sarea)"
   ]
  },
  {
   "cell_type": "code",
   "execution_count": 8,
   "metadata": {
    "collapsed": false
   },
   "outputs": [
    {
     "data": {
      "text/plain": [
       "Ks_2sampResult(statistic=0.13395020929720203, pvalue=0.33780937778231418)"
      ]
     },
     "execution_count": 8,
     "metadata": {},
     "output_type": "execute_result"
    }
   ],
   "source": [
    "erupt_chiral = erupting['fi_chiral_avg'].tolist()\n",
    "nerupt_chiral = non_erupting['fi_chiral_avg'].tolist()\n",
    "stats.ks_2samp(erupt_chiral, nerupt_chiral)"
   ]
  },
  {
   "cell_type": "code",
   "execution_count": 9,
   "metadata": {
    "collapsed": false
   },
   "outputs": [
    {
     "data": {
      "text/plain": [
       "Ks_2sampResult(statistic=0.13350958360872439, pvalue=0.34170772106786046)"
      ]
     },
     "execution_count": 9,
     "metadata": {},
     "output_type": "execute_result"
    }
   ],
   "source": [
    "erupt_schiral = erupting['chiral_slp'].dropna().astype(float).tolist()\n",
    "nerupt_schiral = non_erupting['chiral_slp'].dropna().astype(float).tolist()\n",
    "stats.ks_2samp(erupt_schiral, nerupt_schiral)"
   ]
  },
  {
   "cell_type": "code",
   "execution_count": 10,
   "metadata": {
    "collapsed": false
   },
   "outputs": [
    {
     "data": {
      "text/html": [
       "<div>\n",
       "<table border=\"1\" class=\"dataframe\">\n",
       "  <thead>\n",
       "    <tr style=\"text-align: right;\">\n",
       "      <th></th>\n",
       "      <th>Track No.</th>\n",
       "      <th>fi_length_avg</th>\n",
       "      <th>length_slp</th>\n",
       "      <th>fi_area_avg</th>\n",
       "      <th>area_slp</th>\n",
       "      <th>fi_chiral_avg</th>\n",
       "      <th>chiral_slp</th>\n",
       "      <th>fi_tilt_avg</th>\n",
       "      <th>tilt_slp</th>\n",
       "      <th>Eruption</th>\n",
       "    </tr>\n",
       "  </thead>\n",
       "  <tbody>\n",
       "    <tr>\n",
       "      <th>0</th>\n",
       "      <td>21</td>\n",
       "      <td>4.843297e+09</td>\n",
       "      <td>14271.123747</td>\n",
       "      <td>476.062630</td>\n",
       "      <td>-0.002162</td>\n",
       "      <td>0.000000</td>\n",
       "      <td>0.000000</td>\n",
       "      <td>-55.760900</td>\n",
       "      <td>-6.176173</td>\n",
       "      <td>1</td>\n",
       "    </tr>\n",
       "    <tr>\n",
       "      <th>1</th>\n",
       "      <td>93</td>\n",
       "      <td>1.140865e+10</td>\n",
       "      <td>5635.917614</td>\n",
       "      <td>4542.134217</td>\n",
       "      <td>-0.004866</td>\n",
       "      <td>0.000000</td>\n",
       "      <td>4.706329</td>\n",
       "      <td>-9.283704</td>\n",
       "      <td>-4.488977</td>\n",
       "      <td>1</td>\n",
       "    </tr>\n",
       "    <tr>\n",
       "      <th>2</th>\n",
       "      <td>94</td>\n",
       "      <td>2.242780e+10</td>\n",
       "      <td>-26760.784806</td>\n",
       "      <td>5584.925487</td>\n",
       "      <td>-0.007008</td>\n",
       "      <td>-0.142857</td>\n",
       "      <td>-3.257830</td>\n",
       "      <td>33.833814</td>\n",
       "      <td>-0.721631</td>\n",
       "      <td>1</td>\n",
       "    </tr>\n",
       "    <tr>\n",
       "      <th>3</th>\n",
       "      <td>140</td>\n",
       "      <td>1.219793e+10</td>\n",
       "      <td>100417.840826</td>\n",
       "      <td>3487.984499</td>\n",
       "      <td>0.029020</td>\n",
       "      <td>0.250000</td>\n",
       "      <td>0.242555</td>\n",
       "      <td>17.280300</td>\n",
       "      <td>4.510884</td>\n",
       "      <td>1</td>\n",
       "    </tr>\n",
       "    <tr>\n",
       "      <th>4</th>\n",
       "      <td>175</td>\n",
       "      <td>1.381954e+10</td>\n",
       "      <td>12941.709122</td>\n",
       "      <td>5210.939558</td>\n",
       "      <td>0.007604</td>\n",
       "      <td>0.400000</td>\n",
       "      <td>-1.354914</td>\n",
       "      <td>-22.194140</td>\n",
       "      <td>-0.169296</td>\n",
       "      <td>1</td>\n",
       "    </tr>\n",
       "  </tbody>\n",
       "</table>\n",
       "</div>"
      ],
      "text/plain": [
       "   Track No.  fi_length_avg     length_slp  fi_area_avg  area_slp  \\\n",
       "0         21   4.843297e+09   14271.123747   476.062630 -0.002162   \n",
       "1         93   1.140865e+10    5635.917614  4542.134217 -0.004866   \n",
       "2         94   2.242780e+10  -26760.784806  5584.925487 -0.007008   \n",
       "3        140   1.219793e+10  100417.840826  3487.984499  0.029020   \n",
       "4        175   1.381954e+10   12941.709122  5210.939558  0.007604   \n",
       "\n",
       "   fi_chiral_avg  chiral_slp  fi_tilt_avg  tilt_slp  Eruption  \n",
       "0       0.000000    0.000000   -55.760900 -6.176173         1  \n",
       "1       0.000000    4.706329    -9.283704 -4.488977         1  \n",
       "2      -0.142857   -3.257830    33.833814 -0.721631         1  \n",
       "3       0.250000    0.242555    17.280300  4.510884         1  \n",
       "4       0.400000   -1.354914   -22.194140 -0.169296         1  "
      ]
     },
     "execution_count": 10,
     "metadata": {},
     "output_type": "execute_result"
    }
   ],
   "source": [
    "##Now lets see if we can predict whether a filament will erupt or not. \n",
    "erupting = erupting.astype(float)\n",
    "all_eruptions=erupting.append(non_erupting,ignore_index = True)   #adding everything together\n",
    "all_eruptions = all_eruptions.dropna() #for now, dropping everything with NaN\n",
    "all_eruptions.head()"
   ]
  },
  {
   "cell_type": "code",
   "execution_count": 11,
   "metadata": {
    "collapsed": false
   },
   "outputs": [],
   "source": [
    "#Pull out the feature we want to predict (1 for eruption, 0 for no eruption)\n",
    "Y = np.array(all_eruptions['Eruption'])"
   ]
  },
  {
   "cell_type": "code",
   "execution_count": 12,
   "metadata": {
    "collapsed": false
   },
   "outputs": [],
   "source": [
    "#Now we need to remove that from our dataset. \n",
    "all_eruptions = all_eruptions.drop('Eruption',1)"
   ]
  },
  {
   "cell_type": "code",
   "execution_count": 13,
   "metadata": {
    "collapsed": false
   },
   "outputs": [
    {
     "name": "stdout",
     "output_type": "stream",
     "text": [
      "[[  2.10000000e+01   4.84329692e+09   1.42711237e+04 ...,   0.00000000e+00\n",
      "   -5.57609000e+01  -6.17617259e+00]\n",
      " [  9.30000000e+01   1.14086501e+10   5.63591761e+03 ...,   4.70632930e+00\n",
      "   -9.28370400e+00  -4.48897738e+00]\n",
      " [  9.40000000e+01   2.24278048e+10  -2.67607848e+04 ...,  -3.25783011e+00\n",
      "    3.38338143e+01  -7.21630702e-01]\n",
      " ..., \n",
      " [  3.20600000e+03   1.60905280e+10   5.88893952e+04 ...,  -5.78335796e+00\n",
      "   -5.52171750e+01   1.54167976e+00]\n",
      " [  3.21400000e+03   3.80288667e+09   1.22756346e+04 ...,   4.68376818e+00\n",
      "    5.12343750e+01   1.70282370e+00]\n",
      " [  3.23200000e+03   3.80288486e+09  -2.78869390e+03 ...,   7.78335829e+00\n",
      "   -1.17732250e+01   8.41856134e-01]]\n"
     ]
    }
   ],
   "source": [
    "#Now we need to save all of the features as a matrix for the calucations later\n",
    "X = all_eruptions.as_matrix()\n",
    "print X"
   ]
  },
  {
   "cell_type": "markdown",
   "metadata": {},
   "source": [
    "Our goal is to be able to predict the outcome (Y) by using the features (X)\n",
    "Since we have a binary outcome, we want to use a classification scheme\n",
    "Because of this, I am going to try to use a random forest classifier (I can send you details on what this is)\n",
    "This is a good method when there is only a small sample (200 events is very small in data science)\n",
    "\n"
   ]
  },
  {
   "cell_type": "code",
   "execution_count": 14,
   "metadata": {
    "collapsed": false
   },
   "outputs": [],
   "source": [
    "#Let's start by making 40 different 'trees'\n",
    "n_trees = range(1,41)\n",
    "scores = []\n",
    "for i in n_trees:\n",
    "    forest = sklearn.ensemble.RandomForestClassifier(n_estimators = i)\n",
    "    val_score = cross_val_score(forest, X=X, y=Y, cv=10)\n",
    "    scores.append(val_score) "
   ]
  },
  {
   "cell_type": "code",
   "execution_count": 15,
   "metadata": {
    "collapsed": false
   },
   "outputs": [
    {
     "data": {
      "text/plain": [
       "<matplotlib.axes._subplots.AxesSubplot at 0x10cfb7090>"
      ]
     },
     "execution_count": 15,
     "metadata": {},
     "output_type": "execute_result"
    },
    {
     "data": {
      "image/png": "[encoded data removed]",
      "text/plain": [
       "<matplotlib.figure.Figure at 0x10cfb71d0>"
      ]
     },
     "metadata": {},
     "output_type": "display_data"
    }
   ],
   "source": [
    "#How good at prediction is my tree? (I ran 40 different test, so each bar is one test).\n",
    "plt.figure(figsize=(12,8))\n",
    "plt.title('Effect of the number of trees on predictions', fontsize=15)\n",
    "sns.boxplot(scores)\n",
    "#Note: This is before correcting for the unbalanced sample size. "
   ]
  },
  {
   "cell_type": "code",
   "execution_count": 16,
   "metadata": {
    "collapsed": false
   },
   "outputs": [
    {
     "name": "stdout",
     "output_type": "stream",
     "text": [
      "0.534031413613\n",
      "53 percent of filaments do NOT erupt. Our sample is not balanced\n"
     ]
    }
   ],
   "source": [
    "## your code here\n",
    "non_erupt = 0.\n",
    "for eruption in Y:\n",
    "    if eruption == 0:\n",
    "        non_erupt = non_erupt+1.\n",
    "avg = non_erupt/len(Y)\n",
    "print avg\n",
    "print '%d percent of filaments do NOT erupt. Our sample is not balanced' % (avg*100)"
   ]
  },
  {
   "cell_type": "code",
   "execution_count": 17,
   "metadata": {
    "collapsed": false
   },
   "outputs": [
    {
     "data": {
      "text/plain": [
       "<matplotlib.axes._subplots.AxesSubplot at 0x10d057fd0>"
      ]
     },
     "execution_count": 17,
     "metadata": {},
     "output_type": "execute_result"
    },
    {
     "data": {
      "image/png": "[encoded data removed]",
      "text/plain": [
       "<matplotlib.figure.Figure at 0x10d057f50>"
      ]
     },
     "metadata": {},
     "output_type": "display_data"
    }
   ],
   "source": [
    "plt.figure(figsize=(12,8))\n",
    "plt.axhline(y=avg)\n",
    "plt.title('Effect of the number of trees on predictions compared to guessing the majority class', fontsize=15)\n",
    "sns.boxplot(scores)"
   ]
  },
  {
   "cell_type": "code",
   "execution_count": 18,
   "metadata": {
    "collapsed": false
   },
   "outputs": [],
   "source": [
    "scores_2 = []\n",
    "for i in n_trees:\n",
    "    forest_2 = sklearn.ensemble.RandomForestClassifier(n_estimators = i)\n",
    "    val_score_2 = cross_val_score(forest, X=X, y=Y, cv=10, scoring='f1')\n",
    "    scores_2.append(val_score_2) "
   ]
  },
  {
   "cell_type": "code",
   "execution_count": 19,
   "metadata": {
    "collapsed": false
   },
   "outputs": [
    {
     "data": {
      "text/plain": [
       "<matplotlib.axes._subplots.AxesSubplot at 0x10d414610>"
      ]
     },
     "execution_count": 19,
     "metadata": {},
     "output_type": "execute_result"
    },
    {
     "data": {
      "image/png": "[encoded data removed]",
      "text/plain": [
       "<matplotlib.figure.Figure at 0x10d4147d0>"
      ]
     },
     "metadata": {},
     "output_type": "display_data"
    }
   ],
   "source": [
    "plt.figure(figsize=(12,8))\n",
    "plt.title('F1 scoring comparison for different number of trees')\n",
    "sns.boxplot(scores_2)"
   ]
  },
  {
   "cell_type": "code",
   "execution_count": 20,
   "metadata": {
    "collapsed": false
   },
   "outputs": [
    {
     "name": "stdout",
     "output_type": "stream",
     "text": [
      "[ 1.  1.  1.  1.  1.  1.  1.  1.  1.  1.]\n",
      "[ 0.86666667  0.86666667  0.86666667  1.          0.8         0.86666667\n",
      "  0.73333333  1.          0.93333333  0.73333333]\n",
      "[1, 1, 1, 1, 1, 1, 1, 1, 1, 1]\n"
     ]
    },
    {
     "data": {
      "text/plain": [
       "True"
      ]
     },
     "execution_count": 20,
     "metadata": {},
     "output_type": "execute_result"
    }
   ],
   "source": [
    "#make the forest classifier and do that fit. Then find the probabilities\n",
    "forest = sklearn.ensemble.RandomForestClassifier(n_estimators = 15)\n",
    "fitted_forest = forest.fit(X, Y)\n",
    "proba = fitted_forest.predict_proba(X)\n",
    "\n",
    "#Make a prediction based on probabilities\n",
    "class_predict = fitted_forest.predict(X)\n",
    "print class_predict[:10]\n",
    "\n",
    "\n",
    "#Now just make a prediction based on raw values of the probabilities\n",
    "erupt_good = proba[:, 1]\n",
    "sanity_predict = [0]*len(erupt_good)\n",
    "print erupt_good[:10]\n",
    "for i in range(len(sanity_predict)):\n",
    "    if erupt_good[i] > 0.5:\n",
    "        sanity_predict[i] = 1\n",
    "    else:\n",
    "        sanity_predict[i] = 0\n",
    "        \n",
    "        \n",
    "print sanity_predict[:10]\n",
    "#val_score = cross_val_score(forest, X=X, y=Y, cv=10)\n",
    "#scores.append(val_score) \n",
    "\n",
    "(class_predict == sanity_predict).all()"
   ]
  },
  {
   "cell_type": "code",
   "execution_count": 21,
   "metadata": {
    "collapsed": false
   },
   "outputs": [
    {
     "name": "stdout",
     "output_type": "stream",
     "text": [
      "[ 0.06209447  0.1095283   0.1495557   0.09662787  0.1534845   0.09707683\n",
      "  0.10649801  0.12010186  0.10503246]\n"
     ]
    }
   ],
   "source": [
    "#Which features are leading to the good predictions?\n",
    "feature_forest = sklearn.ensemble.RandomForestClassifier(n_estimators = 15)\n",
    "#by_feature = feature_forest.feature_importances_\n",
    "fitted_forest4a = forest.fit(X, Y)\n",
    "val_score_ = cross_val_score(fitted_forest4a, X=X, y=Y, cv=10)\n",
    "imp_features = fitted_forest4a.feature_importances_\n",
    "\n",
    "print imp_features"
   ]
  },
  {
   "cell_type": "code",
   "execution_count": 22,
   "metadata": {
    "collapsed": false
   },
   "outputs": [
    {
     "data": {
      "image/png": "[encoded data removed]",
      "text/plain": [
       "<matplotlib.figure.Figure at 0x10d41c6d0>"
      ]
     },
     "metadata": {},
     "output_type": "display_data"
    }
   ],
   "source": [
    "#Whitch features are most useful for prediction?\n",
    "clf = RandomForestClassifier(n_estimators=15)\n",
    "\n",
    "clf.fit(X,Y)\n",
    "importance_list = clf.feature_importances_\n",
    "name_list = all_eruptions.columns\n",
    "importance_list, name_list = zip(*sorted(zip(importance_list, name_list)))\n",
    "plt.barh(range(len(name_list)),importance_list,align='center')\n",
    "plt.yticks(range(len(name_list)),name_list)\n",
    "plt.xlabel('Relative Importance in the Random Forest')\n",
    "plt.ylabel('Features')\n",
    "plt.title('Relative importance of Each Feature')\n",
    "plt.show()"
   ]
  },
  {
   "cell_type": "code",
   "execution_count": 23,
   "metadata": {
    "collapsed": false
   },
   "outputs": [
    {
     "name": "stdout",
     "output_type": "stream",
     "text": [
      "['Track No.', 'fi_length_avg', 'length_slp', 'fi_area_avg', 'area_slp', 'fi_chiral_avg', 'chiral_slp', 'fi_tilt_avg', 'tilt_slp']\n"
     ]
    },
    {
     "data": {
      "text/plain": [
       "([<matplotlib.axis.XTick at 0x10eeb7150>,\n",
       "  <matplotlib.axis.XTick at 0x10ef49cd0>,\n",
       "  <matplotlib.axis.XTick at 0x10ef9bb10>,\n",
       "  <matplotlib.axis.XTick at 0x10f1c7d90>,\n",
       "  <matplotlib.axis.XTick at 0x10f1d3550>,\n",
       "  <matplotlib.axis.XTick at 0x10f1d3cd0>,\n",
       "  <matplotlib.axis.XTick at 0x10f1dd490>,\n",
       "  <matplotlib.axis.XTick at 0x10f1ddc10>,\n",
       "  <matplotlib.axis.XTick at 0x10f1e63d0>],\n",
       " <a list of 9 Text xticklabel objects>)"
      ]
     },
     "execution_count": 23,
     "metadata": {},
     "output_type": "execute_result"
    },
    {
     "data": {
      "image/png": "[encoded data removed]",
      "text/plain": [
       "<matplotlib.figure.Figure at 0x10e87e650>"
      ]
     },
     "metadata": {},
     "output_type": "display_data"
    }
   ],
   "source": [
    "#Which features are most useful for the prediction? (Same as above, just different plot).\n",
    "feature_names = (all_eruptions.columns).astype(str)\n",
    "feature_str = [str(x) for x in feature_names]\n",
    "print feature_str\n",
    "#sns.barplot(feature_str, imp_features)\n",
    "plt.bar(range(len(feature_str)), imp_features)\n",
    "plt.xticks(range(len(feature_str)), feature_str, rotation=45)\n",
    "#plt.xlabel(feature_str)"
   ]
  },
  {
   "cell_type": "code",
   "execution_count": 24,
   "metadata": {
    "collapsed": true
   },
   "outputs": [],
   "source": [
    "from sklearn.tree import DecisionTreeClassifier\n",
    "import sklearn.linear_model\n",
    "import sklearn.svm\n",
    "\n",
    "def plot_decision_surface(clf, X_train, Y_train):\n",
    "    plot_step=0.1\n",
    "    \n",
    "    if X_train.shape[1] != 2:\n",
    "        raise ValueError(\"X_train should have exactly 2 columnns!\")\n",
    "    \n",
    "    x_min, x_max = X_train[:, 0].min() - plot_step, X_train[:, 0].max() + plot_step\n",
    "    y_min, y_max = X_train[:, 1].min() - plot_step, X_train[:, 1].max() + plot_step\n",
    "    xx, yy = np.meshgrid(np.arange(x_min, x_max, plot_step),\n",
    "                         np.arange(y_min, y_max, plot_step))\n",
    "\n",
    "    clf.fit(X_train,Y_train)\n",
    "    if hasattr(clf, 'predict_proba'):\n",
    "        Z = clf.predict_proba(np.c_[xx.ravel(), yy.ravel()])[:,1]\n",
    "    else:\n",
    "        Z = clf.predict(np.c_[xx.ravel(), yy.ravel()])    \n",
    "    Z = Z.reshape(xx.shape)\n",
    "    cs = plt.contourf(xx, yy, Z, cmap=plt.cm.Reds)\n",
    "    plt.scatter(X_train[:,0],X_train[:,1],c=Y,cmap=plt.cm.Paired)\n",
    "    plt.show()\n",
    "    \n",
    "## your code here"
   ]
  },
  {
   "cell_type": "code",
   "execution_count": null,
   "metadata": {
    "collapsed": false
   },
   "outputs": [
    {
     "data": {
      "image/png": "[encoded data removed]",
      "text/plain": [
       "<matplotlib.figure.Figure at 0x10f203b90>"
      ]
     },
     "metadata": {},
     "output_type": "display_data"
    }
   ],
   "source": [
    "#Look at the predictions.\n",
    "eruptions_subset = all_eruptions[['tilt_slp','area_slp']].as_matrix()\n",
    "\n",
    "\n",
    "subset_forest = sklearn.ensemble.RandomForestClassifier(n_estimators = 15)\n",
    "fitted_subset = subset_forest.fit(eruptions_subset, Y)\n",
    "#subset_val_score = cross_val_score(subset_forest, X=wine_subset, y=Y, cv=10)\n",
    "plt.title('Random Forest Decision Tree Surface')\n",
    "plot_decision_surface(fitted_subset, eruptions_subset, Y)"
   ]
  },
  {
   "cell_type": "code",
   "execution_count": null,
   "metadata": {
    "collapsed": false
   },
   "outputs": [],
   "source": [
    "#eruptions_subset = all_eruptions[['fi_tilt_avg','fi_area_avg']].as_matrix()\n",
    "\n",
    "\n",
    "subset_forest = sklearn.ensemble.RandomForestClassifier(n_estimators = 15)\n",
    "fitted_subset = subset_forest.fit(eruptions_subset, Y)\n",
    "#subset_val_score = cross_val_score(subset_forest, X=wine_subset, y=Y, cv=10)\n",
    "plt.title('Random Forest Decision Tree Surface')\n",
    "plot_decision_surface(fitted_subset, eruptions_subset, Y)"
   ]
  },
  {
   "cell_type": "code",
   "execution_count": null,
   "metadata": {
    "collapsed": false
   },
   "outputs": [],
   "source": [
    "erupting['area_slp'].describe()"
   ]
  },
  {
   "cell_type": "code",
   "execution_count": null,
   "metadata": {
    "collapsed": false
   },
   "outputs": [],
   "source": [
    "non_erupting['area_slp'].describe()"
   ]
  },
  {
   "cell_type": "code",
   "execution_count": null,
   "metadata": {
    "collapsed": false
   },
   "outputs": [],
   "source": [
    "erupting['tilt_slp'].describe()"
   ]
  },
  {
   "cell_type": "code",
   "execution_count": null,
   "metadata": {
    "collapsed": false
   },
   "outputs": [],
   "source": [
    "non_erupting['tilt_slp'].describe()"
   ]
  },
  {
   "cell_type": "code",
   "execution_count": null,
   "metadata": {
    "collapsed": false
   },
   "outputs": [],
   "source": [
    "colors = Y\n",
    "plt.scatter(all_eruptions['tilt_slp'],all_eruptions['area_slp'], c=colors)\n"
   ]
  },
  {
   "cell_type": "code",
   "execution_count": null,
   "metadata": {
    "collapsed": false
   },
   "outputs": [],
   "source": [
    "colors = Y\n",
    "plt.scatter(all_eruptions['tilt_slp'], all_eruptions['Track No.'], c=colors)"
   ]
  },
  {
   "cell_type": "code",
   "execution_count": null,
   "metadata": {
    "collapsed": true
   },
   "outputs": [],
   "source": []
  }
 ],
 "metadata": {
  "kernelspec": {
   "display_name": "Python 2",
   "language": "python",
   "name": "python2"
  },
  "language_info": {
   "codemirror_mode": {
    "name": "ipython",
    "version": 2
   },
   "file_extension": ".py",
   "mimetype": "text/x-python",
   "name": "python",
   "nbconvert_exporter": "python",
   "pygments_lexer": "ipython2",
   "version": "2.7.10"
  }
 },
 "nbformat": 4,
 "nbformat_minor": 0
}
