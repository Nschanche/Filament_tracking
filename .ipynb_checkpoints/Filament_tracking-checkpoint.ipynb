{
 "metadata": {
  "name": "",
  "signature": "sha256:80ddbf23fc7cd5aa5a36f8734fd1d76c7de3f4ffd4b2ed4bcc7f4c2cde56be6f"
 },
 "nbformat": 3,
 "nbformat_minor": 0,
 "worksheets": [
  {
   "cells": [
    {
     "cell_type": "heading",
     "level": 1,
     "metadata": {},
     "source": [
      "Discovering the foundation of solar eruptions"
     ]
    },
    {
     "cell_type": "markdown",
     "metadata": {},
     "source": [
      "Type of Project: Data analysis\n",
      "\n",
      "Skils/interest required: A successful student will have an interest in the physics of solar eruptions, big data, and statistics.  Python or IDL skills a plus.\n",
      "\n",
      "Mentors: Dr. Kathy Reeves and Ms. Nicole Schanche"
     ]
    },
    {
     "cell_type": "code",
     "collapsed": false,
     "input": [
      "print 'Welcome to your new iPython notebook!'"
     ],
     "language": "python",
     "metadata": {},
     "outputs": [
      {
       "output_type": "stream",
       "stream": "stdout",
       "text": [
        "Welcome to your new iPython notebook!\n"
       ]
      }
     ],
     "prompt_number": 1
    },
    {
     "cell_type": "code",
     "collapsed": false,
     "input": [
      "from sunpy.net import hek\n",
      "client = hek.HEKClient()\n",
      "tstart = '2013/10/01 00:00:00'\n",
      "tend = '2013/10/31 23:59:59'\n",
      "event_type = 'FE'\n",
      "result = client.query(hek.attrs.Time(tstart,tend),hek.attrs.EventType(event_type))"
     ],
     "language": "python",
     "metadata": {},
     "outputs": [],
     "prompt_number": 1
    },
    {
     "cell_type": "code",
     "collapsed": false,
     "input": [
      "result?"
     ],
     "language": "python",
     "metadata": {},
     "outputs": [],
     "prompt_number": 2
    },
    {
     "cell_type": "code",
     "collapsed": false,
     "input": [],
     "language": "python",
     "metadata": {},
     "outputs": []
    }
   ],
   "metadata": {}
  }
 ]
}