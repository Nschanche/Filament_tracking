{
 "cells": [
  {
   "cell_type": "markdown",
   "metadata": {},
   "source": [
    "# Discovering the foundation of solar eruptions"
   ]
  },
  {
   "cell_type": "markdown",
   "metadata": {},
   "source": [
    "Type of Project: Data analysis\n",
    "\n",
    "Skils/interest required: A successful student will have an interest in the physics of solar eruptions, big data, and statistics.  Python or IDL skills a plus.\n",
    "\n",
    "Mentors: Dr. Kathy Reeves and Ms. Nicole Schanche"
   ]
  },
  {
   "cell_type": "code",
   "execution_count": 1,
   "metadata": {
    "collapsed": false
   },
   "outputs": [
    {
     "name": "stdout",
     "output_type": "stream",
     "text": [
      "Welcome to your new iPython notebook!\n"
     ]
    }
   ],
   "source": [
    "print 'Welcome to your new iPython notebook!'"
   ]
  },
  {
   "cell_type": "code",
   "execution_count": 10,
   "metadata": {
    "collapsed": false
   },
   "outputs": [],
   "source": [
    "from sunpy.net import hek\n",
    "client = hek.HEKClient()\n",
    "tstart = '2013/10/01 00:00:00'\n",
    "tend = '2013/10/31 23:59:59'\n",
    "event_type = 'FE'\n",
    "eruptions = client.query(hek.attrs.Time(tstart,tend),hek.attrs.EventType(event_type))"
   ]
  },
  {
   "cell_type": "code",
   "execution_count": 11,
   "metadata": {
    "collapsed": false
   },
   "outputs": [],
   "source": [
    "eruptions?"
   ]
  },
  {
   "cell_type": "code",
   "execution_count": 1,
   "metadata": {
    "collapsed": false
   },
   "outputs": [
    {
     "name": "stdout",
     "output_type": "stream",
     "text": [
      "Ashna has been here!\n"
     ]
    }
   ],
   "source": [
    "print 'Ashna has been here!'"
   ]
  },
  {
   "cell_type": "code",
   "execution_count": 4,
   "metadata": {
    "collapsed": false
   },
   "outputs": [],
   "source": [
    "FE_poly = [elem[\"hpc_bbox\"] for elem in eruptions] "
   ]
  },
  {
   "cell_type": "code",
   "execution_count": 8,
   "metadata": {
    "collapsed": false
   },
   "outputs": [
    {
     "name": "stdout",
     "output_type": "stream",
     "text": [
      "POLYGON((159 -1127,758 -1127,758 -617,159 -617,159 -1127))\n"
     ]
    }
   ],
   "source": [
    "print FE_poly[0]"
   ]
  },
  {
   "cell_type": "code",
   "execution_count": 12,
   "metadata": {
    "collapsed": false
   },
   "outputs": [
    {
     "data": {
      "text/plain": [
       "[u'skel_startc1',\n",
       " u'concept',\n",
       " u'frm_versionnumber',\n",
       " u'hrc_coord',\n",
       " u'event_score',\n",
       " u'refs_orig',\n",
       " u'obs_lastprocessingdate',\n",
       " u'hpc_boundcc',\n",
       " u'ar_numspots',\n",
       " u'intensvar',\n",
       " u'area_atdiskcenter',\n",
       " u'hrc_boundcc',\n",
       " u'event_mapurl',\n",
       " u'event_maskurl',\n",
       " u'event_type',\n",
       " u'event_c1error',\n",
       " u'event_avg_rating',\n",
       " u'obs_dataprepurl',\n",
       " u'hgc_coord',\n",
       " u'frm_identifier',\n",
       " u'ar_compactnesscls',\n",
       " u'intenskurt',\n",
       " u'intensmean',\n",
       " u'comment_count',\n",
       " u'ar_mtwilsoncls',\n",
       " u'obs_wavelunit',\n",
       " u'event_coordunit',\n",
       " u'gs_thumburl',\n",
       " u'event_clippedspatial',\n",
       " u'event_npixels',\n",
       " u'hgs_bbox',\n",
       " u'obs_meanwavel',\n",
       " u'frm_humanflag',\n",
       " u'bound_ccnsteps',\n",
       " u'skel_curvature',\n",
       " u'hcr_checked',\n",
       " u'skel_startc2',\n",
       " u'hgs_coord',\n",
       " u'bound_chaincode',\n",
       " u'frm_daterun',\n",
       " u'event_expires',\n",
       " u'boundbox_c2ur',\n",
       " u'noposition',\n",
       " u'event_peaktime',\n",
       " u'area_raw',\n",
       " u'ar_noaanum',\n",
       " u'kb_archivist',\n",
       " u'SOL_standard',\n",
       " u'event_coordsys',\n",
       " u'hgc_boundcc',\n",
       " u'skel_chaincode',\n",
       " u'intensmedian',\n",
       " u'bound_ccstartc1',\n",
       " u'frm_paramset',\n",
       " u'bound_ccstartc2',\n",
       " u'chaincodetype',\n",
       " u'event_coord2',\n",
       " u'event_coord3',\n",
       " u'event_coord1',\n",
       " u'obs_title',\n",
       " u'event_importance',\n",
       " u'kb_archivdate',\n",
       " u'intensskew',\n",
       " u'event_title',\n",
       " u'refs',\n",
       " u'hgs_x',\n",
       " u'hrc_r',\n",
       " u'hgc_bbox',\n",
       " u'hgc_x',\n",
       " u'hgc_y',\n",
       " u'gs_galleryid',\n",
       " u'intenstotal',\n",
       " u'kb_archivid',\n",
       " u'ar_penumbracls',\n",
       " u'hrc_a',\n",
       " u'area_atdiskcenteruncert',\n",
       " u'area_unit',\n",
       " u'obs_firstprocessingdate',\n",
       " u'gs_movieurl',\n",
       " u'event_description',\n",
       " u'obs_includesnrt',\n",
       " u'eventtype',\n",
       " u'obs_channelid',\n",
       " u'skel_nsteps',\n",
       " u'rasterscan',\n",
       " u'ar_mcintoshcls',\n",
       " u'event_endtime',\n",
       " u'frm_contact',\n",
       " u'event_pixelunit',\n",
       " u'ar_noaaclass',\n",
       " u'frm_institute',\n",
       " u'boundbox_c1ur',\n",
       " u'revision',\n",
       " u'hgs_boundcc',\n",
       " u'hgs_y',\n",
       " u'boundbox_c2ll',\n",
       " u'event_probability',\n",
       " u'ar_polarity',\n",
       " u'obs_instrument',\n",
       " u'frm_specificid',\n",
       " u'hpc_x',\n",
       " u'hpc_coord',\n",
       " u'area_uncert',\n",
       " u'frm_name',\n",
       " u'obs_levelnum',\n",
       " u'obs_observatory',\n",
       " u'rasterscantype',\n",
       " u'ar_zurichcls',\n",
       " u'active',\n",
       " u'frm_url',\n",
       " u'gs_imageurl',\n",
       " u'hpc_bbox',\n",
       " u'event_starttime',\n",
       " u'event_importance_num_ratings',\n",
       " u'event_clippedtemporal',\n",
       " u'hrc_bbox',\n",
       " u'event_testflag',\n",
       " u'intensmax',\n",
       " u'hpc_y',\n",
       " u'boundbox_c1ll',\n",
       " u'intensmin',\n",
       " u'event_c2error',\n",
       " u'hpc_geom',\n",
       " u'intensunit']"
      ]
     },
     "execution_count": 12,
     "metadata": {},
     "output_type": "execute_result"
    }
   ],
   "source": [
    "eruptions[0].keys()"
   ]
  },
  {
   "cell_type": "code",
   "execution_count": 13,
   "metadata": {
    "collapsed": true
   },
   "outputs": [],
   "source": [
    "longitude = [elem[\"hpc_x\"] for elem in eruptions] \n",
    "latitude = [elem[\"hpc_y\"] for elem in eruptions] "
   ]
  },
  {
   "cell_type": "code",
   "execution_count": 14,
   "metadata": {
    "collapsed": false
   },
   "outputs": [
    {
     "name": "stdout",
     "output_type": "stream",
     "text": [
      "[-872, -300, -505, -505, -505, 889, 796, 796, 796, -321, -321, -321, -321, 620, 620, 620, 620, -297, -297, -297, -297, 1036, -684, -684, -684, -684, 1036, 1036, 650, -297, -297, -297, 865, 350, 350, 350, 350, -793, -793, -793, -356, 376, 376, -795, -795, -795, 78, -352, -352, -352]\n"
     ]
    }
   ],
   "source": [
    "print latitude"
   ]
  },
  {
   "cell_type": "code",
   "execution_count": 15,
   "metadata": {
    "collapsed": true
   },
   "outputs": [],
   "source": [
    "start_time = [elem[\"event_starttime\"] for elem in eruptions] "
   ]
  },
  {
   "cell_type": "code",
   "execution_count": 22,
   "metadata": {
    "collapsed": false
   },
   "outputs": [
    {
     "name": "stdout",
     "output_type": "stream",
     "text": [
      "[u'2013-10-06T18:06:03', u'2013-10-06T18:06:03', u'2013-10-06T18:06:03']\n"
     ]
    }
   ],
   "source": [
    "print start_time[2:5]"
   ]
  },
  {
   "cell_type": "code",
   "execution_count": 17,
   "metadata": {
    "collapsed": true
   },
   "outputs": [],
   "source": [
    "wavelength = [elem[\"obs_meanwavel\"] for elem in eruptions] "
   ]
  },
  {
   "cell_type": "code",
   "execution_count": 21,
   "metadata": {
    "collapsed": false
   },
   "outputs": [
    {
     "name": "stdout",
     "output_type": "stream",
     "text": [
      "[2.1099999685247894e-06, 0, 3.04e-06]\n"
     ]
    }
   ],
   "source": [
    "print wavelength[2:5]"
   ]
  },
  {
   "cell_type": "code",
   "execution_count": null,
   "metadata": {
    "collapsed": true
   },
   "outputs": [],
   "source": []
  }
 ],
 "metadata": {
  "kernelspec": {
   "display_name": "Python 2",
   "language": "python",
   "name": "python2"
  },
  "language_info": {
   "codemirror_mode": {
    "name": "ipython",
    "version": 2
   },
   "file_extension": ".py",
   "mimetype": "text/x-python",
   "name": "python",
   "nbconvert_exporter": "python",
   "pygments_lexer": "ipython2",
   "version": "2.7.10"
  }
 },
 "nbformat": 4,
 "nbformat_minor": 0
}
