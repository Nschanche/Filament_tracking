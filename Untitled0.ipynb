{
 "cells": [
  {
   "cell_type": "markdown",
   "metadata": {},
   "source": []
  },
  {
   "cell_type": "code",
   "execution_count": 1,
   "metadata": {
    "collapsed": false
   },
   "outputs": [],
   "source": [
    "###### This is a practice file, containing \n",
    "#Week 1: Filtering filament eruption data to unique data\n",
    "#Week 2: "
   ]
  },
  {
   "cell_type": "code",
   "execution_count": 2,
   "metadata": {
    "collapsed": false
   },
   "outputs": [
    {
     "name": "stdout",
     "output_type": "stream",
     "text": [
      "(23, 1)\n"
     ]
    }
   ],
   "source": [
    "from sunpy.net import hek\n",
    "from sunpy.net import hek2vso\n",
    "#################################\n",
    "client = hek.HEKClient()\n",
    "h2v = hek2vso.H2VClient()\n",
    "#################################\n",
    "tstart = '2011/08/09 07:23:56'\n",
    "tend = '2011/09/09 12:40:29'\n",
    "event_type = 'FE'\n",
    "result = client.query(hek.attrs.Time(tstart,tend),hek.attrs.EventType(event_type))\n",
    "len(result)\n",
    "vso_records = h2v.translate_and_query(result[10])\n",
    "len(vso_records)\n",
    "print(len(result), len(vso_records))\n"
   ]
  },
  {
   "cell_type": "code",
   "execution_count": 6,
   "metadata": {
    "collapsed": false
   },
   "outputs": [],
   "source": [
    "import matplotlib.pyplot as plt\n",
    "%matplotlib inline"
   ]
  },
  {
   "cell_type": "code",
   "execution_count": 2,
   "metadata": {
    "collapsed": true
   },
   "outputs": [],
   "source": [
    "###### the following is the code ashna has written to filter out single filament eruptions recorded at different wavelengths\n",
    "from sunpy.net import hek\n",
    "client = hek.HEKClient()\n",
    "tstart = '2013/10/01 00:00:00'\n",
    "tend = '2013/10/31 23:59:59'\n",
    "event_type = 'FE'\n",
    "eruptions = client.query(hek.attrs.Time(tstart,tend),hek.attrs.EventType(event_type))\n",
    "\n"
   ]
  },
  {
   "cell_type": "code",
   "execution_count": 8,
   "metadata": {
    "collapsed": false
   },
   "outputs": [
    {
     "name": "stdout",
     "output_type": "stream",
     "text": [
      "POLYGON((159 -1127,758 -1127,758 -617,159 -617,159 -1127))\n",
      "POINT(459 -872)\n",
      "yay!\n"
     ]
    }
   ],
   "source": [
    "import shapely\n",
    "from shapely.wkt import dumps, loads\n",
    "FE_poly = [elem[\"hpc_bbox\"] for elem in eruptions] \n",
    "a = FE_poly[0]\n",
    "print a\n",
    "FE_coords = [elem[\"hpc_coord\"] for elem in eruptions] \n",
    "print FE_coords[0]\n",
    "FE_poly_obj = loads(a)\n",
    "FE_point_obj = loads(FE_coords[0])\n",
    "if FE_poly_obj.contains(FE_point_obj):\n",
    "    print \"yay!\""
   ]
  },
  {
   "cell_type": "code",
   "execution_count": 5,
   "metadata": {
    "collapsed": false
   },
   "outputs": [
    {
     "data": {
      "text/plain": [
       "[u'skel_startc1',\n",
       " u'concept',\n",
       " u'frm_versionnumber',\n",
       " u'gs_movieurl',\n",
       " u'hrc_coord',\n",
       " u'event_score',\n",
       " u'refs_orig',\n",
       " u'obs_lastprocessingdate',\n",
       " u'hpc_bbox',\n",
       " u'ar_numspots',\n",
       " u'intensvar',\n",
       " u'area_atdiskcenter',\n",
       " u'event_mapurl',\n",
       " u'event_maskurl',\n",
       " u'event_type',\n",
       " u'event_c1error',\n",
       " u'ar_compactnesscls',\n",
       " u'obs_dataprepurl',\n",
       " u'hgc_coord',\n",
       " u'frm_identifier',\n",
       " u'intensmean',\n",
       " u'comment_count',\n",
       " u'ar_mtwilsoncls',\n",
       " u'boundbox_c2ur',\n",
       " u'event_coordunit',\n",
       " u'gs_thumburl',\n",
       " u'event_avg_rating',\n",
       " u'event_clippedspatial',\n",
       " u'event_npixels',\n",
       " u'obs_meanwavel',\n",
       " u'frm_humanflag',\n",
       " u'bound_ccnsteps',\n",
       " u'skel_curvature',\n",
       " u'hcr_checked',\n",
       " u'skel_startc2',\n",
       " u'obs_wavelunit',\n",
       " u'hgs_coord',\n",
       " u'bound_chaincode',\n",
       " u'frm_daterun',\n",
       " u'event_expires',\n",
       " u'noposition',\n",
       " u'event_peaktime',\n",
       " u'area_raw',\n",
       " u'kb_archivist',\n",
       " u'SOL_standard',\n",
       " u'event_coordsys',\n",
       " u'hgc_boundcc',\n",
       " u'gs_galleryid',\n",
       " u'intensmedian',\n",
       " u'bound_ccstartc1',\n",
       " u'frm_paramset',\n",
       " u'bound_ccstartc2',\n",
       " u'chaincodetype',\n",
       " u'event_coord2',\n",
       " u'event_coord3',\n",
       " u'event_coord1',\n",
       " u'obs_title',\n",
       " u'event_importance',\n",
       " u'kb_archivdate',\n",
       " u'intensskew',\n",
       " u'event_title',\n",
       " u'refs',\n",
       " u'hgs_x',\n",
       " u'hrc_r',\n",
       " u'hgc_bbox',\n",
       " u'hgc_x',\n",
       " u'hgc_y',\n",
       " u'skel_chaincode',\n",
       " u'intenstotal',\n",
       " u'kb_archivid',\n",
       " u'ar_penumbracls',\n",
       " u'hrc_a',\n",
       " u'area_atdiskcenteruncert',\n",
       " u'area_unit',\n",
       " u'obs_firstprocessingdate',\n",
       " u'hrc_boundcc',\n",
       " u'event_description',\n",
       " u'event_endtime',\n",
       " u'hrc_bbox',\n",
       " u'hpc_boundcc',\n",
       " u'eventtype',\n",
       " u'obs_channelid',\n",
       " u'skel_nsteps',\n",
       " u'rasterscan',\n",
       " u'ar_mcintoshcls',\n",
       " u'frm_institute',\n",
       " u'frm_contact',\n",
       " u'event_pixelunit',\n",
       " u'ar_noaaclass',\n",
       " u'ar_noaanum',\n",
       " u'boundbox_c1ur',\n",
       " u'revision',\n",
       " u'hgs_boundcc',\n",
       " u'hgs_y',\n",
       " u'boundbox_c2ll',\n",
       " u'intenskurt',\n",
       " u'ar_polarity',\n",
       " u'obs_instrument',\n",
       " u'frm_specificid',\n",
       " u'hpc_x',\n",
       " u'hpc_coord',\n",
       " u'rasterscantype',\n",
       " u'frm_name',\n",
       " u'event_testflag',\n",
       " u'obs_observatory',\n",
       " u'area_uncert',\n",
       " u'ar_zurichcls',\n",
       " u'active',\n",
       " u'frm_url',\n",
       " u'event_probability',\n",
       " u'gs_imageurl',\n",
       " u'hgs_bbox',\n",
       " u'event_starttime',\n",
       " u'event_importance_num_ratings',\n",
       " u'event_clippedtemporal',\n",
       " u'obs_includesnrt',\n",
       " u'obs_levelnum',\n",
       " u'intensmax',\n",
       " u'hpc_y',\n",
       " u'boundbox_c1ll',\n",
       " u'intensmin',\n",
       " u'event_c2error',\n",
       " u'hpc_geom',\n",
       " u'intensunit']"
      ]
     },
     "execution_count": 5,
     "metadata": {},
     "output_type": "execute_result"
    }
   ],
   "source": [
    "eruptions?\n",
    "eruptions[0].keys()"
   ]
  },
  {
   "cell_type": "code",
   "execution_count": 3,
   "metadata": {
    "collapsed": false
   },
   "outputs": [
    {
     "name": "stdout",
     "output_type": "stream",
     "text": [
      "[0, 1, 2, 5, 6, 9, 13, 17, 21, 28, 29, 32, 33, 37, 40, 41, 43, 46, 47]\n"
     ]
    }
   ],
   "source": [
    "times=[elem[\"event_starttime\"] for elem in eruptions] \n",
    "result=[]\n",
    "indices=[]\n",
    "### the following loop will remove identical eruptions that have been recorded at different wavelengths by sorting with time\n",
    "for element in times:\n",
    "    if element not in result:\n",
    "        indices.append((times.index(element)))\n",
    "        result.append(element)\n",
    "print indices"
   ]
  },
  {
   "cell_type": "code",
   "execution_count": 4,
   "metadata": {
    "collapsed": false
   },
   "outputs": [
    {
     "name": "stdout",
     "output_type": "stream",
     "text": [
      "19\n"
     ]
    }
   ],
   "source": [
    "filtered=[eruptions[i] for i in indices] #creates a filtered list of objects that are not indentical\n",
    "print(len(filtered))\n"
   ]
  },
  {
   "cell_type": "code",
   "execution_count": 7,
   "metadata": {
    "collapsed": false
   },
   "outputs": [
    {
     "data": {
      "image/png": "[encoded data removed]",
      "text/plain": [
       "<matplotlib.figure.Figure at 0x10ee76f90>"
      ]
     },
     "metadata": {},
     "output_type": "display_data"
    },
    {
     "data": {
      "text/plain": [
       "<matplotlib.figure.Figure at 0x10bba6d50>"
      ]
     },
     "metadata": {},
     "output_type": "display_data"
    }
   ],
   "source": [
    "import matplotlib.pyplot as plt\n",
    "import numpy as np\n",
    "longitude = [elem[\"hpc_x\"] for elem in filtered]\n",
    "latitude = [elem[\"hpc_y\"] for elem in filtered]\n",
    "fig=plt.scatter(longitude,latitude,color='gray',s=50)\n",
    "#ax=fig.add_subplot(1,1,1)\n",
    "Sun=plt.Circle((0,0), radius=1100, color='black', fill=False)\n",
    "plt.gcf().gca().add_artist(Sun)\n",
    "plt.ylabel('arcsec')\n",
    "plt.xlabel('arcsec')\n",
    "plt.ylim(-1500, 1500)\n",
    "plt.title('Filament Eruptions on the Sun October 2013')\n",
    "fig1 = plt.gcf()\n",
    "ax = fig1.add_subplot(111)\n",
    "ax.set_aspect('equal')\n",
    "plt.show()\n",
    "plt.savefig('FEOctober2013.png')"
   ]
  },
  {
   "cell_type": "code",
   "execution_count": null,
   "metadata": {
    "collapsed": true
   },
   "outputs": [],
   "source": [
    "####### trying to make this code useful for any month/year (not just October 2013) see \"Untitled\"\n",
    "\n"
   ]
  },
  {
   "cell_type": "code",
   "execution_count": null,
   "metadata": {
    "collapsed": false
   },
   "outputs": [],
   "source": [
    "f=open('FIDustinTracked_2013_10.txt', 'r')\n",
    "f.read()"
   ]
  },
  {
   "cell_type": "code",
   "execution_count": null,
   "metadata": {
    "collapsed": true
   },
   "outputs": [],
   "source": [
    "import shapely"
   ]
  },
  {
   "cell_type": "code",
   "execution_count": null,
   "metadata": {
    "collapsed": false
   },
   "outputs": [],
   "source": [
    "f=open('FIDustinTracked_2013_10.txt', 'r')\n",
    "#f.read()\n",
    "solardata = []\n",
    "for line in f.readlines():\n",
    "    y = [value for value in line.split()]\n",
    "    solardata.append(y)\n",
    "f.close()\n",
    "print solardata[0]\n",
    "print solardata[1]\n",
    "\n",
    "for i in range(1,20):\n",
    "    print solardata[i].split(',')"
   ]
  },
  {
   "cell_type": "code",
   "execution_count": null,
   "metadata": {
    "collapsed": false
   },
   "outputs": [],
   "source": [
    "tracks=[]\n",
    "holder=[]\n",
    "count=0\n",
    "#for i in range(1,20):\n",
    " #   print solardata[i]\n",
    "import numpy as np\n",
    "solararray=np.asarray(solardata)\n",
    "solararray.shape\n",
    "#solararray[:,1]\n",
    "#print solararray\n",
    "#first_column_items = [solardata[1] for row in range(1,20)]\n",
    "#print first_column_items"
   ]
  },
  {
   "cell_type": "code",
   "execution_count": null,
   "metadata": {
    "collapsed": false
   },
   "outputs": [],
   "source": [
    "import numpy as np\n",
    "data = np.loadtxt('FIDustinTracked_2013_10.txt')\n",
    "print data"
   ]
  },
  {
   "cell_type": "code",
   "execution_count": null,
   "metadata": {
    "collapsed": true
   },
   "outputs": [],
   "source": []
  }
 ],
 "metadata": {
  "kernelspec": {
   "display_name": "Python 2",
   "language": "python",
   "name": "python2"
  },
  "language_info": {
   "codemirror_mode": {
    "name": "ipython",
    "version": 2
   },
   "file_extension": ".py",
   "mimetype": "text/x-python",
   "name": "python",
   "nbconvert_exporter": "python",
   "pygments_lexer": "ipython2",
   "version": "2.7.10"
  }
 },
 "nbformat": 4,
 "nbformat_minor": 0
}
