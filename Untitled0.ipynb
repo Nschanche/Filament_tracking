{
 "cells": [
  {
   "cell_type": "markdown",
   "metadata": {},
   "source": []
  },
  {
   "cell_type": "code",
   "execution_count": 9,
   "metadata": {
    "collapsed": false
   },
   "outputs": [],
   "source": [
    "###### This is a practice file, containing \n",
    "#Week 1: Filtering filament eruption data to unique data\n",
    "#Week 2: \n",
    "from sunpy.net import hek\n",
    "from sunpy.net import hek2vso\n",
    "import matplotlib.pyplot as plt\n",
    "%matplotlib inline\n",
    "#matplotlib qt\n",
    "import shapely\n",
    "from shapely.wkt import dumps, loads\n",
    "import numpy as np\n",
    "import pandas as pd\n",
    "from shapely.geometry.polygon import LinearRing, Polygon\n",
    "from datetime import timedelta\n",
    "import datetime\n",
    "from sunpy.time import *\n",
    "#pylab.rcParams['figure.figsize'] = 16, 12\n",
    "from dateutil.parser import parse\n",
    "import matplotlib.cm as cm\n",
    "import matplotlib as mpl"
   ]
  },
  {
   "cell_type": "code",
   "execution_count": null,
   "metadata": {
    "collapsed": true
   },
   "outputs": [],
   "source": []
  },
  {
   "cell_type": "markdown",
   "metadata": {},
   "source": []
  },
  {
   "cell_type": "code",
   "execution_count": 10,
   "metadata": {
    "collapsed": true
   },
   "outputs": [],
   "source": [
    "###### the following is the code ashna has written to filter out single filament eruptions recorded at different wavelengths\n",
    "from sunpy.net import hek\n",
    "client = hek.HEKClient()\n",
    "h2v = hek2vso.H2VClient()\n",
    "tstart = '2013/10/01 00:00:00'\n",
    "tend = '2013/10/31 23:59:59'\n",
    "event_type = 'FE'\n",
    "eruptions = client.query(hek.attrs.Time(tstart,tend),hek.attrs.EventType(event_type))\n",
    "vso_records = h2v.translate_and_query(eruptions[10])\n",
    "\n"
   ]
  },
  {
   "cell_type": "code",
   "execution_count": 11,
   "metadata": {
    "collapsed": false
   },
   "outputs": [],
   "source": [
    " ###Kathy's Plotting function    \n",
    "def SetupSunPlot(eruptions, trackno, filament):\n",
    "    plt.grid(True)\n",
    "    plt.ylabel('ycoord (arcsec)',fontsize=18)\n",
    "    plt.xlabel('xcoord (arcsec)',fontsize=18)\n",
    "    plt.axis([-1500, 1500, -1500, 1500])\n",
    "    longitude = [elem[\"hpc_x\"] for elem in eruptions]\n",
    "    latitude = [elem[\"hpc_y\"] for elem in eruptions]\n",
    "    fig=plt.scatter(longitude,latitude,color='gray',s=50)\n",
    "    Circle1 = plt.Circle((0,0), radius=1000, linestyle='solid', linewidth=2, fill=False)\n",
    "    fig1 = plt.gcf()\n",
    "    fig1.gca().add_artist(Circle1)\n",
    "    fig1.set_size_inches(10.5,10.5)\n",
    "    ax = fig1.add_subplot(111)\n",
    "    ax.set_aspect('equal')\n",
    "    ax.tick_params(axis='both', which='major', labelsize=14)\n",
    "    plt.title('Filament Eruptions and Tracks on the Sun, October 2013')\n",
    "    if trackno <= 5.0:\n",
    "        plot_polygon=plt.Polygon(loads(filament).exterior,color='red',linewidth=1,fill=None)\n",
    "        fig1.gca().add_artist(plot_polygon)\n",
    "    if trackno > 5.0 and trackno <= 20.0:\n",
    "        plot_polygon=plt.Polygon(loads(filament).exterior,color='orange',linewidth=1,fill=None)\n",
    "        fig1.gca().add_artist(plot_polygon)\n",
    "    if trackno > 20.0 and trackno <= 50.0:\n",
    "        plot_polygon=plt.Polygon(loads(filament).exterior,color='blue',linewidth=1,fill=None)\n",
    "        fig1.gca().add_artist(plot_polygon)\n",
    "    if trackno <= 100.0 and trackno > 50.0:\n",
    "        plot_polygon=plt.Polygon(loads(filament).exterior,color='magenta',linewidth=1,fill=None)\n",
    "        fig1.gca().add_artist(plot_polygon)\n",
    "    if trackno > 100.0 and trackno <= 127.0:\n",
    "        plot_polygon=plt.Polygon(loads(filament).exterior,color='cyan',linewidth=1,fill=None)\n",
    "        fig1.gca().add_artist(plot_polygon)\n",
    "    if trackno <= 167.0 and trackno > 127:\n",
    "        plot_polygon=plt.Polygon(loads(filament).exterior,color='indigo',linewidth=1,fill=None)\n",
    "        fig1.gca().add_artist(plot_polygon)\n",
    "    if trackno >= 209.0:\n",
    "        plot_polygon=plt.Polygon(loads(filament).exterior,color='green',linewidth=1,fill=None)\n",
    "        fig1.gca().add_artist(plot_polygon) \n",
    "    ###################################################\n",
    "    #norm = mpl.colors.Normalize(vmin=0, vmax=280)\n",
    "    #cmap = plt.get_cmap('jet')\n",
    "    #m = cm.ScalarMappable(norm=norm, cmap=cmap)\n",
    "    #scale= m.to_rgba(color)\n",
    "    #plot_polygon=plt.Polygon(loads(filament).exterior,color=scale,linewidth=1,fill=None)\n",
    "    \n",
    "def SetupSunPlotBox(eruptions, trackno, filament):\n",
    "    plt.grid(True)\n",
    "    plt.ylabel('ycoord (arcsec)',fontsize=18)\n",
    "    plt.xlabel('xcoord (arcsec)',fontsize=18)\n",
    "    plt.axis([-1500, 1500, -1500, 1500])\n",
    "    longitude = [elem[\"hpc_x\"] for elem in eruptions]\n",
    "    latitude = [elem[\"hpc_y\"] for elem in eruptions]\n",
    "    fig=plt.scatter(longitude,latitude,color='gray',s=50) \n",
    "    Circle1 = plt.Circle((0,0), radius=1000, linestyle='solid', linewidth=2, fill=False)\n",
    "    fig1 = plt.gcf()\n",
    "    fig1.gca().add_artist(Circle1)\n",
    "    fig1.set_size_inches(10.5,10.5)\n",
    "    ax = fig1.add_subplot(111)\n",
    "    ax.set_aspect('equal')\n",
    "    ax.tick_params(axis='both', which='major', labelsize=14)\n",
    "    plt.title('Filament Eruptions (Bounds) that Intersect Filaments, October 2013')\n",
    "    box = [elem[\"hpc_bbox\"] for elem in eruptions]\n",
    "    for elem in box:\n",
    "        plot_box=plt.Polygon(loads(elem).exterior,color='black',linewidth=1,fill=None)\n",
    "        fig1.gca().add_artist(plot_box) \n",
    "    if trackno <= 5.0:\n",
    "        plot_polygon=plt.Polygon(loads(filament).exterior,color='red',linewidth=1,fill=None)\n",
    "        fig1.gca().add_artist(plot_polygon)\n",
    "    if trackno > 5.0 and trackno <= 20.0:\n",
    "        plot_polygon=plt.Polygon(loads(filament).exterior,color='orange',linewidth=1,fill=None)\n",
    "        fig1.gca().add_artist(plot_polygon)\n",
    "    if trackno > 20.0 and trackno <= 50.0:\n",
    "        plot_polygon=plt.Polygon(loads(filament).exterior,color='blue',linewidth=1,fill=None)\n",
    "        fig1.gca().add_artist(plot_polygon)\n",
    "    if trackno <= 100.0 and trackno > 50.0:\n",
    "        plot_polygon=plt.Polygon(loads(filament).exterior,color='magenta',linewidth=1,fill=None)\n",
    "        fig1.gca().add_artist(plot_polygon)\n",
    "    if trackno > 100.0 and trackno <= 127.0:\n",
    "        plot_polygon=plt.Polygon(loads(filament).exterior,color='cyan',linewidth=1,fill=None)\n",
    "        fig1.gca().add_artist(plot_polygon)\n",
    "    if trackno <= 167.0 and trackno > 127:\n",
    "        plot_polygon=plt.Polygon(loads(filament).exterior,color='indigo',linewidth=1,fill=None)\n",
    "        fig1.gca().add_artist(plot_polygon)\n",
    "    if trackno >= 209.0:\n",
    "        plot_polygon=plt.Polygon(loads(filament).exterior,color='green',linewidth=1,fill=None)\n",
    "        fig1.gca().add_artist(plot_polygon) "
   ]
  },
  {
   "cell_type": "code",
   "execution_count": 12,
   "metadata": {
    "collapsed": false
   },
   "outputs": [
    {
     "data": {
      "text/plain": [
       "[u'skel_startc1',\n",
       " u'concept',\n",
       " u'frm_versionnumber',\n",
       " u'gs_movieurl',\n",
       " u'hrc_coord',\n",
       " u'event_score',\n",
       " u'refs_orig',\n",
       " u'obs_lastprocessingdate',\n",
       " u'hpc_bbox',\n",
       " u'ar_numspots',\n",
       " u'intensvar',\n",
       " u'area_atdiskcenter',\n",
       " u'event_mapurl',\n",
       " u'event_maskurl',\n",
       " u'event_type',\n",
       " u'event_c1error',\n",
       " u'ar_compactnesscls',\n",
       " u'obs_dataprepurl',\n",
       " u'hgc_coord',\n",
       " u'frm_identifier',\n",
       " u'intensmean',\n",
       " u'comment_count',\n",
       " u'ar_mtwilsoncls',\n",
       " u'boundbox_c2ur',\n",
       " u'event_coordunit',\n",
       " u'gs_thumburl',\n",
       " u'event_avg_rating',\n",
       " u'event_clippedspatial',\n",
       " u'event_npixels',\n",
       " u'obs_meanwavel',\n",
       " u'frm_humanflag',\n",
       " u'bound_ccnsteps',\n",
       " u'skel_curvature',\n",
       " u'hcr_checked',\n",
       " u'skel_startc2',\n",
       " u'obs_wavelunit',\n",
       " u'hgs_coord',\n",
       " u'bound_chaincode',\n",
       " u'frm_daterun',\n",
       " u'event_expires',\n",
       " u'noposition',\n",
       " u'event_peaktime',\n",
       " u'area_raw',\n",
       " u'kb_archivist',\n",
       " u'SOL_standard',\n",
       " u'event_coordsys',\n",
       " u'hgc_boundcc',\n",
       " u'gs_galleryid',\n",
       " u'intensmedian',\n",
       " u'bound_ccstartc1',\n",
       " u'frm_paramset',\n",
       " u'bound_ccstartc2',\n",
       " u'chaincodetype',\n",
       " u'event_coord2',\n",
       " u'event_coord3',\n",
       " u'event_coord1',\n",
       " u'obs_title',\n",
       " u'event_importance',\n",
       " u'kb_archivdate',\n",
       " u'intensskew',\n",
       " u'event_title',\n",
       " u'refs',\n",
       " u'hgs_x',\n",
       " u'hrc_r',\n",
       " u'hgc_bbox',\n",
       " u'hgc_x',\n",
       " u'hgc_y',\n",
       " u'skel_chaincode',\n",
       " u'intenstotal',\n",
       " u'kb_archivid',\n",
       " u'ar_penumbracls',\n",
       " u'hrc_a',\n",
       " u'area_atdiskcenteruncert',\n",
       " u'area_unit',\n",
       " u'obs_firstprocessingdate',\n",
       " u'hrc_boundcc',\n",
       " u'event_description',\n",
       " u'event_endtime',\n",
       " u'hrc_bbox',\n",
       " u'hpc_boundcc',\n",
       " u'eventtype',\n",
       " u'obs_channelid',\n",
       " u'skel_nsteps',\n",
       " u'rasterscan',\n",
       " u'ar_mcintoshcls',\n",
       " u'frm_institute',\n",
       " u'frm_contact',\n",
       " u'event_pixelunit',\n",
       " u'ar_noaaclass',\n",
       " u'ar_noaanum',\n",
       " u'boundbox_c1ur',\n",
       " u'revision',\n",
       " u'hgs_boundcc',\n",
       " u'hgs_y',\n",
       " u'boundbox_c2ll',\n",
       " u'intenskurt',\n",
       " u'ar_polarity',\n",
       " u'obs_instrument',\n",
       " u'frm_specificid',\n",
       " u'hpc_x',\n",
       " u'hpc_coord',\n",
       " u'rasterscantype',\n",
       " u'frm_name',\n",
       " u'event_testflag',\n",
       " u'obs_observatory',\n",
       " u'area_uncert',\n",
       " u'ar_zurichcls',\n",
       " u'active',\n",
       " u'frm_url',\n",
       " u'event_probability',\n",
       " u'gs_imageurl',\n",
       " u'hgs_bbox',\n",
       " u'event_starttime',\n",
       " u'event_importance_num_ratings',\n",
       " u'event_clippedtemporal',\n",
       " u'obs_includesnrt',\n",
       " u'obs_levelnum',\n",
       " u'intensmax',\n",
       " u'hpc_y',\n",
       " u'boundbox_c1ll',\n",
       " u'intensmin',\n",
       " u'event_c2error',\n",
       " u'hpc_geom',\n",
       " u'intensunit']"
      ]
     },
     "execution_count": 12,
     "metadata": {},
     "output_type": "execute_result"
    }
   ],
   "source": [
    "eruptions[0].keys()"
   ]
  },
  {
   "cell_type": "code",
   "execution_count": 13,
   "metadata": {
    "collapsed": false
   },
   "outputs": [
    {
     "name": "stdout",
     "output_type": "stream",
     "text": [
      "[0, 1, 2, 5, 6, 9, 13, 17, 21, 28, 29, 32, 33, 37, 40, 41, 43, 46, 47]\n"
     ]
    }
   ],
   "source": [
    "times=[elem[\"event_starttime\"] for elem in eruptions] \n",
    "result=[]\n",
    "indices=[]\n",
    "### the following loop will remove identical eruptions that have been recorded at different wavelengths by sorting with time\n",
    "for element in times:\n",
    "    if element not in result:\n",
    "        indices.append((times.index(element)))\n",
    "        result.append(element)\n",
    "print indices\n",
    "filtered=[eruptions[i] for i in indices] #creates a filtered list of objects that are not indentical"
   ]
  },
  {
   "cell_type": "code",
   "execution_count": 14,
   "metadata": {
    "collapsed": false
   },
   "outputs": [
    {
     "data": {
      "image/png": "[encoded data removed]",
      "text/plain": [
       "<matplotlib.figure.Figure at 0x10d4ea610>"
      ]
     },
     "metadata": {},
     "output_type": "display_data"
    },
    {
     "data": {
      "text/plain": [
       "<matplotlib.figure.Figure at 0x10ee42550>"
      ]
     },
     "metadata": {},
     "output_type": "display_data"
    }
   ],
   "source": [
    "longitude = [elem[\"hpc_x\"] for elem in filtered]\n",
    "latitude = [elem[\"hpc_y\"] for elem in filtered]\n",
    "fig=plt.scatter(longitude,latitude,color='gray',s=50)\n",
    "#ax=fig.add_subplot(1,1,1)\n",
    "Sun=plt.Circle((0,0), radius=1100, color='black', fill=False)\n",
    "plt.gcf().gca().add_artist(Sun)\n",
    "plt.ylabel('arcsec')\n",
    "plt.xlabel('arcsec')\n",
    "plt.ylim(-1500, 1500)\n",
    "plt.title('Filament Eruptions on the Sun October 2013')\n",
    "fig1 = plt.gcf()\n",
    "ax = fig1.add_subplot(111)\n",
    "ax.set_aspect('equal')\n",
    "plt.show()\n",
    "plt.savefig('FEOctober2013.png')"
   ]
  },
  {
   "cell_type": "markdown",
   "metadata": {},
   "source": [
    "# The following kernel reads in the tracking document, groups the data by track number, and adds  \"null\" data for all tracks that have less than three entries. "
   ]
  },
  {
   "cell_type": "code",
   "execution_count": 16,
   "metadata": {
    "collapsed": false,
    "scrolled": true
   },
   "outputs": [],
   "source": [
    "fi_tracked = pd.read_csv('FIDustinTracked_2013_10.txt',delimiter='\\t')\n",
    "fi_tracked.head()\n",
    "tracks=fi_tracked['Track No.']\n",
    "good_tracks = fi_tracked.groupby('Track No.').filter(lambda x: len(x['Track No.']) >= 3, dropna=False) \n",
    "\n",
    "\n"
   ]
  },
  {
   "cell_type": "markdown",
   "metadata": {},
   "source": [
    "# This is Kathy's code to find if an eruption is contained within a polygon "
   ]
  },
  {
   "cell_type": "code",
   "execution_count": 17,
   "metadata": {
    "collapsed": false
   },
   "outputs": [
    {
     "name": "stdout",
     "output_type": "stream",
     "text": [
      "POLYGON((-964 -502,-473 -502,-473 -99,-964 -99,-964 -502))\n",
      "POINT(459 -872)\n"
     ]
    }
   ],
   "source": [
    "FE_poly = [elem[\"hpc_bbox\"] for elem in eruptions] \n",
    "a = FE_poly[1]\n",
    "print a\n",
    "FE_coords = [elem[\"hpc_coord\"] for elem in eruptions] \n",
    "print FE_coords[0]\n",
    "FE_poly_obj = loads(a)\n",
    "FE_point_obj = loads(FE_coords[0])\n",
    "if FE_poly_obj.contains(FE_point_obj):\n",
    "    print \"This means that the eruption point is contained in the eruption polygon\""
   ]
  },
  {
   "cell_type": "markdown",
   "metadata": {},
   "source": [
    "# The following kernel looks at both \"good tracks\" (tracks with 3 or more elements) and \"filtered\" eruption data (data that does not occur at multiple wavelengths). The code loops through the list of filtered eruptions and checks if any eruption is contained inside a good track (also iterated through with a loop). "
   ]
  },
  {
   "cell_type": "code",
   "execution_count": 37,
   "metadata": {
    "collapsed": false,
    "scrolled": false
   },
   "outputs": [
    {
     "name": "stdout",
     "output_type": "stream",
     "text": [
      "This means that the eruption point is contained in the filament polygon\n",
      "This means that the eruption point is contained in the filament polygon\n",
      "[16.0, 127.0]\n"
     ]
    }
   ],
   "source": [
    "margin = datetime.timedelta(hours=12)             \n",
    "FT_time = good_tracks['HEK_time']    #Finds the time stamps for all the filaments\n",
    "FE_time = [elem[\"event_starttime\"] for elem in filtered] #Finds the time stamps for all the eruptions\n",
    "FT_poly = good_tracks['HPC_BB_Poly']    #Finds the polygon coordinates for the good_tracks\n",
    "FE_coords = [elem[\"hpc_coord\"] for elem in filtered] #Finds the point coordinates for the filtered eruptions \n",
    "contained=[]    ####This will be a helpful list for finding which tracks have eruptions contained inthem \n",
    "for j in range(0, len(FE_coords)):    #looks at all possible eruptions \n",
    "    FET=(parse_time(FE_time[j])) \n",
    "    FE_point_obj = loads(FE_coords[j]) #creates a shapely point object\n",
    "    for i in range(0, len(FT_poly)):  #looks at all possible tracks \n",
    "        if pd.isnull(FT_poly[i]):   #skips over tracks of less than 3 elements \n",
    "            pass\n",
    "        else:   \n",
    "            FLT=parse(FT_time[i]) \n",
    "            FT_poly_obj = loads(FT_poly[i])   #creates polygon object from track\n",
    "            if FT_poly_obj.contains(FE_point_obj) and FET-margin <= FLT <= FET + margin: #checks if point is contained in polygon \n",
    "                contained.append(good_tracks['Track No.'][i])   #finds the track number of these tracks \n",
    "                print \"This means that the eruption point is contained in the filament polygon\"       \n",
    "print contained   \n",
    "    "
   ]
  },
  {
   "cell_type": "markdown",
   "metadata": {},
   "source": [
    "# The following kernel looks at both \"good tracks\" (tracks with 3 or more elements) and \"filtered\" eruption data. The code loops through the list of filtered eruption and checks if any eruption occurs near the start time of a filament (also iterated through with a loop)"
   ]
  },
  {
   "cell_type": "code",
   "execution_count": 36,
   "metadata": {
    "collapsed": false
   },
   "outputs": [
    {
     "name": "stdout",
     "output_type": "stream",
     "text": [
      "2013-10-02 23:10:03 2013-10-02 18:53:22\n",
      "2013-10-02 23:10:03 2013-10-02 18:53:22\n",
      "2013-10-02 23:10:03 2013-10-02 18:53:22\n",
      "2013-10-02 23:10:03 2013-10-02 18:53:22\n",
      "2013-10-02 23:10:03 2013-10-02 18:53:22\n",
      "2013-10-02 23:10:03 2013-10-02 18:53:22\n",
      "2013-10-02 23:10:03 2013-10-02 18:53:22\n",
      "2013-10-02 23:10:03 2013-10-02 18:53:22\n",
      "2013-10-02 23:10:03 2013-10-02 18:53:22\n",
      "2013-10-02 23:10:03 2013-10-02 18:53:22\n",
      "2013-10-02 23:10:03 2013-10-02 18:53:22\n",
      "2013-10-02 23:10:03 2013-10-02 18:53:22\n",
      "2013-10-06 18:06:03 2013-10-06 18:26:57\n",
      "2013-10-06 18:06:03 2013-10-06 18:26:57\n",
      "2013-10-06 18:06:03 2013-10-06 18:26:57\n",
      "2013-10-06 18:06:03 2013-10-06 18:26:57\n",
      "2013-10-06 18:06:03 2013-10-06 18:26:57\n",
      "2013-10-06 18:06:03 2013-10-06 18:26:57\n",
      "2013-10-06 18:06:03 2013-10-06 18:26:57\n",
      "2013-10-06 18:06:03 2013-10-06 18:26:57\n",
      "2013-10-06 18:06:03 2013-10-06 18:26:57\n",
      "2013-10-06 18:06:03 2013-10-06 18:26:57\n",
      "2013-10-06 18:06:03 2013-10-06 18:26:57\n",
      "2013-10-06 18:06:03 2013-10-06 18:26:57\n",
      "2013-10-06 18:06:03 2013-10-06 18:26:57\n",
      "2013-10-06 18:06:03 2013-10-06 18:26:57\n",
      "2013-10-06 18:06:03 2013-10-06 18:26:57\n",
      "2013-10-06 18:06:03 2013-10-06 18:26:57\n",
      "2013-10-06 18:06:03 2013-10-06 18:26:57\n",
      "2013-10-06 18:06:03 2013-10-06 18:26:57\n",
      "2013-10-06 18:06:03 2013-10-06 18:26:57\n",
      "2013-10-07 06:57:35 2013-10-07 12:28:11\n",
      "2013-10-07 06:57:35 2013-10-07 12:28:11\n",
      "2013-10-07 06:57:35 2013-10-07 12:28:11\n",
      "2013-10-07 06:57:35 2013-10-07 12:28:11\n",
      "2013-10-07 06:57:35 2013-10-07 12:28:11\n",
      "2013-10-07 06:57:35 2013-10-07 12:28:11\n",
      "2013-10-07 06:57:35 2013-10-07 12:28:11\n",
      "2013-10-07 06:57:35 2013-10-07 12:28:11\n",
      "2013-10-07 06:57:35 2013-10-07 12:28:11\n",
      "2013-10-07 06:57:35 2013-10-07 12:28:11\n",
      "2013-10-07 06:57:35 2013-10-07 12:28:11\n",
      "2013-10-07 06:57:35 2013-10-07 12:28:11\n",
      "2013-10-11 15:00:11 2013-10-11 18:38:58\n",
      "2013-10-11 15:00:11 2013-10-11 18:38:58\n",
      "2013-10-11 15:00:11 2013-10-11 18:38:58\n",
      "2013-10-11 15:00:11 2013-10-11 18:38:58\n",
      "2013-10-11 15:00:11 2013-10-11 18:38:58\n",
      "2013-10-11 15:00:11 2013-10-11 18:38:58\n",
      "2013-10-11 15:00:11 2013-10-11 18:38:58\n",
      "2013-10-11 15:00:11 2013-10-11 18:38:58\n",
      "2013-10-11 15:00:11 2013-10-11 18:38:58\n",
      "2013-10-11 15:00:11 2013-10-11 18:38:58\n",
      "2013-10-11 15:00:11 2013-10-11 18:38:58\n",
      "2013-10-11 15:00:11 2013-10-11 18:38:58\n",
      "2013-10-13 06:45:35 2013-10-13 07:09:10\n",
      "2013-10-13 06:45:35 2013-10-13 07:09:10\n",
      "2013-10-13 06:45:35 2013-10-13 07:09:10\n",
      "2013-10-13 06:45:35 2013-10-13 07:09:10\n",
      "2013-10-13 06:45:35 2013-10-13 07:09:10\n",
      "2013-10-13 06:45:35 2013-10-13 07:09:10\n",
      "2013-10-13 06:45:35 2013-10-13 07:09:10\n",
      "2013-10-13 06:45:35 2013-10-13 07:09:10\n",
      "2013-10-13 10:30:35 2013-10-13 07:09:10\n",
      "2013-10-13 10:30:35 2013-10-13 07:09:10\n",
      "2013-10-13 10:30:35 2013-10-13 07:09:10\n",
      "2013-10-13 10:30:35 2013-10-13 07:09:10\n",
      "2013-10-13 10:30:35 2013-10-13 07:09:10\n",
      "2013-10-13 10:30:35 2013-10-13 07:09:10\n",
      "2013-10-13 10:30:35 2013-10-13 07:09:10\n",
      "2013-10-13 10:30:35 2013-10-13 07:09:10\n",
      "2013-10-18 00:00:03 2013-10-17 18:00:16\n",
      "2013-10-18 00:00:03 2013-10-17 18:00:16\n",
      "2013-10-18 00:00:03 2013-10-17 18:00:16\n",
      "2013-10-18 00:00:03 2013-10-17 18:00:16\n",
      "2013-10-18 00:00:03 2013-10-17 18:00:16\n",
      "2013-10-18 00:00:03 2013-10-17 18:00:16\n",
      "2013-10-18 00:00:03 2013-10-17 18:00:16\n",
      "2013-10-18 00:00:03 2013-10-17 18:00:16\n",
      "2013-10-18 00:00:03 2013-10-17 18:00:16\n",
      "2013-10-18 00:00:03 2013-10-17 18:00:16\n",
      "2013-10-18 00:00:03 2013-10-17 18:00:16\n",
      "2013-10-18 00:00:03 2013-10-17 18:00:16\n",
      "2013-10-18 00:00:03 2013-10-17 18:00:16\n",
      "2013-10-18 00:00:03 2013-10-17 18:00:16\n",
      "2013-10-18 00:00:03 2013-10-17 18:00:16\n",
      "2013-10-18 00:00:03 2013-10-17 18:00:16\n",
      "2013-10-18 00:00:03 2013-10-17 18:00:16\n",
      "2013-10-18 00:00:03 2013-10-17 18:00:16\n",
      "2013-10-18 00:00:03 2013-10-17 18:00:16\n",
      "2013-10-18 00:00:03 2013-10-17 18:00:16\n",
      "2013-10-18 20:12:03 2013-10-18 18:17:23\n",
      "2013-10-18 20:12:03 2013-10-18 18:17:23\n",
      "2013-10-18 20:12:03 2013-10-18 18:17:23\n",
      "2013-10-18 20:12:03 2013-10-18 18:17:23\n",
      "2013-10-18 20:12:03 2013-10-18 18:17:23\n",
      "2013-10-18 20:12:03 2013-10-18 18:17:23\n",
      "2013-10-18 20:12:03 2013-10-18 18:17:23\n",
      "2013-10-18 20:12:03 2013-10-18 18:17:23\n",
      "2013-10-18 20:12:03 2013-10-18 18:17:23\n",
      "2013-10-18 20:12:03 2013-10-18 18:17:23\n",
      "2013-10-18 20:12:03 2013-10-18 18:17:23\n",
      "2013-10-18 20:12:03 2013-10-18 18:17:23\n",
      "2013-10-18 20:12:03 2013-10-18 18:17:23\n",
      "2013-10-18 20:12:03 2013-10-18 18:17:23\n",
      "2013-10-18 20:12:03 2013-10-18 18:17:23\n",
      "2013-10-18 20:12:03 2013-10-18 18:17:23\n",
      "2013-10-18 20:12:03 2013-10-18 18:17:23\n",
      "2013-10-18 20:12:03 2013-10-18 18:17:23\n",
      "2013-10-18 20:12:03 2013-10-18 18:17:23\n",
      "2013-10-18 20:12:03 2013-10-18 18:17:23\n",
      "2013-10-18 20:12:03 2013-10-18 18:17:23\n",
      "2013-10-19 11:38:03 2013-10-19 17:21:00\n",
      "2013-10-19 11:38:03 2013-10-19 17:21:00\n",
      "2013-10-19 11:38:03 2013-10-19 17:21:00\n",
      "2013-10-19 11:38:03 2013-10-19 17:21:00\n",
      "2013-10-19 11:38:03 2013-10-19 17:21:00\n",
      "2013-10-19 11:38:03 2013-10-19 17:21:00\n",
      "2013-10-19 11:38:03 2013-10-19 17:21:00\n",
      "2013-10-19 11:38:03 2013-10-19 17:21:00\n",
      "2013-10-19 11:38:03 2013-10-19 17:21:00\n",
      "2013-10-19 11:38:03 2013-10-19 17:21:00\n",
      "2013-10-19 11:38:03 2013-10-19 17:21:00\n",
      "2013-10-19 11:38:03 2013-10-19 17:21:00\n",
      "2013-10-19 11:38:03 2013-10-19 17:21:00\n",
      "2013-10-19 11:38:03 2013-10-19 17:21:00\n",
      "2013-10-19 11:38:03 2013-10-19 17:21:00\n",
      "2013-10-19 11:38:03 2013-10-19 17:21:00\n",
      "2013-10-19 11:38:03 2013-10-19 17:21:00\n",
      "2013-10-19 11:38:03 2013-10-19 17:21:00\n",
      "2013-10-19 11:38:03 2013-10-19 17:21:00\n",
      "2013-10-25 01:32:03 2013-10-24 18:08:06\n",
      "2013-10-25 01:32:03 2013-10-24 18:08:06\n",
      "2013-10-25 01:32:03 2013-10-24 18:08:06\n",
      "2013-10-25 01:32:03 2013-10-24 18:08:06\n",
      "2013-10-25 01:32:03 2013-10-24 18:08:06\n",
      "2013-10-25 01:32:03 2013-10-24 18:08:06\n",
      "2013-10-25 01:32:03 2013-10-24 18:08:06\n",
      "2013-10-25 01:32:03 2013-10-24 18:08:06\n",
      "2013-10-25 01:32:03 2013-10-24 18:08:06\n",
      "2013-10-25 01:32:03 2013-10-24 18:08:06\n",
      "2013-10-25 01:32:03 2013-10-24 18:08:06\n",
      "2013-10-25 01:32:03 2013-10-24 18:08:06\n",
      "2013-10-25 01:32:03 2013-10-24 18:08:06\n",
      "2013-10-25 01:32:03 2013-10-24 18:08:06\n",
      "2013-10-25 01:32:03 2013-10-24 18:08:06\n",
      "2013-10-25 01:32:03 2013-10-24 18:08:06\n",
      "2013-10-25 01:32:03 2013-10-24 18:08:06\n",
      "2013-10-25 01:32:03 2013-10-24 18:08:06\n",
      "2013-10-25 01:32:03 2013-10-24 18:08:06\n",
      "2013-10-25 01:32:03 2013-10-24 18:08:06\n",
      "2013-10-25 01:32:03 2013-10-24 18:08:06\n",
      "2013-10-25 01:32:03 2013-10-24 18:08:06\n",
      "2013-10-25 01:32:03 2013-10-24 18:08:06\n",
      "2013-10-25 01:32:03 2013-10-24 18:08:06\n",
      "2013-10-25 01:32:03 2013-10-24 18:08:06\n",
      "2013-10-25 01:32:03 2013-10-24 18:08:06\n",
      "2013-10-25 01:32:03 2013-10-24 18:08:06\n",
      "2013-10-26 09:16:03 2013-10-26 17:52:06\n",
      "2013-10-26 09:16:03 2013-10-26 17:52:06\n",
      "2013-10-26 09:16:03 2013-10-26 17:52:06\n",
      "2013-10-26 09:16:03 2013-10-26 17:52:06\n",
      "2013-10-26 09:16:03 2013-10-26 17:52:06\n",
      "2013-10-26 09:16:03 2013-10-26 17:52:06\n",
      "2013-10-26 09:16:03 2013-10-26 17:52:06\n",
      "2013-10-26 09:16:03 2013-10-26 17:52:06\n",
      "2013-10-26 09:16:03 2013-10-26 17:52:06\n",
      "2013-10-26 09:16:03 2013-10-26 17:52:06\n",
      "2013-10-26 09:16:03 2013-10-26 17:52:06\n",
      "2013-10-26 09:16:03 2013-10-26 17:52:06\n",
      "2013-10-26 09:16:03 2013-10-26 17:52:06\n",
      "2013-10-26 09:16:03 2013-10-26 17:52:06\n",
      "2013-10-26 09:16:03 2013-10-26 17:52:06\n",
      "2013-10-26 09:16:03 2013-10-26 17:52:06\n",
      "2013-10-26 09:16:03 2013-10-26 17:52:06\n",
      "2013-10-26 09:16:03 2013-10-26 17:52:06\n",
      "2013-10-26 09:16:03 2013-10-26 17:52:06\n",
      "2013-10-26 09:16:03 2013-10-26 17:52:06\n",
      "2013-10-26 09:16:03 2013-10-26 17:52:06\n",
      "2013-10-26 09:16:03 2013-10-26 17:52:06\n",
      "2013-10-26 09:16:03 2013-10-26 17:52:06\n",
      "2013-10-26 09:16:03 2013-10-26 17:52:06\n",
      "2013-10-27 03:30:03 2013-10-26 17:52:06\n",
      "2013-10-27 03:30:03 2013-10-27 07:07:15\n",
      "2013-10-27 03:30:03 2013-10-26 17:52:06\n",
      "2013-10-27 03:30:03 2013-10-26 17:52:06\n",
      "2013-10-27 03:30:03 2013-10-26 17:52:06\n",
      "2013-10-27 03:30:03 2013-10-27 07:07:15\n",
      "2013-10-27 03:30:03 2013-10-26 17:52:06\n",
      "2013-10-27 03:30:03 2013-10-27 07:07:15\n",
      "2013-10-27 03:30:03 2013-10-26 17:52:06\n",
      "2013-10-27 03:30:03 2013-10-27 07:07:15\n",
      "2013-10-27 03:30:03 2013-10-26 17:52:06\n",
      "2013-10-27 03:30:03 2013-10-27 07:07:15\n",
      "2013-10-27 03:30:03 2013-10-26 17:52:06\n",
      "2013-10-27 03:30:03 2013-10-26 17:52:06\n",
      "2013-10-27 03:30:03 2013-10-26 17:52:06\n",
      "2013-10-27 03:30:03 2013-10-27 07:07:15\n",
      "2013-10-27 03:30:03 2013-10-26 17:52:06\n",
      "2013-10-27 03:30:03 2013-10-26 17:52:06\n",
      "2013-10-27 03:30:03 2013-10-27 07:07:15\n",
      "2013-10-27 03:30:03 2013-10-26 17:52:06\n",
      "2013-10-27 03:30:03 2013-10-27 07:07:15\n",
      "2013-10-27 03:30:03 2013-10-26 17:52:06\n",
      "2013-10-27 03:30:03 2013-10-26 17:52:06\n",
      "2013-10-27 03:30:03 2013-10-26 17:52:06\n",
      "2013-10-27 03:30:03 2013-10-26 17:52:06\n",
      "2013-10-27 03:30:03 2013-10-26 17:52:06\n",
      "2013-10-27 03:30:03 2013-10-26 17:52:06\n",
      "2013-10-27 03:30:03 2013-10-27 07:07:15\n",
      "2013-10-27 03:30:03 2013-10-26 17:52:06\n",
      "2013-10-27 03:30:03 2013-10-27 07:07:15\n",
      "2013-10-27 03:30:03 2013-10-26 17:52:06\n",
      "2013-10-27 03:30:03 2013-10-27 07:07:15\n",
      "2013-10-27 03:30:03 2013-10-26 17:52:06\n",
      "2013-10-27 03:30:03 2013-10-27 07:07:15\n",
      "2013-10-27 03:30:03 2013-10-26 17:52:06\n",
      "2013-10-27 03:30:03 2013-10-27 07:07:15\n",
      "2013-10-27 03:30:03 2013-10-26 17:52:06\n",
      "2013-10-27 03:30:03 2013-10-27 07:07:15\n",
      "2013-10-27 03:30:03 2013-10-27 07:07:15\n",
      "2013-10-27 03:30:03 2013-10-27 07:07:15\n",
      "2013-10-28 02:42:03 2013-10-28 07:43:35\n",
      "2013-10-28 02:42:03 2013-10-28 07:43:35\n",
      "2013-10-28 02:42:03 2013-10-28 07:43:35\n",
      "2013-10-28 02:42:03 2013-10-28 07:43:35\n",
      "2013-10-28 02:42:03 2013-10-28 07:43:35\n",
      "2013-10-28 02:42:03 2013-10-28 07:43:35\n",
      "2013-10-28 02:42:03 2013-10-28 07:43:35\n",
      "2013-10-28 02:42:03 2013-10-28 07:43:35\n",
      "2013-10-28 10:28:03 2013-10-28 07:43:35\n",
      "2013-10-28 10:28:03 2013-10-28 07:43:35\n",
      "2013-10-28 10:28:03 2013-10-28 07:43:35\n",
      "2013-10-28 10:28:03 2013-10-28 07:43:35\n",
      "2013-10-28 10:28:03 2013-10-28 07:43:35\n",
      "2013-10-28 10:28:03 2013-10-28 07:43:35\n",
      "2013-10-28 10:28:03 2013-10-28 07:43:35\n",
      "2013-10-28 10:28:03 2013-10-28 07:43:35\n",
      "2013-10-28 13:14:03 2013-10-28 07:43:35\n",
      "2013-10-28 13:14:03 2013-10-28 07:43:35\n",
      "2013-10-28 13:14:03 2013-10-28 07:43:35\n",
      "2013-10-28 13:14:03 2013-10-28 07:43:35\n",
      "2013-10-28 13:14:03 2013-10-28 07:43:35\n",
      "2013-10-28 13:14:03 2013-10-28 07:43:35\n",
      "2013-10-28 13:14:03 2013-10-28 07:43:35\n",
      "2013-10-28 13:14:03 2013-10-28 07:43:35\n",
      "2013-10-30 15:00:03 2013-10-30 17:29:23\n",
      "2013-10-30 15:00:03 2013-10-30 17:29:23\n",
      "[1.0, 2.0, 4.0, 5.0, 6.0, 9.0, 11.0, 14.0, 15.0, 16.0, 17.0, 18.0, 2.0, 11.0, 15.0, 16.0, 18.0, 20.0, 23.0, 26.0, 32.0, 43.0, 54.0, 55.0, 57.0, 58.0, 59.0, 60.0, 61.0, 62.0, 65.0, 1.0, 2.0, 16.0, 18.0, 20.0, 23.0, 58.0, 59.0, 60.0, 61.0, 62.0, 65.0, 23.0, 54.0, 58.0, 59.0, 60.0, 70.0, 72.0, 76.0, 77.0, 84.0, 97.0, 102.0, 54.0, 58.0, 72.0, 84.0, 97.0, 102.0, 109.0, 111.0, 54.0, 58.0, 72.0, 84.0, 97.0, 102.0, 109.0, 111.0, 84.0, 97.0, 102.0, 109.0, 119.0, 127.0, 130.0, 132.0, 134.0, 136.0, 137.0, 140.0, 143.0, 144.0, 145.0, 147.0, 149.0, 150.0, 152.0, 154.0, 109.0, 124.0, 132.0, 134.0, 136.0, 137.0, 140.0, 143.0, 144.0, 145.0, 147.0, 149.0, 150.0, 152.0, 154.0, 159.0, 162.0, 164.0, 166.0, 167.0, 171.0, 83.0, 97.0, 127.0, 134.0, 136.0, 143.0, 145.0, 147.0, 149.0, 150.0, 152.0, 154.0, 159.0, 164.0, 166.0, 167.0, 171.0, 182.0, 183.0, 127.0, 150.0, 152.0, 154.0, 166.0, 167.0, 183.0, 187.0, 194.0, 195.0, 197.0, 201.0, 204.0, 205.0, 206.0, 207.0, 209.0, 211.0, 214.0, 223.0, 225.0, 226.0, 227.0, 230.0, 231.0, 232.0, 233.0, 150.0, 154.0, 185.0, 187.0, 194.0, 197.0, 204.0, 205.0, 206.0, 207.0, 209.0, 211.0, 214.0, 218.0, 223.0, 225.0, 226.0, 227.0, 230.0, 231.0, 232.0, 233.0, 243.0, 245.0, 150.0, 150.0, 154.0, 185.0, 187.0, 187.0, 194.0, 194.0, 197.0, 197.0, 204.0, 204.0, 205.0, 206.0, 207.0, 207.0, 209.0, 211.0, 211.0, 214.0, 215.0, 218.0, 223.0, 225.0, 226.0, 227.0, 230.0, 230.0, 231.0, 231.0, 232.0, 232.0, 233.0, 233.0, 243.0, 243.0, 245.0, 245.0, 256.0, 260.0, 150.0, 185.0, 207.0, 215.0, 232.0, 233.0, 245.0, 256.0, 150.0, 185.0, 207.0, 215.0, 232.0, 233.0, 245.0, 256.0, 150.0, 185.0, 207.0, 215.0, 232.0, 233.0, 245.0, 256.0, 215.0, 260.0]\n"
     ]
    }
   ],
   "source": [
    "margin = datetime.timedelta(hours=12)             \n",
    "FT_time = good_tracks['HEK_time']    #Finds the time stamps for all the filaments\n",
    "FE_time = [elem[\"event_starttime\"] for elem in filtered] #Finds the time stamps for all the eruptions\n",
    "good_times=[]    \n",
    "for j in range(0,len(FE_time)):    #looks at all possible eruptions \n",
    "    FET=(parse_time(FE_time[j])) #creates a datetime object of the eruptions\n",
    "    for i in range(0, len(FT_time)):  #looks at all possible tracks \n",
    "        if pd.isnull(FT_time[i]):   #skips over tracks of less than 3 elements \n",
    "            pass\n",
    "        else:            \n",
    "            FLT=parse(FT_time[i])   #creates a datetime object of the filaments\n",
    "            if  FET-margin <= FLT <= FET + margin: #checks if the eruption occurs in the specified margn \n",
    "                good_times.append(good_tracks['Track No.'][i])   #finds the track number of these tracks \n",
    "                print FET, FLT       \n",
    "print good_times"
   ]
  },
  {
   "cell_type": "markdown",
   "metadata": {},
   "source": [
    "#Main plotting call right now. This should filter by containment/location and time"
   ]
  },
  {
   "cell_type": "code",
   "execution_count": 38,
   "metadata": {
    "collapsed": false,
    "scrolled": false
   },
   "outputs": [
    {
     "name": "stdout",
     "output_type": "stream",
     "text": [
      "[16.0, 127.0]\n",
      "[1.0, 2.0, 4.0, 5.0, 6.0, 9.0, 11.0, 14.0, 15.0, 16.0, 17.0, 18.0, 2.0, 11.0, 15.0, 16.0, 18.0, 20.0, 23.0, 26.0, 32.0, 43.0, 54.0, 55.0, 57.0, 58.0, 59.0, 60.0, 61.0, 62.0, 65.0, 1.0, 2.0, 16.0, 18.0, 20.0, 23.0, 58.0, 59.0, 60.0, 61.0, 62.0, 65.0, 23.0, 54.0, 58.0, 59.0, 60.0, 70.0, 72.0, 76.0, 77.0, 84.0, 97.0, 102.0, 54.0, 58.0, 72.0, 84.0, 97.0, 102.0, 109.0, 111.0, 54.0, 58.0, 72.0, 84.0, 97.0, 102.0, 109.0, 111.0, 84.0, 97.0, 102.0, 109.0, 119.0, 127.0, 130.0, 132.0, 134.0, 136.0, 137.0, 140.0, 143.0, 144.0, 145.0, 147.0, 149.0, 150.0, 152.0, 154.0, 109.0, 124.0, 132.0, 134.0, 136.0, 137.0, 140.0, 143.0, 144.0, 145.0, 147.0, 149.0, 150.0, 152.0, 154.0, 159.0, 162.0, 164.0, 166.0, 167.0, 171.0, 83.0, 97.0, 127.0, 134.0, 136.0, 143.0, 145.0, 147.0, 149.0, 150.0, 152.0, 154.0, 159.0, 164.0, 166.0, 167.0, 171.0, 182.0, 183.0, 127.0, 150.0, 152.0, 154.0, 166.0, 167.0, 183.0, 187.0, 194.0, 195.0, 197.0, 201.0, 204.0, 205.0, 206.0, 207.0, 209.0, 211.0, 214.0, 223.0, 225.0, 226.0, 227.0, 230.0, 231.0, 232.0, 233.0, 150.0, 154.0, 185.0, 187.0, 194.0, 197.0, 204.0, 205.0, 206.0, 207.0, 209.0, 211.0, 214.0, 218.0, 223.0, 225.0, 226.0, 227.0, 230.0, 231.0, 232.0, 233.0, 243.0, 245.0, 150.0, 150.0, 154.0, 185.0, 187.0, 187.0, 194.0, 194.0, 197.0, 197.0, 204.0, 204.0, 205.0, 206.0, 207.0, 207.0, 209.0, 211.0, 211.0, 214.0, 215.0, 218.0, 223.0, 225.0, 226.0, 227.0, 230.0, 230.0, 231.0, 231.0, 232.0, 232.0, 233.0, 233.0, 243.0, 243.0, 245.0, 245.0, 256.0, 260.0, 150.0, 185.0, 207.0, 215.0, 232.0, 233.0, 245.0, 256.0, 150.0, 185.0, 207.0, 215.0, 232.0, 233.0, 245.0, 256.0, 150.0, 185.0, 207.0, 215.0, 232.0, 233.0, 245.0, 256.0, 215.0, 260.0]\n"
     ]
    }
   ],
   "source": [
    "good_polygons=[] #Trying to find polygon data for the filaments that contained eruptions and at a good time \n",
    "for i in range(len(good_tracks)): #iterating through the whole list of tracks \n",
    "    if good_tracks['Track No.'][i] in contained and good_tracks['Track No.'][i] in good_times:   #if the track number is in the lists created previously \n",
    "         good_polygons.append((good_tracks['Track No.'][i],good_tracks['HPC_BB_Poly'][i]))#append the polygon data to good polygons\n",
    "print contained\n",
    "print good_times"
   ]
  },
  {
   "cell_type": "code",
   "execution_count": 39,
   "metadata": {
    "collapsed": false,
    "scrolled": false
   },
   "outputs": [
    {
     "data": {
      "image/png": "[encoded data removed]",
      "text/plain": [
       "<matplotlib.figure.Figure at 0x126aca4d0>"
      ]
     },
     "metadata": {},
     "output_type": "display_data"
    }
   ],
   "source": [
    "for poly in good_polygons: #plotting those filaments that have eruptions contained within them\n",
    "    SetupSunPlot(filtered, poly[0], poly[1]) #filament eruption coordinates, track number, track polygon coordinates\n"
   ]
  },
  {
   "cell_type": "code",
   "execution_count": null,
   "metadata": {
    "collapsed": true
   },
   "outputs": [],
   "source": []
  },
  {
   "cell_type": "markdown",
   "metadata": {},
   "source": [
    "# The following kernel looks at both \"good tracks\" (tracks with 3 or more elements) and \"filtered\" eruption data (data that does not occur at multiple wavelengths). The code loops through the list of filtered eruptions and checks if any eruption intersects with a good track (also iterated through with a loop)."
   ]
  },
  {
   "cell_type": "code",
   "execution_count": 45,
   "metadata": {
    "collapsed": false,
    "scrolled": true
   },
   "outputs": [
    {
     "name": "stdout",
     "output_type": "stream",
     "text": [
      "This means that the eruption bounding box intersects with the filament polygon\n",
      "1\n",
      "This means that the eruption bounding box intersects with the filament polygon\n",
      "2\n",
      "This means that the eruption bounding box intersects with the filament polygon\n",
      "2\n",
      "This means that the eruption bounding box intersects with the filament polygon\n",
      "2\n",
      "This means that the eruption bounding box intersects with the filament polygon\n",
      "4\n",
      "This means that the eruption bounding box intersects with the filament polygon\n",
      "7\n",
      "This means that the eruption bounding box intersects with the filament polygon\n",
      "7\n",
      "This means that the eruption bounding box intersects with the filament polygon\n",
      "9\n",
      "This means that the eruption bounding box intersects with the filament polygon\n",
      "9\n",
      "This means that the eruption bounding box intersects with the filament polygon\n",
      "9\n",
      "This means that the eruption bounding box intersects with the filament polygon\n",
      "9\n",
      "This means that the eruption bounding box intersects with the filament polygon\n",
      "11\n",
      "This means that the eruption bounding box intersects with the filament polygon\n",
      "12\n",
      "This means that the eruption bounding box intersects with the filament polygon\n",
      "12\n",
      "This means that the eruption bounding box intersects with the filament polygon\n",
      "12\n",
      "This means that the eruption bounding box intersects with the filament polygon\n",
      "12\n",
      "This means that the eruption bounding box intersects with the filament polygon\n",
      "12\n",
      "This means that the eruption bounding box intersects with the filament polygon\n",
      "12\n",
      "This means that the eruption bounding box intersects with the filament polygon\n",
      "13\n",
      "This means that the eruption bounding box intersects with the filament polygon\n",
      "13\n",
      "This means that the eruption bounding box intersects with the filament polygon\n",
      "13\n",
      "This means that the eruption bounding box intersects with the filament polygon\n",
      "13\n",
      "This means that the eruption bounding box intersects with the filament polygon\n",
      "15\n",
      "This means that the eruption bounding box intersects with the filament polygon\n",
      "15\n",
      "This means that the eruption bounding box intersects with the filament polygon\n",
      "16\n",
      "This means that the eruption bounding box intersects with the filament polygon\n",
      "16\n",
      "This means that the eruption bounding box intersects with the filament polygon\n",
      "16\n",
      "This means that the eruption bounding box intersects with the filament polygon\n",
      "17\n",
      "This means that the eruption bounding box intersects with the filament polygon\n",
      "17\n",
      "This means that the eruption bounding box intersects with the filament polygon\n",
      "17\n",
      "This means that the eruption bounding box intersects with the filament polygon\n",
      "17\n",
      "This means that the eruption bounding box intersects with the filament polygon\n",
      "17\n",
      "This means that the eruption bounding box intersects with the filament polygon\n",
      "17\n",
      "This means that the eruption bounding box intersects with the filament polygon\n",
      "17\n",
      "[16.0, 60.0, 61.0, 62.0, 59.0, 84.0, 109.0, 127.0, 130.0, 134.0, 152.0, 127.0, 204.0, 205.0, 209.0, 226.0, 231.0, 232.0, 150.0, 185.0, 207.0, 227.0, 215.0, 233.0, 150.0, 185.0, 207.0, 150.0, 185.0, 207.0, 215.0, 232.0, 245.0, 256.0]\n"
     ]
    }
   ],
   "source": [
    "margin = datetime.timedelta(hours=12)             \n",
    "FT_time = good_tracks['HEK_time']    #Finds the time stamps for all the filaments\n",
    "FE_time = [elem[\"event_starttime\"] for elem in filtered] #Finds the time stamps for all the eruptions\n",
    "FT_poly = good_tracks['HPC_BB_Poly'] \n",
    "FE_box = [elem[\"hpc_bbox\"] for elem in filtered] \n",
    "intersected=[] \n",
    "for j in range(0, len(FE_box)):    #looks at all possible eruptions \n",
    "    FET=(parse_time(FE_time[j]))\n",
    "    FE_box_obj = loads(FE_box[j]) #creates a shapely box object object\n",
    "    for i in range(0, len(FT_poly)):  #looks at all possible tracks \n",
    "        if pd.isnull(FT_poly[i]):   #skips over tracks of less than 3 elements \n",
    "            pass\n",
    "        else:    \n",
    "            FLT=parse(FT_time[i])\n",
    "            FT_poly_obj = loads(FT_poly[i])   #creates polygon object from track\n",
    "            if FT_poly_obj.intersects(FE_box_obj) and FET-margin <= FLT <= FET + margin: #checks if box intersects with polygon\n",
    "                intersected.append(good_tracks['Track No.'][i])   #finds the track number of these tracks \n",
    "                print \"This means that the eruption bounding box intersects with the filament polygon\"   \n",
    "                print j\n",
    "print intersected"
   ]
  },
  {
   "cell_type": "raw",
   "metadata": {},
   "source": []
  },
  {
   "cell_type": "code",
   "execution_count": 41,
   "metadata": {
    "collapsed": false
   },
   "outputs": [],
   "source": [
    "okay_polygons=[] #Trying to find polygon data for the filaments that intersect with eruption box\n",
    "for i in range(len(good_tracks)): #iterating through the whole list of tracks \n",
    "    if good_tracks['Track No.'][i] in intersected and good_tracks['Track No.'][i] in good_times:   #if the track number is in the list created previously \n",
    "         okay_polygons.append((good_tracks['Track No.'][i],good_tracks['HPC_BB_Poly'][i])) #append the polygon data to good polygons\n",
    " "
   ]
  },
  {
   "cell_type": "code",
   "execution_count": 42,
   "metadata": {
    "collapsed": false
   },
   "outputs": [
    {
     "data": {
      "image/png": "[encoded data removed]",
      "text/plain": [
       "<matplotlib.figure.Figure at 0x126cc7b50>"
      ]
     },
     "metadata": {},
     "output_type": "display_data"
    }
   ],
   "source": [
    "for poly in okay_polygons: #plotting those filaments that intersect the bounding box of eruptions \n",
    "    SetupSunPlotBox(filtered, poly[0], poly[1]) #filament eruption box coordinates, track number, track polygon coordinates\n"
   ]
  },
  {
   "cell_type": "code",
   "execution_count": 44,
   "metadata": {
    "collapsed": false
   },
   "outputs": [
    {
     "name": "stdout",
     "output_type": "stream",
     "text": [
      "34\n"
     ]
    }
   ],
   "source": [
    "print len(intersected)"
   ]
  },
  {
   "cell_type": "code",
   "execution_count": null,
   "metadata": {
    "collapsed": true
   },
   "outputs": [],
   "source": []
  }
 ],
 "metadata": {
  "kernelspec": {
   "display_name": "Python 2",
   "language": "python",
   "name": "python2"
  },
  "language_info": {
   "codemirror_mode": {
    "name": "ipython",
    "version": 2
   },
   "file_extension": ".py",
   "mimetype": "text/x-python",
   "name": "python",
   "nbconvert_exporter": "python",
   "pygments_lexer": "ipython2",
   "version": "2.7.10"
  }
 },
 "nbformat": 4,
 "nbformat_minor": 0
}
