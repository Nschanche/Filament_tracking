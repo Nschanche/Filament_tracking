{
 "cells": [
  {
   "cell_type": "markdown",
   "metadata": {},
   "source": []
  },
  {
   "cell_type": "markdown",
   "metadata": {},
   "source": [
    "# This file works with FILAMENT ERUPTION and October 2013 Track information "
   ]
  },
  {
   "cell_type": "code",
   "execution_count": 11,
   "metadata": {
    "collapsed": false
   },
   "outputs": [],
   "source": [
    "#all imports \n",
    "from sunpy.net import hek\n",
    "from sunpy.net import hek2vso\n",
    "import matplotlib.pyplot as plt\n",
    "%matplotlib inline\n",
    "import shapely\n",
    "from shapely.wkt import dumps, loads\n",
    "import numpy as np\n",
    "import pandas as pd\n",
    "from shapely.geometry.polygon import LinearRing, Polygon\n",
    "from datetime import timedelta\n",
    "import datetime\n",
    "from sunpy.time import *\n",
    "from dateutil.parser import parse\n",
    "import matplotlib.cm as cm\n",
    "import matplotlib as mpl\n",
    "from operator import itemgetter\n",
    "from itertools import groupby\n",
    "import itertools\n",
    "import operator\n",
    "from datetime import timedelta\n",
    "import csv\n",
    "import time"
   ]
  },
  {
   "cell_type": "markdown",
   "metadata": {},
   "source": []
  },
  {
   "cell_type": "code",
   "execution_count": 12,
   "metadata": {
    "collapsed": true
   },
   "outputs": [],
   "source": [
    "#gets eruption data from the HEK \n",
    "client = hek.HEKClient()\n",
    "h2v = hek2vso.H2VClient()\n",
    "tstart = '2013/10/01 00:00:00'\n",
    "tend = '2013/10/31 23:59:59'\n",
    "event_type = 'FE'\n",
    "event_type_2 = 'AR'\n",
    "eruptions = client.query(hek.attrs.Time(tstart,tend),hek.attrs.EventType(event_type))\n",
    "active_region = client.query(hek.attrs.Time(tstart,tend),hek.attrs.EventType(event_type_2))\n",
    "vso_records = h2v.translate_and_query(eruptions[10])\n",
    "\n"
   ]
  },
  {
   "cell_type": "code",
   "execution_count": 13,
   "metadata": {
    "collapsed": false
   },
   "outputs": [
    {
     "name": "stdout",
     "output_type": "stream",
     "text": [
      "3382\n"
     ]
    }
   ],
   "source": [
    "print len(active_region)"
   ]
  },
  {
   "cell_type": "code",
   "execution_count": 14,
   "metadata": {
    "collapsed": false
   },
   "outputs": [],
   "source": [
    " ###Plotting functions     \n",
    "def TotalSunPlot(eruptions_good, eruptions_okay, trackno, filament):\n",
    "    plt.grid(True)\n",
    "    plt.ylabel('ycoord (arcsec)',fontsize=18)\n",
    "    plt.xlabel('xcoord (arcsec)',fontsize=18)\n",
    "    plt.axis([-1500, 1500, -1500, 1500]) \n",
    "    longitude2 = [elem[\"hpc_x\"] for elem in eruptions_okay]\n",
    "    latitude2 = [elem[\"hpc_y\"] for elem in eruptions_okay]\n",
    "    fig=plt.scatter(longitude2,latitude2,color='red',s=40)\n",
    "    longitude3 = [elem[\"hpc_x\"] for elem in eruptions_good]\n",
    "    latitude3 = [elem[\"hpc_y\"] for elem in eruptions_good]\n",
    "    fig=plt.scatter(longitude3,latitude3,color='blue',s=50)\n",
    "    Circle1 = plt.Circle((0,0), radius=1000, linestyle='solid', linewidth=2, fill=False)\n",
    "    fig1 = plt.gcf()\n",
    "    fig1.gca().add_artist(Circle1)\n",
    "    fig1.set_size_inches(10.5,10.5)\n",
    "    ax = fig1.add_subplot(111)\n",
    "    ax.set_aspect('equal')\n",
    "    ax.tick_params(axis='both', which='major', labelsize=14)\n",
    "    plt.title('Filament Eruptions Intersect and are Contained in Filaments, October 2013')\n",
    "    norm = mpl.colors.Normalize(vmin=0, vmax=280)\n",
    "    cmap = plt.get_cmap('CMRmap')\n",
    "    m = cm.ScalarMappable(norm=norm, cmap=cmap)\n",
    "    scale= m.to_rgba(trackno)\n",
    "    if trackno in close:\n",
    "        cmap = plt.get_cmap('Reds')\n",
    "        norm = mpl.colors.Normalize(vmin=5, vmax=270)\n",
    "        m = cm.ScalarMappable(norm=norm, cmap=cmap)\n",
    "        scale= m.to_rgba(trackno)\n",
    "        plot_polygon=plt.Polygon(loads(filament).exterior,color=scale,linewidth=2,fill=None)\n",
    "        fig1.gca().add_artist(plot_polygon)\n",
    "    if trackno in contained: \n",
    "        norm = mpl.colors.Normalize(vmin=0, vmax=280)\n",
    "        cmap = plt.get_cmap('winter')\n",
    "        m = cm.ScalarMappable(norm=norm, cmap=cmap)\n",
    "        scale= m.to_rgba(trackno)\n",
    "        plot_polygon=plt.Polygon(loads(filament).exterior,color=scale,linewidth=2,fill=None)\n",
    "        fig1.gca().add_artist(plot_polygon)                          \n",
    "    box = [elem[\"hpc_bbox\"] for elem in eruptions_okay]    #plotting only those eruptions boxes that intersect with filaments\n",
    "    for elem in box:\n",
    "        plot_box=plt.Polygon(loads(elem).exterior,color='red',linewidth=1,fill=None)\n",
    "        fig1.gca().add_artist(plot_box)\n",
    "    \n",
    "def SetupSunPlotColor(eruptions, trackno, filament):\n",
    "    plt.grid(True)\n",
    "    plt.ylabel('ycoord (arcsec)',fontsize=18)\n",
    "    plt.xlabel('xcoord (arcsec)',fontsize=18)\n",
    "    plt.axis([-1500, 1500, -1500, 1500])\n",
    "    cmap = plt.get_cmap('nipy_spectral')\n",
    "    norm = mpl.colors.Normalize(vmin=0, vmax=280)\n",
    "    m = cm.ScalarMappable(norm=norm, cmap=cmap)\n",
    "    scale= m.to_rgba(trackno)\n",
    "    longitude = [elem[\"hpc_x\"] for elem in eruptions]  #plotting only those eruptions that are contained in filaments \n",
    "    latitude = [elem[\"hpc_y\"] for elem in eruptions]   #plotting only those eruptions that are contained in filaments\n",
    "    for x,y in zip(longitude, latitude):\n",
    "        fig=plt.scatter(x, y, color=next(colors),s=50)\n",
    "    Circle1 = plt.Circle((0,0), radius=1000, linestyle='solid', linewidth=2, fill=False)\n",
    "    fig1 = plt.gcf()\n",
    "    fig1.gca().add_artist(Circle1)\n",
    "    fig1.set_size_inches(10.5,10.5)\n",
    "    ax = fig1.add_subplot(111)\n",
    "    ax.set_aspect('equal')\n",
    "    ax.tick_params(axis='both', which='major', labelsize=14)\n",
    "    plt.title('Filament Eruptions and Tracks on the Sun, October 2013')\n",
    "    plot_polygon=plt.Polygon(loads(filament).exterior,color=scale,linewidth=1,fill=None)\n",
    "    fig1.gca().add_artist(plot_polygon) \n",
    "\n",
    "       \n",
    "def SetupSunPlotBox(eruptions, trackno, filament):\n",
    "    plt.grid(True)\n",
    "    plt.ylabel('ycoord (arcsec)',fontsize=18)\n",
    "    plt.xlabel('xcoord (arcsec)',fontsize=18)\n",
    "    plt.axis([-1500, 1500, -1500, 1500])\n",
    "    longitude = [elem[\"hpc_x\"] for elem in eruptions] #plotting only those eruptions that intersect with  filaments\n",
    "    latitude = [elem[\"hpc_y\"] for elem in eruptions]\n",
    "    fig=plt.scatter(longitude,latitude,color='black',s=50) \n",
    "    Circle1 = plt.Circle((0,0), radius=1000, linestyle='solid', linewidth=2, fill=False)\n",
    "    fig1 = plt.gcf()\n",
    "    fig1.gca().add_artist(Circle1)\n",
    "    fig1.set_size_inches(10.5,10.5)\n",
    "    ax = fig1.add_subplot(111)\n",
    "    ax.set_aspect('equal')\n",
    "    ax.tick_params(axis='both', which='major', labelsize=14)\n",
    "    plt.title('Filament Eruptions (Bounds) that Intersect Filaments, October 2013')\n",
    "    box = [elem[\"hpc_bbox\"] for elem in eruptions]    #plotting only those eruptions boxes that intersect with filaments\n",
    "    for elem in box:\n",
    "        plot_box=plt.Polygon(loads(elem).exterior,color='black',linewidth=1,fill=None)\n",
    "        fig1.gca().add_artist(plot_box) \n",
    "    norm = mpl.colors.Normalize(vmin=0, vmax=280)\n",
    "    cmap = plt.get_cmap('nipy_spectral')\n",
    "    m = cm.ScalarMappable(norm=norm, cmap=cmap)\n",
    "    scale= m.to_rgba(trackno) \n",
    "    plot_polygon=plt.Polygon(loads(filament).exterior,color=scale,linewidth=1,fill=None)\n",
    "    fig1.gca().add_artist(plot_polygon)\n",
    "\n",
    "        \n",
    " \n",
    "\n",
    "    "
   ]
  },
  {
   "cell_type": "raw",
   "metadata": {},
   "source": []
  },
  {
   "cell_type": "code",
   "execution_count": 15,
   "metadata": {
    "collapsed": false
   },
   "outputs": [
    {
     "name": "stdout",
     "output_type": "stream",
     "text": [
      "50\n",
      "[0, 1, 2, 5, 6, 9, 13, 17, 21, 28, 29, 32, 33, 37, 40, 41, 43, 46, 47]\n"
     ]
    }
   ],
   "source": [
    "##filters the eruptions so the data is unique\n",
    "times=[elem[\"event_starttime\"] for elem in eruptions] \n",
    "result=[]\n",
    "indices=[]\n",
    "print len(eruptions)\n",
    "### the following loop will remove identical eruptions that have been recorded at different wavelengths by sorting with time\n",
    "for element in times:\n",
    "    if element not in result:\n",
    "        indices.append((times.index(element)))\n",
    "        result.append(element)\n",
    "print indices  #important indices \n",
    "filtered=[eruptions[i] for i in indices] #creates a filtered list of objects that are not indentical"
   ]
  },
  {
   "cell_type": "code",
   "execution_count": 16,
   "metadata": {
    "collapsed": false
   },
   "outputs": [
    {
     "name": "stdout",
     "output_type": "stream",
     "text": [
      "[0, 8, 15, 26, 34, 42, 50, 59, 68, 77, 86, 95, 104, 105, 106, 117, 128, 141, 150, 160, 168, 178, 187, 197, 203, 204, 212, 216, 221, 222, 232, 233, 238, 250, 255, 266, 270, 281, 285, 286, 297, 304, 318, 323, 333, 338, 347, 352, 353, 363, 368, 378, 385, 395, 401, 417, 422, 433, 439, 449, 454, 455, 466, 472, 480, 484, 492, 497, 511, 515, 523, 528, 529, 538, 542, 543, 544, 555, 562, 572, 578, 588, 593, 607, 612, 623, 629, 640, 641, 648, 660, 667, 678, 687, 698, 704, 720, 726, 727, 738, 742, 743, 751, 754, 759, 770, 775, 785, 791, 801, 807, 826, 830, 840, 844, 855, 861, 862, 874, 882, 893, 900, 905, 923, 928, 937, 942, 951, 956, 965, 971, 981, 989, 998, 1003, 1020, 1021, 1027, 1038, 1039, 1045, 1056, 1061, 1072, 1078, 1089, 1097, 1108, 1116, 1134, 1141, 1151, 1152, 1160, 1170, 1179, 1189, 1199, 1208, 1215, 1216, 1226, 1234, 1250, 1257, 1267, 1275, 1285, 1292, 1302, 1310, 1319, 1327, 1334, 1349, 1359, 1367, 1375, 1376, 1384, 1392, 1400, 1409, 1415, 1426, 1427, 1434, 1443, 1462, 1470, 1471, 1481, 1487, 1497, 1502, 1512, 1520, 1530, 1539, 1548, 1555, 1575, 1582, 1592, 1599, 1608, 1614, 1623, 1629, 1630, 1632, 1640, 1645, 1646, 1657, 1666, 1687, 1696, 1697, 1708, 1717, 1728, 1736, 1746, 1756, 1766, 1774, 1784, 1794, 1818, 1829, 1840, 1850, 1861, 1871, 1882, 1889, 1899, 1906, 1916, 1922, 1942, 1949, 1959, 1964, 1965, 1975, 1980, 1988, 1994, 1995, 2004, 2008, 2017, 2024, 2043, 2050, 2059, 2065, 2073, 2078, 2085, 2091, 2098, 2106, 2113, 2120, 2133, 2136, 2137, 2146, 2151, 2160, 2168, 2169, 2178, 2185, 2194, 2202, 2211, 2216, 2233, 2239, 2248, 2257, 2266, 2275, 2276, 2286, 2293, 2294, 2305, 2312, 2323, 2331, 2348, 2355, 2366, 2372, 2382, 2390, 2400, 2407, 2417, 2424, 2434, 2438, 2453, 2461, 2462, 2473, 2483, 2484, 2485, 2496, 2505, 2506, 2518, 2528, 2539, 2548, 2566, 2577, 2586, 2593, 2594, 2604, 2611, 2621, 2628, 2629, 2639, 2647, 2657, 2663, 2680, 2688, 2689, 2700, 2709, 2710, 2722, 2729, 2740, 2748, 2759, 2764, 2775, 2805, 2813, 2824, 2831, 2841, 2848, 2858, 2865, 2866, 2877, 2878, 2885, 2896, 2902, 2921, 2928, 2938, 2946, 2958, 2964, 2976, 2984, 2996, 3004, 3014, 3021, 3039, 3045, 3055, 3062, 3072, 3080, 3090, 3098, 3108, 3116, 3117, 3118, 3130, 3139, 3159, 3169, 3180, 3189, 3200, 3208, 3209, 3220, 3227, 3238, 3247, 3257, 3266, 3276, 3277, 3284, 3296, 3303, 3313, 3322, 3333, 3334, 3341, 3353, 3362, 3374, 3381]\n",
      "415\n"
     ]
    }
   ],
   "source": [
    "##filters the eruptions so the data is unique\n",
    "times_ar=[elem[\"event_starttime\"] for elem in active_region] \n",
    "result=[]\n",
    "indices=[]\n",
    "#print len(eruptions)\n",
    "### the following loop will remove identical eruptions that have been recorded at different wavelengths by sorting with time\n",
    "for element in times_ar:\n",
    "    if element not in result:\n",
    "        indices.append((times_ar.index(element)))\n",
    "        result.append(element)\n",
    "print indices  #important indices \n",
    "filtered_active=[active_region[i] for i in indices] #creates a filtered list of objects that are not indentical\n",
    "print len(filtered_active)"
   ]
  },
  {
   "cell_type": "markdown",
   "metadata": {},
   "source": [
    "# The following kernel reads in the tracking document, groups the data by track number, and adds  \"null\" data for all tracks that have less than three entries. "
   ]
  },
  {
   "cell_type": "code",
   "execution_count": 17,
   "metadata": {
    "collapsed": false,
    "scrolled": true
   },
   "outputs": [
    {
     "ename": "IOError",
     "evalue": "File FIDustinTracked_2013_10.txt does not exist",
     "output_type": "error",
     "traceback": [
      "\u001b[0;31m---------------------------------------------------------------------------\u001b[0m",
      "\u001b[0;31mIOError\u001b[0m                                   Traceback (most recent call last)",
      "\u001b[0;32m<ipython-input-17-c25b254ab6e0>\u001b[0m in \u001b[0;36m<module>\u001b[0;34m()\u001b[0m\n\u001b[1;32m      1\u001b[0m \u001b[0;31m#filament track data\u001b[0m\u001b[0;34m\u001b[0m\u001b[0;34m\u001b[0m\u001b[0m\n\u001b[0;32m----> 2\u001b[0;31m \u001b[0mfi_tracked\u001b[0m \u001b[0;34m=\u001b[0m \u001b[0mpd\u001b[0m\u001b[0;34m.\u001b[0m\u001b[0mread_csv\u001b[0m\u001b[0;34m(\u001b[0m\u001b[0;34m'FIDustinTracked_2013_10.txt'\u001b[0m\u001b[0;34m,\u001b[0m\u001b[0mdelimiter\u001b[0m\u001b[0;34m=\u001b[0m\u001b[0;34m'\\t'\u001b[0m\u001b[0;34m)\u001b[0m\u001b[0;34m\u001b[0m\u001b[0m\n\u001b[0m\u001b[1;32m      3\u001b[0m \u001b[0mfi_tracked\u001b[0m\u001b[0;34m.\u001b[0m\u001b[0mhead\u001b[0m\u001b[0;34m(\u001b[0m\u001b[0;34m)\u001b[0m\u001b[0;34m\u001b[0m\u001b[0m\n\u001b[1;32m      4\u001b[0m \u001b[0mtracks\u001b[0m\u001b[0;34m=\u001b[0m\u001b[0mfi_tracked\u001b[0m\u001b[0;34m[\u001b[0m\u001b[0;34m'Track No.'\u001b[0m\u001b[0;34m]\u001b[0m  \u001b[0;31m#pulls out hthe track numbers in list format\u001b[0m\u001b[0;34m\u001b[0m\u001b[0m\n\u001b[1;32m      5\u001b[0m \u001b[0mgood_tracks\u001b[0m \u001b[0;34m=\u001b[0m \u001b[0mfi_tracked\u001b[0m\u001b[0;34m.\u001b[0m\u001b[0mgroupby\u001b[0m\u001b[0;34m(\u001b[0m\u001b[0;34m'Track No.'\u001b[0m\u001b[0;34m)\u001b[0m\u001b[0;34m.\u001b[0m\u001b[0mfilter\u001b[0m\u001b[0;34m(\u001b[0m\u001b[0;32mlambda\u001b[0m \u001b[0mx\u001b[0m\u001b[0;34m:\u001b[0m \u001b[0mlen\u001b[0m\u001b[0;34m(\u001b[0m\u001b[0mx\u001b[0m\u001b[0;34m[\u001b[0m\u001b[0;34m'Track No.'\u001b[0m\u001b[0;34m]\u001b[0m\u001b[0;34m)\u001b[0m \u001b[0;34m>=\u001b[0m \u001b[0;36m3\u001b[0m\u001b[0;34m,\u001b[0m \u001b[0mdropna\u001b[0m\u001b[0;34m=\u001b[0m\u001b[0mFalse\u001b[0m\u001b[0;34m)\u001b[0m\u001b[0;34m\u001b[0m\u001b[0m\n",
      "\u001b[0;32m/Users/ashnaaggarwal/anaconda/lib/python2.7/site-packages/pandas/io/parsers.pyc\u001b[0m in \u001b[0;36mparser_f\u001b[0;34m(filepath_or_buffer, sep, dialect, compression, doublequote, escapechar, quotechar, quoting, skipinitialspace, lineterminator, header, index_col, names, prefix, skiprows, skipfooter, skip_footer, na_values, na_fvalues, true_values, false_values, delimiter, converters, dtype, usecols, engine, delim_whitespace, as_recarray, na_filter, compact_ints, use_unsigned, low_memory, buffer_lines, warn_bad_lines, error_bad_lines, keep_default_na, thousands, comment, decimal, parse_dates, keep_date_col, dayfirst, date_parser, memory_map, float_precision, nrows, iterator, chunksize, verbose, encoding, squeeze, mangle_dupe_cols, tupleize_cols, infer_datetime_format, skip_blank_lines)\u001b[0m\n\u001b[1;32m    472\u001b[0m                     skip_blank_lines=skip_blank_lines)\n\u001b[1;32m    473\u001b[0m \u001b[0;34m\u001b[0m\u001b[0m\n\u001b[0;32m--> 474\u001b[0;31m         \u001b[0;32mreturn\u001b[0m \u001b[0m_read\u001b[0m\u001b[0;34m(\u001b[0m\u001b[0mfilepath_or_buffer\u001b[0m\u001b[0;34m,\u001b[0m \u001b[0mkwds\u001b[0m\u001b[0;34m)\u001b[0m\u001b[0;34m\u001b[0m\u001b[0m\n\u001b[0m\u001b[1;32m    475\u001b[0m \u001b[0;34m\u001b[0m\u001b[0m\n\u001b[1;32m    476\u001b[0m     \u001b[0mparser_f\u001b[0m\u001b[0;34m.\u001b[0m\u001b[0m__name__\u001b[0m \u001b[0;34m=\u001b[0m \u001b[0mname\u001b[0m\u001b[0;34m\u001b[0m\u001b[0m\n",
      "\u001b[0;32m/Users/ashnaaggarwal/anaconda/lib/python2.7/site-packages/pandas/io/parsers.pyc\u001b[0m in \u001b[0;36m_read\u001b[0;34m(filepath_or_buffer, kwds)\u001b[0m\n\u001b[1;32m    248\u001b[0m \u001b[0;34m\u001b[0m\u001b[0m\n\u001b[1;32m    249\u001b[0m     \u001b[0;31m# Create the parser.\u001b[0m\u001b[0;34m\u001b[0m\u001b[0;34m\u001b[0m\u001b[0m\n\u001b[0;32m--> 250\u001b[0;31m     \u001b[0mparser\u001b[0m \u001b[0;34m=\u001b[0m \u001b[0mTextFileReader\u001b[0m\u001b[0;34m(\u001b[0m\u001b[0mfilepath_or_buffer\u001b[0m\u001b[0;34m,\u001b[0m \u001b[0;34m**\u001b[0m\u001b[0mkwds\u001b[0m\u001b[0;34m)\u001b[0m\u001b[0;34m\u001b[0m\u001b[0m\n\u001b[0m\u001b[1;32m    251\u001b[0m \u001b[0;34m\u001b[0m\u001b[0m\n\u001b[1;32m    252\u001b[0m     \u001b[0;32mif\u001b[0m \u001b[0;34m(\u001b[0m\u001b[0mnrows\u001b[0m \u001b[0;32mis\u001b[0m \u001b[0;32mnot\u001b[0m \u001b[0mNone\u001b[0m\u001b[0;34m)\u001b[0m \u001b[0;32mand\u001b[0m \u001b[0;34m(\u001b[0m\u001b[0mchunksize\u001b[0m \u001b[0;32mis\u001b[0m \u001b[0;32mnot\u001b[0m \u001b[0mNone\u001b[0m\u001b[0;34m)\u001b[0m\u001b[0;34m:\u001b[0m\u001b[0;34m\u001b[0m\u001b[0m\n",
      "\u001b[0;32m/Users/ashnaaggarwal/anaconda/lib/python2.7/site-packages/pandas/io/parsers.pyc\u001b[0m in \u001b[0;36m__init__\u001b[0;34m(self, f, engine, **kwds)\u001b[0m\n\u001b[1;32m    564\u001b[0m             \u001b[0mself\u001b[0m\u001b[0;34m.\u001b[0m\u001b[0moptions\u001b[0m\u001b[0;34m[\u001b[0m\u001b[0;34m'has_index_names'\u001b[0m\u001b[0;34m]\u001b[0m \u001b[0;34m=\u001b[0m \u001b[0mkwds\u001b[0m\u001b[0;34m[\u001b[0m\u001b[0;34m'has_index_names'\u001b[0m\u001b[0;34m]\u001b[0m\u001b[0;34m\u001b[0m\u001b[0m\n\u001b[1;32m    565\u001b[0m \u001b[0;34m\u001b[0m\u001b[0m\n\u001b[0;32m--> 566\u001b[0;31m         \u001b[0mself\u001b[0m\u001b[0;34m.\u001b[0m\u001b[0m_make_engine\u001b[0m\u001b[0;34m(\u001b[0m\u001b[0mself\u001b[0m\u001b[0;34m.\u001b[0m\u001b[0mengine\u001b[0m\u001b[0;34m)\u001b[0m\u001b[0;34m\u001b[0m\u001b[0m\n\u001b[0m\u001b[1;32m    567\u001b[0m \u001b[0;34m\u001b[0m\u001b[0m\n\u001b[1;32m    568\u001b[0m     \u001b[0;32mdef\u001b[0m \u001b[0m_get_options_with_defaults\u001b[0m\u001b[0;34m(\u001b[0m\u001b[0mself\u001b[0m\u001b[0;34m,\u001b[0m \u001b[0mengine\u001b[0m\u001b[0;34m)\u001b[0m\u001b[0;34m:\u001b[0m\u001b[0;34m\u001b[0m\u001b[0m\n",
      "\u001b[0;32m/Users/ashnaaggarwal/anaconda/lib/python2.7/site-packages/pandas/io/parsers.pyc\u001b[0m in \u001b[0;36m_make_engine\u001b[0;34m(self, engine)\u001b[0m\n\u001b[1;32m    703\u001b[0m     \u001b[0;32mdef\u001b[0m \u001b[0m_make_engine\u001b[0m\u001b[0;34m(\u001b[0m\u001b[0mself\u001b[0m\u001b[0;34m,\u001b[0m \u001b[0mengine\u001b[0m\u001b[0;34m=\u001b[0m\u001b[0;34m'c'\u001b[0m\u001b[0;34m)\u001b[0m\u001b[0;34m:\u001b[0m\u001b[0;34m\u001b[0m\u001b[0m\n\u001b[1;32m    704\u001b[0m         \u001b[0;32mif\u001b[0m \u001b[0mengine\u001b[0m \u001b[0;34m==\u001b[0m \u001b[0;34m'c'\u001b[0m\u001b[0;34m:\u001b[0m\u001b[0;34m\u001b[0m\u001b[0m\n\u001b[0;32m--> 705\u001b[0;31m             \u001b[0mself\u001b[0m\u001b[0;34m.\u001b[0m\u001b[0m_engine\u001b[0m \u001b[0;34m=\u001b[0m \u001b[0mCParserWrapper\u001b[0m\u001b[0;34m(\u001b[0m\u001b[0mself\u001b[0m\u001b[0;34m.\u001b[0m\u001b[0mf\u001b[0m\u001b[0;34m,\u001b[0m \u001b[0;34m**\u001b[0m\u001b[0mself\u001b[0m\u001b[0;34m.\u001b[0m\u001b[0moptions\u001b[0m\u001b[0;34m)\u001b[0m\u001b[0;34m\u001b[0m\u001b[0m\n\u001b[0m\u001b[1;32m    706\u001b[0m         \u001b[0;32melse\u001b[0m\u001b[0;34m:\u001b[0m\u001b[0;34m\u001b[0m\u001b[0m\n\u001b[1;32m    707\u001b[0m             \u001b[0;32mif\u001b[0m \u001b[0mengine\u001b[0m \u001b[0;34m==\u001b[0m \u001b[0;34m'python'\u001b[0m\u001b[0;34m:\u001b[0m\u001b[0;34m\u001b[0m\u001b[0m\n",
      "\u001b[0;32m/Users/ashnaaggarwal/anaconda/lib/python2.7/site-packages/pandas/io/parsers.pyc\u001b[0m in \u001b[0;36m__init__\u001b[0;34m(self, src, **kwds)\u001b[0m\n\u001b[1;32m   1070\u001b[0m         \u001b[0mkwds\u001b[0m\u001b[0;34m[\u001b[0m\u001b[0;34m'allow_leading_cols'\u001b[0m\u001b[0;34m]\u001b[0m \u001b[0;34m=\u001b[0m \u001b[0mself\u001b[0m\u001b[0;34m.\u001b[0m\u001b[0mindex_col\u001b[0m \u001b[0;32mis\u001b[0m \u001b[0;32mnot\u001b[0m \u001b[0mFalse\u001b[0m\u001b[0;34m\u001b[0m\u001b[0m\n\u001b[1;32m   1071\u001b[0m \u001b[0;34m\u001b[0m\u001b[0m\n\u001b[0;32m-> 1072\u001b[0;31m         \u001b[0mself\u001b[0m\u001b[0;34m.\u001b[0m\u001b[0m_reader\u001b[0m \u001b[0;34m=\u001b[0m \u001b[0m_parser\u001b[0m\u001b[0;34m.\u001b[0m\u001b[0mTextReader\u001b[0m\u001b[0;34m(\u001b[0m\u001b[0msrc\u001b[0m\u001b[0;34m,\u001b[0m \u001b[0;34m**\u001b[0m\u001b[0mkwds\u001b[0m\u001b[0;34m)\u001b[0m\u001b[0;34m\u001b[0m\u001b[0m\n\u001b[0m\u001b[1;32m   1073\u001b[0m \u001b[0;34m\u001b[0m\u001b[0m\n\u001b[1;32m   1074\u001b[0m         \u001b[0;31m# XXX\u001b[0m\u001b[0;34m\u001b[0m\u001b[0;34m\u001b[0m\u001b[0m\n",
      "\u001b[0;32mpandas/parser.pyx\u001b[0m in \u001b[0;36mpandas.parser.TextReader.__cinit__ (pandas/parser.c:3173)\u001b[0;34m()\u001b[0m\n",
      "\u001b[0;32mpandas/parser.pyx\u001b[0m in \u001b[0;36mpandas.parser.TextReader._setup_parser_source (pandas/parser.c:5912)\u001b[0;34m()\u001b[0m\n",
      "\u001b[0;31mIOError\u001b[0m: File FIDustinTracked_2013_10.txt does not exist"
     ]
    }
   ],
   "source": [
    "#filament track data\n",
    "fi_tracked = pd.read_csv('FIDustinTracked_2013_10.txt',delimiter='\\t')\n",
    "fi_tracked.head()\n",
    "tracks=fi_tracked['Track No.']  #pulls out hthe track numbers in list format \n",
    "good_tracks = fi_tracked.groupby('Track No.').filter(lambda x: len(x['Track No.']) >= 3, dropna=False) \n",
    "\n",
    "\n"
   ]
  },
  {
   "cell_type": "markdown",
   "metadata": {},
   "source": [
    "# The following kernel looks at both \"good tracks\" (tracks with 3 or more elements) and \"filtered\" eruption data (data that does not occur at multiple wavelengths). The code loops through the list of filtered eruptions and checks if any eruption is contained inside a good track (also iterated through with a loop). "
   ]
  },
  {
   "cell_type": "code",
   "execution_count": null,
   "metadata": {
    "collapsed": false,
    "scrolled": false
   },
   "outputs": [],
   "source": [
    "margin = datetime.timedelta(hours=12)             \n",
    "FT_time = good_tracks['HEK_time']    #Finds the time stamps for all the filaments\n",
    "FE_time = [elem[\"event_starttime\"] for elem in filtered] #Finds the time stamps for all the eruptions\n",
    "FT_poly = good_tracks['HPC_BB_Poly']    #Finds the polygon coordinates for the good_tracks\n",
    "FE_coords = [elem[\"hpc_coord\"] for elem in filtered] #Finds the point coordinates for the filtered eruptions \n",
    "contained=[]    ####This will be a helpful list for finding which tracks have eruptions contained inthem \n",
    "loopnumb=[]    #to keep track of the eruption number \n",
    "practice=[]\n",
    "for j in range(0, len(FE_coords)):    #looks at all possible eruptions \n",
    "    FET=(parse_time(FE_time[j])) \n",
    "    FE_point_obj = loads(FE_coords[j]) #creates a shapely point object\n",
    "    for i in range(0, len(FT_poly)):  #looks at all possible tracks \n",
    "        if pd.isnull(FT_poly[i]):   #skips over tracks of less than 3 elements \n",
    "            pass\n",
    "        else:   \n",
    "            FLT=parse(FT_time[i]) \n",
    "            FT_poly_obj = loads(FT_poly[i])   #creates polygon object from track\n",
    "            if FT_poly_obj.contains(FE_point_obj) and FET-margin <= FLT <= FET + margin: #checks if point is contained in polygon \n",
    "                contained.append(good_tracks['Track No.'][i])   #finds the track number of these tracks \n",
    "                loopnumb.append(j)\n",
    "                print FE_time[j]\n",
    "                if good_tracks['Track No.'][i] == 16.0:\n",
    "                    practice.append((FE_time[j], good_tracks['Track No.'][i]))\n",
    "                print \"This means that the eruption point is contained in the filament polygon\"\n",
    "                print j,i  #the indicies of the eruption and filament track\n",
    "erup=[indices[i] for i in loopnumb]   #getting the eruption index from a list of possible indices\n",
    "filtered2=[eruptions[i] for i in erup]   #eruption data that correspond to being contained in a filament \n",
    "print erup"
   ]
  },
  {
   "cell_type": "code",
   "execution_count": null,
   "metadata": {
    "collapsed": false,
    "scrolled": false
   },
   "outputs": [],
   "source": [
    "good_polygons=[] #Trying to find polygon data for the filaments that contained eruptions and at a good time \n",
    "for i in range(len(good_tracks)): #iterating through the whole list of tracks \n",
    "    if good_tracks['Track No.'][i] in contained:  #if the track number is in the lists created previously \n",
    "         good_polygons.append((good_tracks['Track No.'][i],good_tracks['HPC_BB_Poly'][i]))#append the polygon data to good polygons"
   ]
  },
  {
   "cell_type": "markdown",
   "metadata": {},
   "source": [
    "#Main plotting call right now. This should filter by containment/location and time"
   ]
  },
  {
   "cell_type": "code",
   "execution_count": null,
   "metadata": {
    "collapsed": false,
    "scrolled": false
   },
   "outputs": [],
   "source": [
    "####makes a colorscale for the eruptions\n",
    "colorscale=[]\n",
    "norm = mpl.colors.Normalize(vmin=0, vmax=280)\n",
    "cmap = plt.get_cmap('nipy_spectral')\n",
    "m = cm.ScalarMappable(norm=norm, cmap=cmap)\n",
    "for item in contained: #plotting those filaments that have eruptions contained within them\n",
    "    scale1= m.to_rgba(item) \n",
    "    colorscale.append(scale1)\n",
    "\n",
    "####plots eruptions/sun \n",
    "plt.grid(True)\n",
    "plt.ylabel('ycoord (arcsec)',fontsize=18)\n",
    "plt.xlabel('xcoord (arcsec)',fontsize=18)\n",
    "plt.axis([-1500, 1500, -1500, 1500])\n",
    "longitude = [elem[\"hpc_x\"]for elem in filtered2]\n",
    "latitude = [elem[\"hpc_y\"] for elem in filtered2]\n",
    "fig=plt.scatter(longitude,latitude,c= colorscale,s=50)\n",
    "Sun=plt.Circle((0,0), radius=1100, color='black', fill=False)\n",
    "plt.gcf().gca().add_artist(Sun)\n",
    "plt.title('Eruptions Contained in Filaments on the Sun, October 2013')\n",
    "fig1 = plt.gcf()\n",
    "fig1.set_size_inches(10.5,10.5)\n",
    "ax = fig1.add_subplot(111)\n",
    "ax.set_aspect('equal') \n",
    "\n",
    "####plots filament tracks \n",
    "for poly in good_polygons: \n",
    "    scale=m.to_rgba(poly[0])\n",
    "    plot_polygon=plt.Polygon(loads(poly[1]).exterior,color=scale,linewidth=1,fill=None)\n",
    "    fig1.gca().add_artist(plot_polygon)\n",
    "plt.show()"
   ]
  },
  {
   "cell_type": "markdown",
   "metadata": {},
   "source": [
    "# The following kernel looks at both \"good tracks\" (tracks with 3 or more elements) and \"filtered\" eruption data (data that does not occur at multiple wavelengths). The code loops through the list of filtered eruptions and checks if any eruption box intersects with a good track (also iterated through with a loop)."
   ]
  },
  {
   "cell_type": "code",
   "execution_count": null,
   "metadata": {
    "collapsed": false,
    "scrolled": true
   },
   "outputs": [],
   "source": [
    "margin = datetime.timedelta(hours=12)             \n",
    "FT_time = good_tracks['HEK_time']    #Finds the time stamps for all the filaments\n",
    "FE_time = [elem[\"event_starttime\"] for elem in filtered] #Finds the time stamps for all the eruptions\n",
    "FT_poly = good_tracks['HPC_BB_Poly'] \n",
    "FE_box = [elem[\"hpc_bbox\"] for elem in filtered] \n",
    "FE_coords = [elem[\"hpc_coord\"] for elem in filtered]\n",
    "intersected=[] #the tracks that intersect with eruption boxes\n",
    "event=[]  #eruption point \n",
    "manypoly=[] #center point of filament\n",
    "erupno=[]   #eruption's number \n",
    "time_erup=[]\n",
    "start = time.time()\n",
    "########## to only plot certain eruptions\n",
    "for j in range(0, len(FE_box)):    #looks at all possible eruptions \n",
    "    FET=(parse_time(FE_time[j]))\n",
    "    FE_box_obj = loads(FE_box[j]) #creates a shapely box object object\n",
    "    FE_point_obj=loads(FE_coords[j])\n",
    "    for i in range(0, len(FT_poly)):  #looks at all possible tracks \n",
    "        if pd.isnull(FT_poly[i]):   #skips over tracks of less than 3 elements \n",
    "            pass\n",
    "        else:    \n",
    "            FLT=parse(FT_time[i])\n",
    "            FT_poly_obj = loads(FT_poly[i])   #creates polygon object from track\n",
    "            if FT_poly_obj.intersects(FE_box_obj) and FET-margin <= FLT <= FET + margin: #checks if box intersects with polygon\n",
    "                intersected.append(good_tracks['Track No.'][i])   #finds the track number of these tracks \n",
    "                manypoly.append(loads(good_tracks['HPC_Center'][i]))  #grabs the center point coords of the filament \n",
    "                event.append(FE_point_obj)      #grabs the eruption point \n",
    "                erupno.append(j)\n",
    "                time_erup.append(FET)\n",
    "sec = time.time() - start\n",
    "print sec%60, 's'\n",
    "multi=zip(intersected, event, manypoly, erupno, time_erup) #creates a list of tuples of [(track no, eruption polygon point, filament polygon point, iteration)."
   ]
  },
  {
   "cell_type": "markdown",
   "metadata": {},
   "source": [
    "# the following filters the \"intersected\" list of tracks further by finding those tracks with center point CLOSEST to the coordinates of each eruption. thus, the number of tracks should equal the number of eruptions "
   ]
  },
  {
   "cell_type": "code",
   "execution_count": null,
   "metadata": {
    "collapsed": false
   },
   "outputs": [],
   "source": [
    "dist=[]  ###will be a list of distances between the eruptions and center of the filaments \n",
    "final_erup=[]   #eruption's number\n",
    "practice=[]\n",
    "for item in multi:\n",
    "     dist.append(item[1].distance(item[2])) #finding the distance between the filament polygon center and the eruption \n",
    "\n",
    "##the following is Nicole's code using pandas\n",
    "multi3=zip(intersected, event, dist, erupno, time_erup) #This is what you did\n",
    "test = pd.DataFrame(multi3) #Turn multi3 into a pandas dataframe\n",
    "columns=['Track No.','Eruption Coord','Distance to filament','Eruption No.', 'Eruption Time'] #Name the columns so they are easier to deal with\n",
    "test.columns=columns\n",
    "idx = test.groupby(['Track No.'])['Distance to filament'].transform(min) == test['Distance to filament']\n",
    "only_min=test[idx]\n",
    "only_min = only_min.sort('Track No.')\n",
    "close=[]   #those tracks closest to the eruptions \n",
    "corresponding=[] ### just to know which tracks correspond to which eruption \n",
    "for index, item in only_min.iterrows():\n",
    "    close.append(item[0])   #for the tracks \n",
    "    final_erup.append(item[3])   #for the eruptions \n",
    "    corresponding.append((item[0], item[3]))   # to see which tracks correspond to which eruptions\n",
    "    practice.append((item[4], item[0]))\n",
    "print corresponding   #filament track number, eruption number  \n",
    "    \n",
    "erupbox_with_track=[indices[i] for i in final_erup]\n",
    "filtered3=[eruptions[i] for i in erupbox_with_track]"
   ]
  },
  {
   "cell_type": "code",
   "execution_count": null,
   "metadata": {
    "collapsed": false
   },
   "outputs": [],
   "source": [
    "okay_polygons=[] #Trying to find polygon data for the filaments that intersect with eruption box\n",
    "for i in range(len(good_tracks)): #iterating through the whole list of tracks \n",
    "    if good_tracks['Track No.'][i] in close: \n",
    "            okay_polygons.append((good_tracks['Track No.'][i],good_tracks['HPC_BB_Poly'][i])) #append the polygon data to good polygons"
   ]
  },
  {
   "cell_type": "markdown",
   "metadata": {},
   "source": [
    "# Plots filament tracks versus the eruptions on the surface of the Sun"
   ]
  },
  {
   "cell_type": "code",
   "execution_count": null,
   "metadata": {
    "collapsed": false,
    "scrolled": true
   },
   "outputs": [],
   "source": [
    "####makes a colorscale for eruptions \n",
    "colorscale2=[]\n",
    "norm = mpl.colors.Normalize(vmin=0, vmax=280)\n",
    "cmap = plt.get_cmap('nipy_spectral')\n",
    "m = cm.ScalarMappable(norm=norm, cmap=cmap)\n",
    "for item in close: #plotting those filaments that have eruptions contained within them\n",
    "    scaleR= m.to_rgba(item) \n",
    "    colorscale2.append(scaleR)\n",
    "    \n",
    "####plots eruptions/sun\n",
    "plt.grid(True)\n",
    "plt.ylabel('ycoord (arcsec)',fontsize=18)\n",
    "plt.xlabel('xcoord (arcsec)',fontsize=18)\n",
    "plt.axis([-1500, 1500, -1500, 1500])\n",
    "longitude = [elem[\"hpc_x\"]for elem in filtered3]\n",
    "latitude = [elem[\"hpc_y\"] for elem in filtered3]\n",
    "fig=plt.scatter(longitude,latitude,c= colorscale2,s=50)\n",
    "Sun=plt.Circle((0,0), radius=1100, color='black', fill=False)\n",
    "plt.gcf().gca().add_artist(Sun)\n",
    "plt.title('Filament Eruptions on the Sun October 2013')\n",
    "fig1 = plt.gcf()\n",
    "fig1.set_size_inches(10.5,10.5)\n",
    "ax = fig1.add_subplot(111)\n",
    "ax.set_aspect('equal')\n",
    "\n",
    "####plots eruption boxes \n",
    "box = [elem[\"hpc_bbox\"] for elem in filtered3]    #plotting only those eruptions boxes that intersect with filaments\n",
    "boxinfo=zip(box, close)\n",
    "for item in boxinfo:\n",
    "        scaleR= m.to_rgba(item[1])\n",
    "        plot_box=plt.Polygon(loads(item[0]).exterior,color=scaleR,linewidth=1,fill=None)\n",
    "        fig1.gca().add_artist(plot_box)\n",
    "        \n",
    "###plots filament tracks         \n",
    "for poly in okay_polygons: #plotting those filaments that intersect the bounding box of eruptions\n",
    "    scale2=m.to_rgba(poly[0])\n",
    "    plot_polygon=plt.Polygon(loads(poly[1]).exterior,color=scale2,linewidth=1,fill=None)\n",
    "    fig1.gca().add_artist(plot_polygon)\n",
    "plt.show()"
   ]
  },
  {
   "cell_type": "markdown",
   "metadata": {},
   "source": [
    "# Plots each track seperately versus the eruptions"
   ]
  },
  {
   "cell_type": "code",
   "execution_count": null,
   "metadata": {
    "collapsed": false
   },
   "outputs": [],
   "source": [
    "   ###new updated eruption list for each track \n",
    "tot=[]\n",
    "unique=[]\n",
    "erupind=[]\n",
    "close_unique=np.unique(close)\n",
    "for tracks in close_unique:\n",
    "    tot.append(unique)\n",
    "    unique=[]\n",
    "    for i in range(0, len(good_tracks)):\n",
    "        if tracks == good_tracks['Track No.'][i]:\n",
    "            unique.append(i)\n",
    "            \n",
    "for item in tot:\n",
    "    colorscale2=[]\n",
    "    norm = mpl.colors.Normalize(vmin=0, vmax=280)\n",
    "    cmap = plt.get_cmap('nipy_spectral')\n",
    "    m = cm.ScalarMappable(norm=norm, cmap=cmap)\n",
    "    for thing1 in close: #plotting those filaments that have eruptions contained within them\n",
    "        scaleR= m.to_rgba(thing1) \n",
    "        colorscale2.append(scaleR)\n",
    "####plots eruptions/sun\n",
    "    plt.grid(True)\n",
    "    plt.ylabel('ycoord (arcsec)',fontsize=18)\n",
    "    plt.xlabel('xcoord (arcsec)',fontsize=18)\n",
    "    plt.axis([-1500, 1500, -1500, 1500])\n",
    "    #filtered4=[eruptions[i] for i in erupind]\n",
    "    #longitude = [elem[\"hpc_x\"]for elem in filtered3]\n",
    "    #latitude = [elem[\"hpc_y\"] for elem in filtered3]\n",
    "    #fig=plt.scatter(longitude,latitude, c = colorscale2,s=50)\n",
    "    fig1 = plt.gcf()\n",
    "    Sun=plt.Circle((0,0), radius=1100, color='black', fill=False)\n",
    "    plt.gcf().gca().add_artist(Sun)\n",
    "    fig1.set_size_inches(10.5,10.5)\n",
    "    ax = fig1.add_subplot(111)\n",
    "    ax.set_aspect('equal')\n",
    "        ##############################\n",
    "    for i in range(0, len(item)):\n",
    "        #filtered4=[]\n",
    "        j=item[i]\n",
    "        trnum=  good_tracks['Track No.'][j]\n",
    "        stime=  good_tracks['HEK_time'][j]\n",
    "        for thing1 in corresponding:\n",
    "            if thing1[0] == trnum:\n",
    "                erupind.append(thing1[1])\n",
    "        verup=[indices[i] for i in erupind]   #getting the eruption index from a list of possible indices\n",
    "        erupind=[]\n",
    "        filtered4=[eruptions[k] for k in verup]\n",
    "        longitude = [elem[\"hpc_x\"]for elem in filtered4]\n",
    "        latitude = [elem[\"hpc_y\"] for elem in filtered4]\n",
    "        erup_t = [elem[\"event_starttime\"] for elem in filtered4]\n",
    "        for thing2 in erup_t:\n",
    "            tim=(parse_time(thing2))\n",
    "            print tim #to see the time of eac filament polygon \n",
    "        plt.text(1400,1400,str(erup_t))\n",
    "        fig=plt.scatter(longitude,latitude, c = 'grey',s=50)\n",
    "        scale2=m.to_rgba(good_tracks['Track No.'][j])\n",
    "        plot_polygon=plt.Polygon(loads(good_tracks['HPC_BB_Poly'][j]).exterior,color=scale2,linewidth=1,fill=None)\n",
    "        fig1.gca().add_artist(plot_polygon)\n",
    "        plt.title('Track Number %(Trackno)d at %(starttime)s on the Sun.' % {\"Trackno\" : trnum, \"starttime\": stime})\n",
    "    plt.show()\n"
   ]
  },
  {
   "cell_type": "markdown",
   "metadata": {},
   "source": [
    "# The following code should only be run AFTER the erupting filaments found with the algorithm are confirmed to erupt via Jhelioviewer, or some other visualiztion"
   ]
  },
  {
   "cell_type": "code",
   "execution_count": null,
   "metadata": {
    "collapsed": false
   },
   "outputs": [],
   "source": [
    "#tracknumbers_oct_2013=[]\n",
    "#good_track_no_oct_2013=[]\n",
    "#with open('Oct2013Track_eruptions.csv', 'rb') as f:    ###opens the excel document containing confirmed eruption track information\n",
    "    #reader = csv.reader(f)\n",
    "    #vdata = [row for row in csv.reader(f.read().splitlines())]   #splits the document by line\n",
    "#for row in vdata:\n",
    "    #tracknumbers_oct_2013.append(row[0])      ###appends just the track number\n",
    "#for i in range(0, 2):\n",
    "    #tracknumbers_oct_2013.pop(i)     #removes heading text for file \n",
    "\n",
    "#tracknumbers_oct_2013.remove('')\n",
    "#for item in tracknumbers_oct_2013:      \n",
    "    #x=float(item)\n",
    "    #good_track_no_oct_2013.append(x)  #appends the track numbers as a float to a new list    #list of erupting tracks in workable format"
   ]
  },
  {
   "cell_type": "markdown",
   "metadata": {},
   "source": [
    "# The next two kernels use the list \"practice\" which contains track number and associated eruption time, to make a new list called \"step\" which contains track number, polygon length, eruption time, and track time. then, they are plotted in a series to show how the length of each filament changes before an eruption \n"
   ]
  },
  {
   "cell_type": "code",
   "execution_count": null,
   "metadata": {
    "collapsed": false,
    "scrolled": true
   },
   "outputs": [],
   "source": [
    "print good_track_no_oct_2013 #this a manual input list of all tracks that correlated to eurptions (visually)\n",
    "find=list(set(close) & set(good_track_no_oct_2013))    #finds the intersection of tracks we have data for, and tracks that erupted \n",
    "step=[]\n",
    "bad=[]\n",
    "for p in practice:  #practice has track number associated with eruption time  \n",
    "    for tracks in find:\n",
    "        for i in range(0, len(good_tracks)):\n",
    "            if good_tracks['Track No.'][i] == p[1]:   ##checks for the right eruption time \n",
    "                if good_tracks['Track No.'][i] == tracks:  ### next line should append time of each event, the trakc number, and the length of each polygon\n",
    "                    if [tracks, parse(good_tracks['HEK_time'][i]), good_tracks['fi_length'][i], parse_time(p[0])] not in step:\n",
    "                        step.append([tracks, parse(good_tracks['HEK_time'][i]), good_tracks['fi_length'][i], parse_time(p[0])])\n",
    "for it in step:\n",
    "    print it[0], it[3]"
   ]
  },
  {
   "cell_type": "code",
   "execution_count": null,
   "metadata": {
    "collapsed": false,
    "scrolled": true
   },
   "outputs": [],
   "source": [
    "from matplotlib.dates import WeekdayLocator\n",
    "colorscale2=[]\n",
    "norm = mpl.colors.Normalize(vmin=0, vmax=280)\n",
    "cmap = plt.get_cmap('nipy_spectral')\n",
    "m = cm.ScalarMappable(norm=norm, cmap=cmap)\n",
    "interest=[]\n",
    "x=[]\n",
    "y=[]\n",
    "t=[]\n",
    "for track in find:\n",
    "    scale3=m.to_rgba(track)\n",
    "    x=[] ### will be time data\n",
    "    y=[] ## will be length data \n",
    "    r=[]\n",
    "    t=[]\n",
    "    interest=[]\n",
    "    emp=[]\n",
    "    for r in step:      #iterates through the data \n",
    "        if r[0] == track:  #finds the correct track\n",
    "            if r not in interest:\n",
    "                 interest.append(r)   #appends the data to a new list\n",
    "    for k in range(0, len(interest)):\n",
    "        t2= interest[k][3]\n",
    "        t1=interest[k][1]\n",
    "        t3=t2-t1\n",
    "        t.append(t3.seconds)\n",
    "        x.append(t1)\n",
    "        y.append(interest[k][2])\n",
    "    plt.plot_date(x, y, xdate=True,ydate=False, color=scale3, linestyle='-')\n",
    "    plt.axvline(interest[k][3], linewidth=2, color=scale3, linestyle='--', label='eruption')\n",
    "    plt.text(interest[k][3], 28000000000,'Erup for Tr. %(Trackno)d' %{\"Trackno\": track},rotation=80)\n",
    "    #ax.xaxis.set_major_locator(AutoDateLocator())\n",
    "    plt.title('Filament length (Track) versus eruption time')\n",
    "    plt.grid(True)\n",
    "    fig1 = plt.gcf()\n",
    "    fig1.set_size_inches(10.5,10.5)\n",
    "    plt.xticks( rotation= 80 )\n",
    "    plt.ylabel('Filament length (cm)')\n",
    "plt.show()"
   ]
  },
  {
   "cell_type": "code",
   "execution_count": null,
   "metadata": {
    "collapsed": false
   },
   "outputs": [],
   "source": [
    "colorscale2=[]\n",
    "norm = mpl.colors.Normalize(vmin=0, vmax=280)\n",
    "cmap = plt.get_cmap('nipy_spectral')\n",
    "m = cm.ScalarMappable(norm=norm, cmap=cmap)\n",
    "interest=[]\n",
    "x=[]\n",
    "y=[]\n",
    "t=[]\n",
    "for track in find:\n",
    "    scale3=m.to_rgba(track)\n",
    "    x=[] ### will be time data\n",
    "    y=[] ## will be length data \n",
    "    r=[]\n",
    "    t=[]\n",
    "    interest=[]\n",
    "    emp=[]\n",
    "    for r in step:      #iterates through the data \n",
    "        if r[0] == track:  #finds the correct track\n",
    "            if r not in interest:\n",
    "                 interest.append(r)   #appends the data to a new list\n",
    "    for k in range(0, len(interest)):\n",
    "        t2= interest[k][3]    ##eruption time\n",
    "        t1=interest[k][1]    #filament time\n",
    "        t3=timedelta.total_seconds(t2-t1) #difference between the two in seconds\n",
    "        t.append(int(t3))\n",
    "        y.append(interest[k][2])\n",
    "    plt.plot(t, y, color=scale3)\n",
    "    plt.axvline(0, linewidth=3, color='k', linestyle='--', label='Eruption')\n",
    "    plt.title('Filament length (Track) versus eruption time')\n",
    "    plt.grid(True)\n",
    "    fig1 = plt.gcf()\n",
    "    fig1.set_size_inches(10.5,10.5)\n",
    "    plt.xlabel('Filament Track time (s) from time of associated eruption at 0')\n",
    "    plt.ylabel('Filament length (cm)')\n",
    "plt.show()"
   ]
  },
  {
   "cell_type": "code",
   "execution_count": null,
   "metadata": {
    "collapsed": false
   },
   "outputs": [],
   "source": [
    "####finding the time of specific eruptions\n",
    "index1=[12]\n",
    "test=[filtered[i] for i in index1]\n",
    "timeerup = [elem['event_starttime'] for elem in test]\n",
    "print timeerup"
   ]
  },
  {
   "cell_type": "code",
   "execution_count": null,
   "metadata": {
    "collapsed": false
   },
   "outputs": [],
   "source": [
    "#### to check tracks that aren't \"good\" for some reason \n",
    "noerup=[]\n",
    "check_track1=[166.0]\n",
    "check_poly1=[]\n",
    "for i in range(len(good_tracks)): #iterating through the whole list of tracks \n",
    "    #if good_tracks['Track No.'][i] in intersected and good_tracks['Track No.'][i] in okay_filaments:   #if the track number is in the list created previously \n",
    "    if fi_tracked['Track No.'][i] in check_track1: \n",
    "            check_poly1.append((fi_tracked['Track No.'][i],fi_tracked['HPC_BB_Poly'][i])) #append the polygon data to good polygons\n",
    "            print fi_tracked['Track No.'][i],fi_tracked['HEK_time'][i]\n",
    "for poly in check_poly1: #plotting those filaments that have eruptions contained within them\n",
    "    SetupSunPlotColor(noerup, poly[0], poly[1]) #filament eruption coordinates, track number, track polygon coordinates\n",
    "\n"
   ]
  },
  {
   "cell_type": "markdown",
   "metadata": {},
   "source": [
    "# finding more transiting tracks"
   ]
  },
  {
   "cell_type": "code",
   "execution_count": null,
   "metadata": {
    "collapsed": false
   },
   "outputs": [],
   "source": [
    "#### just for fun, trying to find tracks that transit the surface\n",
    "fi_tracked = pd.read_csv('FIDustinTracked_2013_10.txt',delimiter='\\t')\n",
    "long_tracks = fi_tracked.groupby('Track No.').filter(lambda x: len(x['Track No.']) >= 4, dropna=False) "
   ]
  },
  {
   "cell_type": "code",
   "execution_count": null,
   "metadata": {
    "collapsed": false
   },
   "outputs": [],
   "source": [
    "#uploads all track numbers of filaments that have been CONFIRMED to erupt\n",
    "tracknumbers_oct_2013=[]\n",
    "good_track_no_oct_2013=[]\n",
    "erup_info_oct_2013=[]\n",
    "with open('Oct2013Track_eruptions.csv', 'rb') as f:    ###opens the excel document containing confirmed eruption track information\n",
    "    reader = csv.reader(f)\n",
    "    vdata = [row for row in csv.reader(f.read().splitlines())]   #splits the document by line\n",
    "for row in vdata:\n",
    "    tracknumbers_oct_2013.append(row[0])      ###appends just the track number\n",
    "    erup_info_oct_2013.append((row[0], row[7]))\n",
    "for i in range(0, 2):\n",
    "    tracknumbers_oct_2013.pop(i)     #removes heading text for file \n",
    "    erup_info_oct_2013.pop(i)\n",
    "######\n",
    "del tracknumbers_oct_2013[0]\n",
    "del erup_info_oct_2013[0]\n",
    "##########\n",
    "for item in tracknumbers_oct_2013:\n",
    "    if item != '':\n",
    "        x=float(item)\n",
    "        good_track_no_oct_2013.append(x)  #appends the track numbers as a float to a new list "
   ]
  },
  {
   "cell_type": "code",
   "execution_count": null,
   "metadata": {
    "collapsed": false
   },
   "outputs": [],
   "source": [
    "#uploads all track numbers of filaments that already been documented as non-erupting \n",
    "tracknumbers_oct_2013_trans=[]\n",
    "good_track_no_oct_2013_trans=[]\n",
    "with open('Transit_tracks_oct_2013.csv', 'rb') as f:    ###opens the excel document containing confirmed eruption track information\n",
    "    reader = csv.reader(f)\n",
    "    vdata = [row for row in csv.reader(f.read().splitlines())]   #splits the document by line\n",
    "for row in vdata:\n",
    "    tracknumbers_oct_2013_trans.append(row[0])      ###appends just the track number\n",
    "for i in range(0, 2):\n",
    "    tracknumbers_oct_2013_trans.pop(i)     #removes heading text for file \n",
    "del tracknumbers_oct_2013_trans[0]\n",
    "##########\n",
    "for item in tracknumbers_oct_2013_trans:  \n",
    "    if item != '':\n",
    "        x=float(item)\n",
    "        good_track_no_oct_2013_trans.append(x)  #appends the track numbers as a float to a new list \n",
    "print good_track_no_oct_2013_trans"
   ]
  },
  {
   "cell_type": "code",
   "execution_count": null,
   "metadata": {
    "collapsed": false,
    "scrolled": true
   },
   "outputs": [],
   "source": [
    "#the following loop does a similar thing to the \"filter\" process to correlate eruptions to filaments except \n",
    "#the reverse to find filaments that are NOT already documented and NOT near in time/space any eruption\n",
    "margin = datetime.timedelta(hours=12)  \n",
    "FT_track = long_tracks['Track No.']\n",
    "FT_point = long_tracks['HPC_Center']\n",
    "FT_time = long_tracks['HEK_time']    #Finds the time stamps for all the filaments\n",
    "FE_time = [elem[\"event_starttime\"] for elem in filtered] #Finds the time stamps for all the eruptions\n",
    "FT_poly = long_tracks['HPC_BB_Poly'] \n",
    "FE_box = [elem[\"hpc_bbox\"] for elem in filtered] \n",
    "FE_coords = [elem[\"hpc_coord\"] for elem in filtered] \n",
    "non_erup=[] #the tracks that intersect with eruption boxes\n",
    "yes_erup=[]\n",
    "for i in range(0, len(FT_poly)):\n",
    "    if pd.isnull(FT_poly[i]):    #any tracks less than 4 elements \n",
    "        pass\n",
    "    else:\n",
    "        if FT_track[i] in good_track_no_oct_2013_trans or FT_track[i] in good_track_no_oct_2013:  #checks if track is already documented \n",
    "            pass\n",
    "        else:\n",
    "            FLT = parse(FT_time[i])\n",
    "            FT_poly_obj = loads(FT_poly[i])\n",
    "            for j in range(0, len(FE_box)):\n",
    "                FET=(parse_time(FE_time[j]))\n",
    "                FE_box_obj = loads(FE_box[j]) #creates a shapely box object object\n",
    "                FE_point_obj=loads(FE_coords[j])\n",
    "                if FT_poly_obj.intersects(FE_box_obj) and FET-margin <= FLT <= FET + margin: #checks if track is close in time and space to eruption\n",
    "                    yes_erup.append(FT_track[i])\n",
    "                    pass   ####for some reason this isn't working how I expect it to\n",
    "                else:\n",
    "                    non_erup.append(FT_track[i])    ####appending the tracks that made it through the filters\n",
    "\n",
    "non_erup = np.unique(non_erup)\n",
    "good_ind=[]\n",
    "for i in range(0, len(non_erup)):\n",
    "    if non_erup[i] not in yes_erup:\n",
    "        good_ind.append(i)\n",
    "non_erup_filt = [non_erup[j] for j in good_ind]\n",
    "print non_erup_filt"
   ]
  },
  {
   "cell_type": "code",
   "execution_count": null,
   "metadata": {
    "collapsed": false,
    "scrolled": true
   },
   "outputs": [],
   "source": [
    " ###new updated eruption list for each track \n",
    "tot=[]\n",
    "unique=[]\n",
    "erupind=[]\n",
    "for tracks in non_erup_filt:\n",
    "    tot.append(unique)\n",
    "    unique=[]\n",
    "    for i in range(0, len(good_tracks)):\n",
    "        if tracks == good_tracks['Track No.'][i]:\n",
    "            unique.append(i)\n",
    "            \n",
    "for item in tot:\n",
    "    colorscale2=[]\n",
    "    norm = mpl.colors.Normalize(vmin=0, vmax=3000)\n",
    "    cmap = plt.get_cmap('nipy_spectral')\n",
    "    m = cm.ScalarMappable(norm=norm, cmap=cmap)\n",
    "    for thing1 in non_erup_filt: #plotting those filaments that have eruptions contained within them\n",
    "        scaleR= m.to_rgba(thing1) \n",
    "        colorscale2.append(scaleR)\n",
    "####plots eruptions/sun\n",
    "    plt.grid(True)\n",
    "    plt.ylabel('ycoord (arcsec)',fontsize=18)\n",
    "    plt.xlabel('xcoord (arcsec)',fontsize=18)\n",
    "    plt.axis([-1500, 1500, -1500, 1500])\n",
    "    fig1 = plt.gcf()\n",
    "    Sun=plt.Circle((0,0), radius=1100, color='black', fill=False)\n",
    "    plt.gcf().gca().add_artist(Sun)\n",
    "    fig1.set_size_inches(10.5,10.5)\n",
    "    ax = fig1.add_subplot(111)\n",
    "    ax.set_aspect('equal')\n",
    "        ##############################\n",
    "    for i in range(0, len(item)):\n",
    "        j=item[i]\n",
    "        trnum=  good_tracks['Track No.'][j]\n",
    "        stime=  good_tracks['HEK_time'][j]\n",
    "        print stime\n",
    "        for thing1 in corresponding:\n",
    "            if thing1[0] == trnum:\n",
    "                erupind=[]\n",
    "                #erupind.append(thing1[1])\n",
    "        verup=[indices[i] for i in erupind]   #getting the eruption index from a list of possible indices\n",
    "        erupind=[]\n",
    "        filtered4=[eruptions[k] for k in verup]\n",
    "        longitude = [elem[\"hpc_x\"]for elem in filtered4]\n",
    "        latitude = [elem[\"hpc_y\"] for elem in filtered4]\n",
    "        erup_t = [elem[\"event_starttime\"] for elem in filtered4]\n",
    "        for thing2 in erup_t:\n",
    "            tim = (parse_time(thing2))\n",
    "        plt.text(1400,1400,str(erup_t))\n",
    "        fig=plt.scatter(longitude,latitude, c = 'grey',s=50)\n",
    "        scale2=m.to_rgba(good_tracks['Track No.'][j])\n",
    "        plot_polygon=plt.Polygon(loads(good_tracks['HPC_BB_Poly'][j]).exterior,color=scale2,linewidth=1,fill=None)\n",
    "        fig1.gca().add_artist(plot_polygon)\n",
    "        plt.title('Track Number %(Trackno)d at %(starttime)s on the Sun.' % {\"Trackno\" : trnum, \"starttime\": stime})\n",
    "    plt.show()"
   ]
  }
 ],
 "metadata": {
  "kernelspec": {
   "display_name": "Python 2",
   "language": "python",
   "name": "python2"
  },
  "language_info": {
   "codemirror_mode": {
    "name": "ipython",
    "version": 2
   },
   "file_extension": ".py",
   "mimetype": "text/x-python",
   "name": "python",
   "nbconvert_exporter": "python",
   "pygments_lexer": "ipython2",
   "version": "2.7.10"
  }
 },
 "nbformat": 4,
 "nbformat_minor": 0
}
