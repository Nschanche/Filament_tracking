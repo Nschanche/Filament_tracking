{
 "cells": [
  {
   "cell_type": "code",
   "execution_count": 1,
   "metadata": {
    "collapsed": false
   },
   "outputs": [],
   "source": [
    "#from sunpy.net import hek\n",
    "#from sunpy.net import hek2vso\n",
    "import matplotlib.pyplot as plt\n",
    "%matplotlib inline\n",
    "#matplotlib qt\n",
    "import shapely\n",
    "from shapely.wkt import dumps, loads\n",
    "import numpy as np\n",
    "import pandas as pd\n",
    "from shapely.geometry.polygon import LinearRing, Polygon\n",
    "from datetime import timedelta\n",
    "import datetime\n",
    "#from sunpy.time import *\n",
    "from dateutil.parser import parse\n",
    "import matplotlib.cm as cm\n",
    "import matplotlib as mpl\n",
    "from operator import itemgetter\n",
    "from itertools import groupby\n",
    "import itertools\n",
    "import operator\n",
    "from datetime import timedelta\n",
    "import csv\n",
    "import dateutil\n",
    "import scipy.stats as stats"
   ]
  },
  {
   "cell_type": "markdown",
   "metadata": {},
   "source": [
    "#Get the data for the verified erupting tracks"
   ]
  },
  {
   "cell_type": "code",
   "execution_count": 2,
   "metadata": {
    "collapsed": false
   },
   "outputs": [
    {
     "ename": "IOError",
     "evalue": "File /Volumes/Pegasus/nschanch/Laptop/nschanch/REU_2015/Filament_tracking/2012Track_eruptions_text.csv does not exist",
     "output_type": "error",
     "traceback": [
      "\u001b[0;31m---------------------------------------------------------------------------\u001b[0m",
      "\u001b[0;31mIOError\u001b[0m                                   Traceback (most recent call last)",
      "\u001b[0;32m<ipython-input-2-ffe1176ae10f>\u001b[0m in \u001b[0;36m<module>\u001b[0;34m()\u001b[0m\n\u001b[1;32m      1\u001b[0m \u001b[0;31m#This makes a list of only the track numbers that Ashna verifies as erupting\u001b[0m\u001b[0;34m\u001b[0m\u001b[0;34m\u001b[0m\u001b[0m\n\u001b[1;32m      2\u001b[0m \u001b[0murl_erupting\u001b[0m \u001b[0;34m=\u001b[0m \u001b[0;34m'/Volumes/Pegasus/nschanch/Laptop/nschanch/REU_2015/Filament_tracking/2012Track_eruptions_text.csv'\u001b[0m\u001b[0;34m\u001b[0m\u001b[0m\n\u001b[0;32m----> 3\u001b[0;31m \u001b[0mtrack_files\u001b[0m \u001b[0;34m=\u001b[0m \u001b[0mpd\u001b[0m\u001b[0;34m.\u001b[0m\u001b[0mread_csv\u001b[0m\u001b[0;34m(\u001b[0m\u001b[0murl_erupting\u001b[0m\u001b[0;34m,\u001b[0m \u001b[0mheader\u001b[0m\u001b[0;34m=\u001b[0m\u001b[0;36m2\u001b[0m\u001b[0;34m)\u001b[0m\u001b[0;34m\u001b[0m\u001b[0m\n\u001b[0m\u001b[1;32m      4\u001b[0m \u001b[0mgood_tracks_erupting_2012\u001b[0m \u001b[0;34m=\u001b[0m \u001b[0mtrack_files\u001b[0m\u001b[0;34m[\u001b[0m\u001b[0;34m'Track No. '\u001b[0m\u001b[0;34m]\u001b[0m\u001b[0;34m.\u001b[0m\u001b[0mastype\u001b[0m\u001b[0;34m(\u001b[0m\u001b[0mfloat\u001b[0m\u001b[0;34m)\u001b[0m\u001b[0;34m\u001b[0m\u001b[0m\n\u001b[1;32m      5\u001b[0m \u001b[0mgood_tracks_erupting_2012\u001b[0m\u001b[0;34m.\u001b[0m\u001b[0mhead\u001b[0m\u001b[0;34m(\u001b[0m\u001b[0;34m)\u001b[0m\u001b[0;34m\u001b[0m\u001b[0m\n",
      "\u001b[0;32m/Users/ashnaaggarwal/anaconda/lib/python2.7/site-packages/pandas/io/parsers.pyc\u001b[0m in \u001b[0;36mparser_f\u001b[0;34m(filepath_or_buffer, sep, dialect, compression, doublequote, escapechar, quotechar, quoting, skipinitialspace, lineterminator, header, index_col, names, prefix, skiprows, skipfooter, skip_footer, na_values, na_fvalues, true_values, false_values, delimiter, converters, dtype, usecols, engine, delim_whitespace, as_recarray, na_filter, compact_ints, use_unsigned, low_memory, buffer_lines, warn_bad_lines, error_bad_lines, keep_default_na, thousands, comment, decimal, parse_dates, keep_date_col, dayfirst, date_parser, memory_map, float_precision, nrows, iterator, chunksize, verbose, encoding, squeeze, mangle_dupe_cols, tupleize_cols, infer_datetime_format, skip_blank_lines)\u001b[0m\n\u001b[1;32m    472\u001b[0m                     skip_blank_lines=skip_blank_lines)\n\u001b[1;32m    473\u001b[0m \u001b[0;34m\u001b[0m\u001b[0m\n\u001b[0;32m--> 474\u001b[0;31m         \u001b[0;32mreturn\u001b[0m \u001b[0m_read\u001b[0m\u001b[0;34m(\u001b[0m\u001b[0mfilepath_or_buffer\u001b[0m\u001b[0;34m,\u001b[0m \u001b[0mkwds\u001b[0m\u001b[0;34m)\u001b[0m\u001b[0;34m\u001b[0m\u001b[0m\n\u001b[0m\u001b[1;32m    475\u001b[0m \u001b[0;34m\u001b[0m\u001b[0m\n\u001b[1;32m    476\u001b[0m     \u001b[0mparser_f\u001b[0m\u001b[0;34m.\u001b[0m\u001b[0m__name__\u001b[0m \u001b[0;34m=\u001b[0m \u001b[0mname\u001b[0m\u001b[0;34m\u001b[0m\u001b[0m\n",
      "\u001b[0;32m/Users/ashnaaggarwal/anaconda/lib/python2.7/site-packages/pandas/io/parsers.pyc\u001b[0m in \u001b[0;36m_read\u001b[0;34m(filepath_or_buffer, kwds)\u001b[0m\n\u001b[1;32m    248\u001b[0m \u001b[0;34m\u001b[0m\u001b[0m\n\u001b[1;32m    249\u001b[0m     \u001b[0;31m# Create the parser.\u001b[0m\u001b[0;34m\u001b[0m\u001b[0;34m\u001b[0m\u001b[0m\n\u001b[0;32m--> 250\u001b[0;31m     \u001b[0mparser\u001b[0m \u001b[0;34m=\u001b[0m \u001b[0mTextFileReader\u001b[0m\u001b[0;34m(\u001b[0m\u001b[0mfilepath_or_buffer\u001b[0m\u001b[0;34m,\u001b[0m \u001b[0;34m**\u001b[0m\u001b[0mkwds\u001b[0m\u001b[0;34m)\u001b[0m\u001b[0;34m\u001b[0m\u001b[0m\n\u001b[0m\u001b[1;32m    251\u001b[0m \u001b[0;34m\u001b[0m\u001b[0m\n\u001b[1;32m    252\u001b[0m     \u001b[0;32mif\u001b[0m \u001b[0;34m(\u001b[0m\u001b[0mnrows\u001b[0m \u001b[0;32mis\u001b[0m \u001b[0;32mnot\u001b[0m \u001b[0mNone\u001b[0m\u001b[0;34m)\u001b[0m \u001b[0;32mand\u001b[0m \u001b[0;34m(\u001b[0m\u001b[0mchunksize\u001b[0m \u001b[0;32mis\u001b[0m \u001b[0;32mnot\u001b[0m \u001b[0mNone\u001b[0m\u001b[0;34m)\u001b[0m\u001b[0;34m:\u001b[0m\u001b[0;34m\u001b[0m\u001b[0m\n",
      "\u001b[0;32m/Users/ashnaaggarwal/anaconda/lib/python2.7/site-packages/pandas/io/parsers.pyc\u001b[0m in \u001b[0;36m__init__\u001b[0;34m(self, f, engine, **kwds)\u001b[0m\n\u001b[1;32m    564\u001b[0m             \u001b[0mself\u001b[0m\u001b[0;34m.\u001b[0m\u001b[0moptions\u001b[0m\u001b[0;34m[\u001b[0m\u001b[0;34m'has_index_names'\u001b[0m\u001b[0;34m]\u001b[0m \u001b[0;34m=\u001b[0m \u001b[0mkwds\u001b[0m\u001b[0;34m[\u001b[0m\u001b[0;34m'has_index_names'\u001b[0m\u001b[0;34m]\u001b[0m\u001b[0;34m\u001b[0m\u001b[0m\n\u001b[1;32m    565\u001b[0m \u001b[0;34m\u001b[0m\u001b[0m\n\u001b[0;32m--> 566\u001b[0;31m         \u001b[0mself\u001b[0m\u001b[0;34m.\u001b[0m\u001b[0m_make_engine\u001b[0m\u001b[0;34m(\u001b[0m\u001b[0mself\u001b[0m\u001b[0;34m.\u001b[0m\u001b[0mengine\u001b[0m\u001b[0;34m)\u001b[0m\u001b[0;34m\u001b[0m\u001b[0m\n\u001b[0m\u001b[1;32m    567\u001b[0m \u001b[0;34m\u001b[0m\u001b[0m\n\u001b[1;32m    568\u001b[0m     \u001b[0;32mdef\u001b[0m \u001b[0m_get_options_with_defaults\u001b[0m\u001b[0;34m(\u001b[0m\u001b[0mself\u001b[0m\u001b[0;34m,\u001b[0m \u001b[0mengine\u001b[0m\u001b[0;34m)\u001b[0m\u001b[0;34m:\u001b[0m\u001b[0;34m\u001b[0m\u001b[0m\n",
      "\u001b[0;32m/Users/ashnaaggarwal/anaconda/lib/python2.7/site-packages/pandas/io/parsers.pyc\u001b[0m in \u001b[0;36m_make_engine\u001b[0;34m(self, engine)\u001b[0m\n\u001b[1;32m    703\u001b[0m     \u001b[0;32mdef\u001b[0m \u001b[0m_make_engine\u001b[0m\u001b[0;34m(\u001b[0m\u001b[0mself\u001b[0m\u001b[0;34m,\u001b[0m \u001b[0mengine\u001b[0m\u001b[0;34m=\u001b[0m\u001b[0;34m'c'\u001b[0m\u001b[0;34m)\u001b[0m\u001b[0;34m:\u001b[0m\u001b[0;34m\u001b[0m\u001b[0m\n\u001b[1;32m    704\u001b[0m         \u001b[0;32mif\u001b[0m \u001b[0mengine\u001b[0m \u001b[0;34m==\u001b[0m \u001b[0;34m'c'\u001b[0m\u001b[0;34m:\u001b[0m\u001b[0;34m\u001b[0m\u001b[0m\n\u001b[0;32m--> 705\u001b[0;31m             \u001b[0mself\u001b[0m\u001b[0;34m.\u001b[0m\u001b[0m_engine\u001b[0m \u001b[0;34m=\u001b[0m \u001b[0mCParserWrapper\u001b[0m\u001b[0;34m(\u001b[0m\u001b[0mself\u001b[0m\u001b[0;34m.\u001b[0m\u001b[0mf\u001b[0m\u001b[0;34m,\u001b[0m \u001b[0;34m**\u001b[0m\u001b[0mself\u001b[0m\u001b[0;34m.\u001b[0m\u001b[0moptions\u001b[0m\u001b[0;34m)\u001b[0m\u001b[0;34m\u001b[0m\u001b[0m\n\u001b[0m\u001b[1;32m    706\u001b[0m         \u001b[0;32melse\u001b[0m\u001b[0;34m:\u001b[0m\u001b[0;34m\u001b[0m\u001b[0m\n\u001b[1;32m    707\u001b[0m             \u001b[0;32mif\u001b[0m \u001b[0mengine\u001b[0m \u001b[0;34m==\u001b[0m \u001b[0;34m'python'\u001b[0m\u001b[0;34m:\u001b[0m\u001b[0;34m\u001b[0m\u001b[0m\n",
      "\u001b[0;32m/Users/ashnaaggarwal/anaconda/lib/python2.7/site-packages/pandas/io/parsers.pyc\u001b[0m in \u001b[0;36m__init__\u001b[0;34m(self, src, **kwds)\u001b[0m\n\u001b[1;32m   1070\u001b[0m         \u001b[0mkwds\u001b[0m\u001b[0;34m[\u001b[0m\u001b[0;34m'allow_leading_cols'\u001b[0m\u001b[0;34m]\u001b[0m \u001b[0;34m=\u001b[0m \u001b[0mself\u001b[0m\u001b[0;34m.\u001b[0m\u001b[0mindex_col\u001b[0m \u001b[0;32mis\u001b[0m \u001b[0;32mnot\u001b[0m \u001b[0mFalse\u001b[0m\u001b[0;34m\u001b[0m\u001b[0m\n\u001b[1;32m   1071\u001b[0m \u001b[0;34m\u001b[0m\u001b[0m\n\u001b[0;32m-> 1072\u001b[0;31m         \u001b[0mself\u001b[0m\u001b[0;34m.\u001b[0m\u001b[0m_reader\u001b[0m \u001b[0;34m=\u001b[0m \u001b[0m_parser\u001b[0m\u001b[0;34m.\u001b[0m\u001b[0mTextReader\u001b[0m\u001b[0;34m(\u001b[0m\u001b[0msrc\u001b[0m\u001b[0;34m,\u001b[0m \u001b[0;34m**\u001b[0m\u001b[0mkwds\u001b[0m\u001b[0;34m)\u001b[0m\u001b[0;34m\u001b[0m\u001b[0m\n\u001b[0m\u001b[1;32m   1073\u001b[0m \u001b[0;34m\u001b[0m\u001b[0m\n\u001b[1;32m   1074\u001b[0m         \u001b[0;31m# XXX\u001b[0m\u001b[0;34m\u001b[0m\u001b[0;34m\u001b[0m\u001b[0m\n",
      "\u001b[0;32mpandas/parser.pyx\u001b[0m in \u001b[0;36mpandas.parser.TextReader.__cinit__ (pandas/parser.c:3173)\u001b[0;34m()\u001b[0m\n",
      "\u001b[0;32mpandas/parser.pyx\u001b[0m in \u001b[0;36mpandas.parser.TextReader._setup_parser_source (pandas/parser.c:5912)\u001b[0;34m()\u001b[0m\n",
      "\u001b[0;31mIOError\u001b[0m: File /Volumes/Pegasus/nschanch/Laptop/nschanch/REU_2015/Filament_tracking/2012Track_eruptions_text.csv does not exist"
     ]
    }
   ],
   "source": [
    "#This makes a list of only the track numbers that Ashna verifies as erupting\n",
    "url_erupting = '/Volumes/Pegasus/nschanch/Laptop/nschanch/REU_2015/Filament_tracking/2012Track_eruptions_text.csv'\n",
    "track_files = pd.read_csv(url_erupting, header=2)\n",
    "good_tracks_erupting_2012 = track_files['Track No. '].astype(float)\n",
    "good_tracks_erupting_2012.head() \n"
   ]
  },
  {
   "cell_type": "code",
   "execution_count": null,
   "metadata": {
    "collapsed": false
   },
   "outputs": [],
   "source": [
    "#This is the data file from Dustin with all track information\n",
    "fi_tracked2012 = pd.read_csv('/Volumes/Pegasus/nschanch/Laptop/nschanch/REU_2015/Filament_tracking/FIDustinTracked_2012.txt',delimiter='\\t')   ##working with filament data \n",
    "print len(fi_tracked2012)\n",
    "#fi_tracked2012.head()"
   ]
  },
  {
   "cell_type": "code",
   "execution_count": null,
   "metadata": {
    "collapsed": false
   },
   "outputs": [],
   "source": [
    "#Only keep tracks with at least 3 data points\n",
    "good_tracks2012 = fi_tracked2012.groupby('Track No.').filter(lambda x: len(x['Track No.']) >= 3, dropna=True)\n",
    "print len(good_tracks2012)\n",
    "good_tracks2012.head()"
   ]
  },
  {
   "cell_type": "code",
   "execution_count": null,
   "metadata": {
    "collapsed": false
   },
   "outputs": [],
   "source": [
    " ###selects the data of interest by csv track numbers \n",
    "working_data_2012_erupting= good_tracks2012[good_tracks2012['Track No.'].isin(good_tracks_erupting_2012)]\n",
    "working_data_2012_erupting.head()"
   ]
  },
  {
   "cell_type": "code",
   "execution_count": null,
   "metadata": {
    "collapsed": false
   },
   "outputs": [],
   "source": [
    "#Pull out the x and y center information\n",
    "xvals = [loads(elem).x for elem in working_data_2012_erupting['HPC_Center']]\n",
    "working_data_2012_erupting['xcen'] = xvals\n",
    "#print len(working_data_2012_trans)\n",
    "yvals = [loads(elem).y for elem in working_data_2012_erupting['HPC_Center']]\n",
    "working_data_2012_erupting['ycen'] = yvals "
   ]
  },
  {
   "cell_type": "markdown",
   "metadata": {},
   "source": [
    "# Find the Length to width ratio and the area for each filament"
   ]
  },
  {
   "cell_type": "code",
   "execution_count": null,
   "metadata": {
    "collapsed": false
   },
   "outputs": [],
   "source": [
    "#Find the L to W using the bounding box rectangle.\n",
    "rec_2012 = working_data_2012_erupting['HPC_BB_Rec']\n",
    "L_to_W_2012 = []\n",
    "\n",
    "\n",
    "for item in rec_2012:\n",
    "    rec = loads(item) #loading each polygon\n",
    "    #the bounds gives [xmin, ymin, xmax, ymax]\n",
    "    L_to_W_2012.append((rec.bounds[2]-rec.bounds[0])/ (rec.bounds[3]-rec.bounds[1]))\n",
    "    \n",
    "working_data_2012_erupting['L_to_W'] = L_to_W_2012\n",
    "working_data_2012_erupting.tail()"
   ]
  },
  {
   "cell_type": "code",
   "execution_count": null,
   "metadata": {
    "collapsed": false
   },
   "outputs": [],
   "source": [
    "poly_2012 = working_data_2012_erupting['HPC_BB_Poly']\n",
    "area_data_2012 = []\n",
    "\n",
    "\n",
    "for item in poly_2012:\n",
    "    poly = loads(item) #loading each polygon\n",
    "    tot_area = poly.area\n",
    "    area_data_2012.append(tot_area)\n",
    "    \n",
    "working_data_2012_erupting['area'] = area_data_2012"
   ]
  },
  {
   "cell_type": "code",
   "execution_count": null,
   "metadata": {
    "collapsed": false
   },
   "outputs": [],
   "source": [
    "#Make a new pandas dataframe with the relevant information\n",
    "all_tracks_erupting = working_data_2012_erupting[['Track No.','fi_length','HEK_time','fi_chirality','fi_tilt','area','fi_barbstot','xcen','ycen','L_to_W']]\n",
    "print len(all_tracks_erupting)\n",
    "all_tracks_erupting.head()"
   ]
  },
  {
   "cell_type": "code",
   "execution_count": null,
   "metadata": {
    "collapsed": false
   },
   "outputs": [],
   "source": [
    "#Just getting to know the data a little bit. \n",
    "plt.figure(figsize=(10,10))\n",
    "plt.grid(True)\n",
    "plt.ylabel('Number of Erupting Filaments',fontsize=18)\n",
    "plt.xlabel('Length of Filament (cm)',fontsize=18)\n",
    "all_tracks_erupting['fi_length'].plot(kind='hist', rwidth=1.5, color = 'orange')\n",
    "plt.title('Length Distribution of Erupting Filaments',fontsize=18)\n",
    "\n",
    "\n",
    "    \n",
    "plt.figure(figsize=(10,10))\n",
    "plt.grid(True)\n",
    "plt.ylabel('Number of Erupting Filaments',fontsize=18)\n",
    "plt.xlabel('Tilt of Filament (Deg)',fontsize=18)\n",
    "all_tracks_erupting['fi_tilt'].plot(kind='hist', rwidth=1.5, color = 'orange')\n",
    "plt.title('Tilt Distribution of Erupting Filaments',fontsize=18)"
   ]
  },
  {
   "cell_type": "code",
   "execution_count": null,
   "metadata": {
    "collapsed": false
   },
   "outputs": [],
   "source": [
    "#Add a column that expresses the time elapsed between filament measurements\n",
    "grouped_filaments = all_tracks_erupting.groupby('Track No.')\n",
    "stuff = 0\n",
    "time_delta = []\n",
    "\n",
    "for name, group in grouped_filaments:\n",
    "    #print name\n",
    "    \n",
    "    t = group['HEK_time']\n",
    "    \n",
    "    time = [pd.to_datetime(date) for date in t]\n",
    "    t0 = time[0]\n",
    "    for i in range(len(time)):\n",
    "        t1 = time[i]\n",
    "        time_delta.append(timedelta.total_seconds(t1 - t0))\n",
    "        \n",
    "#print time_delta       \n",
    "print len(all_tracks_erupting)\n",
    "print len(time_delta)\n",
    "all_tracks_erupting['time_delta'] = time_delta\n",
    "all_tracks_erupting.head()"
   ]
  },
  {
   "cell_type": "code",
   "execution_count": null,
   "metadata": {
    "collapsed": true
   },
   "outputs": [],
   "source": [
    "#This will be my base program for plotting the trends for different features\n",
    "\n",
    "def plot_slopes(x,y,m,b,title,ytitle):\n",
    "    line = [m*each+b for each in x] #Calculate the line points (y =mx+b)\n",
    "    \n",
    "    plt.plot(x, y, color='orange', linestyle='-')\n",
    "    plt.plot(x, line, '-.', color='blue')   ##plots the line fit\n",
    "    plt.title(title)\n",
    "    plt.grid(True)\n",
    "    fig1 = plt.gcf()\n",
    "    fig1.set_size_inches(10.5,10.5)\n",
    "    plt.xlabel('Filament Track time')\n",
    "    plt.ylabel(ytitle)\n",
    "    plt.xticks( rotation= 80 )\n",
    "    #plt.show() #<- uncomment this if you want to plot each filament on a different plot. This takes a lot longer."
   ]
  },
  {
   "cell_type": "markdown",
   "metadata": {},
   "source": [
    "# First lets calculate the average LENGTH and the change in length for the filament. "
   ]
  },
  {
   "cell_type": "code",
   "execution_count": null,
   "metadata": {
    "collapsed": false
   },
   "outputs": [],
   "source": [
    "grouped_filaments = all_tracks_erupting.groupby('Track No.')\n",
    "len_slopes = []\n",
    "avg_len = []\n",
    "len_stdev = []\n",
    "len_skew = []\n",
    "for name, group in grouped_filaments:\n",
    "    t_delt = group['time_delta']\n",
    "    f_len = group['fi_length']\n",
    "    fit = np.polyfit(t_delt, f_len,1)\n",
    "    len_slopes = len_slopes + [fit]*len(f_len) \n",
    "    avg_len.extend([f_len.mean()]*len(f_len))\n",
    "    len_stdev.extend([np.std(f_len)]*len(f_len))\n",
    "    len_skew.extend([stats.skew(f_len)]*len(f_len))\n",
    "    plot_slopes(t_delt,f_len,fit[0],fit[1],'Erupting Filament Length','filament length (cm)')\n",
    "\n"
   ]
  },
  {
   "cell_type": "code",
   "execution_count": null,
   "metadata": {
    "collapsed": false
   },
   "outputs": [],
   "source": [
    "len_slopes_only = [item[0] for item in len_slopes]\n",
    "\n",
    "all_tracks_erupting['len_fits'] = len_slopes\n",
    "all_tracks_erupting['len_slope'] = len_slopes_only\n",
    "all_tracks_erupting['avg_len'] = avg_len\n",
    "all_tracks_erupting['len_stdev'] = len_stdev\n",
    "all_tracks_erupting['len_skew'] = len_skew\n",
    "#all_tracks_erupting.head()"
   ]
  },
  {
   "cell_type": "code",
   "execution_count": null,
   "metadata": {
    "collapsed": false
   },
   "outputs": [],
   "source": [
    "n_groups=5\n",
    "\n",
    "plt.xlabel('Slope (m) - Length/Time')\n",
    "plt.ylabel('Number of Instances')\n",
    "plt.title('Length Change of Erupting Filaments')\n",
    "fig1 = plt.gcf()\n",
    "fig1.set_size_inches(8.5,8.5)\n",
    "plt.hist(len_slopes_only, color='orange')\n",
    "plt.tight_layout()\n",
    "plt.show()"
   ]
  },
  {
   "cell_type": "markdown",
   "metadata": {},
   "source": [
    "#On to the AREA"
   ]
  },
  {
   "cell_type": "code",
   "execution_count": null,
   "metadata": {
    "collapsed": false
   },
   "outputs": [],
   "source": [
    "#The format of how I find the slope for each feature is the same\n",
    "grouped_filaments = all_tracks_erupting.groupby('Track No.')\n",
    "area_slopes = []\n",
    "avg_area = []\n",
    "area_stdev = []\n",
    "area_skew = []\n",
    "for name, group in grouped_filaments:\n",
    "    t_delt = group['time_delta']\n",
    "    f_area = group['area']\n",
    "    fit = np.polyfit(t_delt, f_area,1)\n",
    "    area_slopes = area_slopes + [fit]*len(f_area) \n",
    "    avg_area.extend([f_area.mean()]*len(f_area))\n",
    "    area_stdev.extend([np.std(f_area)]*len(f_area))\n",
    "    area_skew.extend([stats.skew(f_area)]*len(f_area))\n",
    "    plot_slopes(t_delt,f_area,fit[0],fit[1],'Erupting Filament Area', 'Area (km^2)')"
   ]
  },
  {
   "cell_type": "code",
   "execution_count": null,
   "metadata": {
    "collapsed": false
   },
   "outputs": [],
   "source": [
    "#Add the area information to the dataframe\n",
    "area_slopes_only = [item[0] for item in area_slopes]\n",
    "all_tracks_erupting['avg_area'] = avg_area\n",
    "all_tracks_erupting['area_fits'] = area_slopes\n",
    "all_tracks_erupting['area_slope'] = area_slopes_only\n",
    "all_tracks_erupting['area_stdev'] = area_stdev\n",
    "all_tracks_erupting['area_skew'] = area_skew\n",
    "#all_tracks_erupting.head()"
   ]
  },
  {
   "cell_type": "code",
   "execution_count": null,
   "metadata": {
    "collapsed": false
   },
   "outputs": [],
   "source": [
    "plt.xlabel('Slope (m) - Area/Time')\n",
    "plt.ylabel('Number of Instances')\n",
    "plt.title('Change in Area of Erupting Filaments')\n",
    "fig1 = plt.gcf()\n",
    "fig1.set_size_inches(8.5,8.5)\n",
    "plt.hist(area_slopes_only, color='orange')\n",
    "plt.tight_layout()\n",
    "plt.show()"
   ]
  },
  {
   "cell_type": "markdown",
   "metadata": {},
   "source": [
    "#And the Length to Width Ratio"
   ]
  },
  {
   "cell_type": "code",
   "execution_count": null,
   "metadata": {
    "collapsed": false
   },
   "outputs": [],
   "source": [
    "#The format of how I find the slope for each feature is the same\n",
    "grouped_filaments = all_tracks_erupting.groupby('Track No.')\n",
    "size_ratio_slopes = []\n",
    "avg_size_ratio = []\n",
    "size_ratio_stdev = []\n",
    "size_ratio_skew = []\n",
    "for name, group in grouped_filaments:\n",
    "    t_delt = group['time_delta']\n",
    "    f_size_ratio = group['L_to_W']\n",
    "    fit = np.polyfit(t_delt, f_size_ratio,1)\n",
    "    size_ratio_slopes = size_ratio_slopes + [fit]*len(f_size_ratio) \n",
    "    avg_size_ratio.extend([f_size_ratio.mean()]*len(f_size_ratio))\n",
    "    size_ratio_stdev.extend([np.std(f_size_ratio)]*len(f_size_ratio))\n",
    "    size_ratio_skew.extend([stats.skew(f_size_ratio)]*len(f_size_ratio))\n",
    "    plot_slopes(t_delt,f_size_ratio,fit[0],fit[1],'Erupting Filament L to W', 'L/W')"
   ]
  },
  {
   "cell_type": "code",
   "execution_count": null,
   "metadata": {
    "collapsed": false
   },
   "outputs": [],
   "source": [
    "#Add the area information to the dataframe\n",
    "size_ratio_slopes_only = [item[0] for item in size_ratio_slopes]\n",
    "all_tracks_erupting['avg_L_to_W'] = avg_size_ratio\n",
    "all_tracks_erupting['L_to_W_slope'] = size_ratio_slopes_only\n",
    "all_tracks_erupting['L_to_W_stdev'] = size_ratio_stdev\n",
    "all_tracks_erupting['L_to_W_skew'] = size_ratio_skew\n",
    "all_tracks_erupting.head()"
   ]
  },
  {
   "cell_type": "code",
   "execution_count": null,
   "metadata": {
    "collapsed": false
   },
   "outputs": [],
   "source": [
    "plt.xlabel('Size ratio')\n",
    "plt.ylabel('Number of Instances')\n",
    "plt.title('Change in shape of Erupting Filaments')\n",
    "fig1 = plt.gcf()\n",
    "fig1.set_size_inches(8.5,8.5)\n",
    "all_tracks_erupting['L_to_W'].plot.hist(color='orange')\n",
    "#plt.hist(all_tracks_erupting['L_to_W'], color='orange')\n",
    "#print all_tracks_erupting['L_to_W']\n",
    "plt.tight_layout()\n",
    "plt.show()"
   ]
  },
  {
   "cell_type": "markdown",
   "metadata": {},
   "source": [
    "#Let's check out those barbs"
   ]
  },
  {
   "cell_type": "code",
   "execution_count": null,
   "metadata": {
    "collapsed": false
   },
   "outputs": [],
   "source": [
    "#barbs = all_tracks_trans['fi_barbstot']\n",
    "plt.xlabel('Number of Barbs')\n",
    "plt.ylabel('Number of Instances')\n",
    "plt.title('Number of barbs in the filament')\n",
    "fig1 = plt.gcf()\n",
    "fig1.set_size_inches(8.5,8.5)\n",
    "#plt.hist(barbs)\n",
    "plt.tight_layout()\n",
    "all_tracks_erupting['fi_barbstot'].plot(kind='hist', rwidth=1.5, color = 'orange')"
   ]
  },
  {
   "cell_type": "code",
   "execution_count": null,
   "metadata": {
    "collapsed": true
   },
   "outputs": [],
   "source": [
    "grouped_filaments = all_tracks_erupting.groupby('Track No.')\n",
    "avg_barbs = []\n",
    "barb_slope = []\n",
    "barb_stdev = []\n",
    "barb_skew = []\n",
    "for name, group in grouped_filaments:\n",
    "    t_delt = group['time_delta']\n",
    "    barbstot = group['fi_barbstot']\n",
    "    fit = np.polyfit(t_delt, barbstot,1)\n",
    "    barb_slope = barb_slope + [fit]*len(barbstot) \n",
    "    avg_barbs.extend([barbstot.mean()]*len(barbstot))\n",
    "    barb_stdev.extend([np.std(barbstot)]*len(barbstot))\n",
    "    barb_skew.extend([stats.skew(barbstot)]*len(barbstot))\n",
    "    #plot_slopes(t_delt,barbstot,fit[0],fit[1])\n",
    "    \n",
    "barb_slopes_only = [item[0] for item in barb_slope]"
   ]
  },
  {
   "cell_type": "code",
   "execution_count": null,
   "metadata": {
    "collapsed": false
   },
   "outputs": [],
   "source": [
    "print len(avg_barbs)\n",
    "print len(barb_slope)\n",
    "all_tracks_erupting['avg_barbs'] = avg_barbs\n",
    "all_tracks_erupting['barb_slope'] = barb_slopes_only\n",
    "all_tracks_erupting['barb_stdev'] = barb_stdev\n",
    "all_tracks_erupting['barb_skew'] = barb_skew\n",
    "#all_tracks_erupting.head()"
   ]
  },
  {
   "cell_type": "markdown",
   "metadata": {},
   "source": [
    "#How tilted is it?"
   ]
  },
  {
   "cell_type": "code",
   "execution_count": null,
   "metadata": {
    "collapsed": false
   },
   "outputs": [],
   "source": [
    "print min(all_tracks_erupting['fi_tilt'])\n",
    "print max(all_tracks_erupting['fi_tilt'])"
   ]
  },
  {
   "cell_type": "code",
   "execution_count": null,
   "metadata": {
    "collapsed": false
   },
   "outputs": [],
   "source": [
    "grouped_filaments = all_tracks_erupting.groupby('Track No.')\n",
    "tilt_slope = []\n",
    "avg_tilt = []\n",
    "tilt_stdev = []\n",
    "tilt_skew = []\n",
    "for name, group in grouped_filaments:\n",
    "    t_delt = group['time_delta']\n",
    "    f_tilt = group['fi_tilt']\n",
    "    fit = np.polyfit(t_delt, f_tilt,1)\n",
    "    tilt_slope = tilt_slope + [fit]*len(f_tilt)  \n",
    "    avg_tilt.extend([f_tilt.mean()]*len(f_tilt))\n",
    "    tilt_stdev.extend([np.std(f_tilt)]*len(f_tilt))\n",
    "    tilt_skew.extend([stats.skew(f_tilt)]*len(f_tilt))\n",
    "    plot_slopes(t_delt,f_tilt,fit[0],fit[1],'Non-erupting Filament Tilt','Tilt (degrees from equator)')\n",
    "       \n",
    "tilt_slopes_only = [item[0] for item in tilt_slope]"
   ]
  },
  {
   "cell_type": "code",
   "execution_count": null,
   "metadata": {
    "collapsed": false
   },
   "outputs": [],
   "source": [
    "all_tracks_erupting['avg_tilt'] = avg_tilt\n",
    "all_tracks_erupting['tilt_slope'] = tilt_slopes_only\n",
    "all_tracks_erupting['tilt_stdev'] = tilt_stdev\n",
    "all_tracks_erupting['tilt_skew'] = tilt_skew\n",
    "#all_tracks_erupting.head()"
   ]
  },
  {
   "cell_type": "code",
   "execution_count": null,
   "metadata": {
    "collapsed": false
   },
   "outputs": [],
   "source": [
    "north_filaments = all_tracks_erupting[all_tracks_erupting['ycen']>=0]\n",
    "south_filaments = all_tracks_erupting[all_tracks_erupting['ycen']<0]\n",
    "print len(north_filaments)\n",
    "print len(south_filaments)\n",
    "#barbs = all_tracks_erupting['fi_barbstot']\n",
    "plt.xlabel('Avg tilt')\n",
    "plt.ylabel('Number of Instances')\n",
    "plt.xlim([0,90])\n",
    "plt.title('Absolute value of the Tilt of filaments')\n",
    "fig1 = plt.gcf()\n",
    "fig1.set_size_inches(8.5,8.5)\n",
    "#plt.hist(barbs)\n",
    "plt.tight_layout()\n",
    "abs(north_filaments['avg_tilt']).plot(kind='hist', rwidth=1.5, color = 'orange', alpha=0.5)\n",
    "abs(south_filaments['avg_tilt']).plot(kind='hist', rwidth=1.5, color = 'blue', alpha=0.5)"
   ]
  },
  {
   "cell_type": "markdown",
   "metadata": {},
   "source": [
    "#Next stop: Chirality"
   ]
  },
  {
   "cell_type": "code",
   "execution_count": null,
   "metadata": {
    "collapsed": false
   },
   "outputs": [],
   "source": [
    "grouped_filaments = all_tracks_erupting.groupby('Track No.')\n",
    "chiral_slope = []\n",
    "avg_chiral = []\n",
    "for name, group in grouped_filaments:\n",
    "    t_delt = group['time_delta']\n",
    "    f_chiral = group['fi_chirality']\n",
    "    fit = np.polyfit(t_delt, f_chiral,1)\n",
    "    chiral_slope = chiral_slope + [fit]*len(f_chiral)  \n",
    "    avg_chiral.extend([f_chiral.mean()]*len(f_chiral))\n",
    "    plot_slopes(t_delt,f_chiral,fit[0],fit[1],'Erupting Filament Chirality','Chirality (-1 to 1)')\n",
    "       \n",
    "chiral_slopes_only = [item[0] for item in chiral_slope]"
   ]
  },
  {
   "cell_type": "code",
   "execution_count": null,
   "metadata": {
    "collapsed": false
   },
   "outputs": [],
   "source": [
    "all_tracks_erupting['avg_chirality'] = avg_chiral\n",
    "all_tracks_erupting['chirality_slope'] = chiral_slopes_only\n",
    "#all_tracks_erupting.head()"
   ]
  },
  {
   "cell_type": "markdown",
   "metadata": {},
   "source": [
    "#Add the average X and Y coordiantes to the mix for good measure"
   ]
  },
  {
   "cell_type": "code",
   "execution_count": null,
   "metadata": {
    "collapsed": false
   },
   "outputs": [],
   "source": [
    "grouped_filaments = all_tracks_erupting.groupby('Track No.')\n",
    "avg_x = []\n",
    "avg_y = []\n",
    "for name, group in grouped_filaments:\n",
    "    f_xloc = group['xcen']\n",
    "    f_yloc = group['ycen'] \n",
    "    avg_x.extend([f_xloc.mean()]*len(f_xloc))\n",
    "    avg_y.extend([f_yloc.mean()]*len(f_yloc))\n",
    "all_tracks_erupting['avg_xcen'] = avg_x\n",
    "all_tracks_erupting['avg_ycen'] = avg_y\n",
    "all_tracks_erupting.head()"
   ]
  },
  {
   "cell_type": "code",
   "execution_count": null,
   "metadata": {
    "collapsed": false
   },
   "outputs": [],
   "source": [
    "all_tracks_erupting.keys()"
   ]
  },
  {
   "cell_type": "code",
   "execution_count": null,
   "metadata": {
    "collapsed": false
   },
   "outputs": [],
   "source": [
    "short_list = grouped_filaments.first()"
   ]
  },
  {
   "cell_type": "code",
   "execution_count": null,
   "metadata": {
    "collapsed": false
   },
   "outputs": [],
   "source": [
    "short_list.reset_index(inplace=1) #Inplace keeps Track No. as a column, rather than setting it as an index\n",
    "short_list.head()"
   ]
  },
  {
   "cell_type": "code",
   "execution_count": null,
   "metadata": {
    "collapsed": true
   },
   "outputs": [],
   "source": [
    "short_list.to_csv('Eruption_Analysis_Updated.csv', columns = ('Track No.', 'avg_len', 'len_slope', 'len_stdev','len_skew','avg_area', 'area_slope', 'avg_chirality','area_stdev','area_skew', 'chirality_slope', 'avg_barbs', 'barb_slope','barb_stdev','barb_skew','avg_tilt', 'tilt_slope','tilt_stdev','tilt_skew','avg_xcen','avg_ycen','avg_L_to_W','L_to_W_slope','L_to_W_stdev','L_to_W_skew'))"
   ]
  },
  {
   "cell_type": "code",
   "execution_count": null,
   "metadata": {
    "collapsed": false
   },
   "outputs": [],
   "source": [
    "def plot_skew(param_list, color, param):\n",
    "    plt.xlabel('skew')\n",
    "    plt.ylabel('Number of Instances')\n",
    "    plt.xlim([-3,3])\n",
    "    plt.title('Skew of the %s' % param)\n",
    "    fig1 = plt.gcf()\n",
    "    fig1.set_size_inches(5.5,5.5)\n",
    "    plt.tight_layout()\n",
    "    param_list.plot(kind='hist',rwidth=1.5, color = color, alpha=0.5)\n",
    "    plt.show()\n",
    "\n",
    "\n",
    "plot_skew(short_list['tilt_skew'],color='b', param='tilt')\n",
    "plot_skew(short_list['area_skew'],color='g', param='area')\n",
    "plot_skew(short_list['barb_skew'],color='r', param='barb')\n",
    "plot_skew(short_list['len_skew'],color='y', param='len')\n",
    "plot_skew(short_list['L_to_W_skew'],color='orange', param='len')"
   ]
  },
  {
   "cell_type": "code",
   "execution_count": null,
   "metadata": {
    "collapsed": false
   },
   "outputs": [],
   "source": [
    "def plot_stdev(param_list, color, param):\n",
    "    plt.xlabel('standard deviation')\n",
    "    plt.ylabel('Number of Instances')\n",
    "    #plt.xlim([-3,3])\n",
    "    plt.title('Standard Deviation of the %s' % param)\n",
    "    fig1 = plt.gcf()\n",
    "    fig1.set_size_inches(5.5,5.5)\n",
    "    plt.tight_layout()\n",
    "    param_list.plot(kind='hist',rwidth=1.5, color = color, alpha=0.5)\n",
    "    plt.show()\n",
    "\n",
    "\n",
    "plot_stdev(short_list['tilt_stdev'],color='b', param='tilt')\n",
    "plot_stdev(short_list['area_stdev'],color='g', param='area')\n",
    "plot_stdev(short_list['barb_stdev'],color='r', param='barb')\n",
    "plot_stdev(short_list['len_stdev'],color='y', param='len')\n",
    "plot_stdev(short_list['L_to_W_stdev'],color='orange', param='len')"
   ]
  }
 ],
 "metadata": {
  "kernelspec": {
   "display_name": "Python 2",
   "language": "python",
   "name": "python2"
  },
  "language_info": {
   "codemirror_mode": {
    "name": "ipython",
    "version": 2
   },
   "file_extension": ".py",
   "mimetype": "text/x-python",
   "name": "python",
   "nbconvert_exporter": "python",
   "pygments_lexer": "ipython2",
   "version": "2.7.10"
  }
 },
 "nbformat": 4,
 "nbformat_minor": 0
}
