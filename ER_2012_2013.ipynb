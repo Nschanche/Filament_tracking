{
 "cells": [
  {
   "cell_type": "code",
   "execution_count": 8,
   "metadata": {
    "collapsed": true
   },
   "outputs": [],
   "source": [
    "#imports\n",
    "from sunpy.net import hek\n",
    "from sunpy.net import hek2vso\n",
    "import matplotlib.pyplot as plt\n",
    "%matplotlib inline\n",
    "#matplotlib qt\n",
    "import shapely\n",
    "from shapely.wkt import dumps, loads\n",
    "import numpy as np\n",
    "import pandas as pd\n",
    "from shapely.geometry.polygon import LinearRing, Polygon\n",
    "from datetime import timedelta\n",
    "import datetime\n",
    "from sunpy.time import *\n",
    "from dateutil.parser import parse\n",
    "import matplotlib.cm as cm\n",
    "import matplotlib as mpl\n",
    "from operator import itemgetter\n",
    "from itertools import groupby\n",
    "import itertools\n",
    "import operator\n",
    "from datetime import timedelta\n",
    "import time"
   ]
  },
  {
   "cell_type": "code",
   "execution_count": 3,
   "metadata": {
    "collapsed": false
   },
   "outputs": [],
   "source": [
    "###### the following is the code ashna has written to filter out single filament eruptions recorded at different wavelengths\n",
    "client = hek.HEKClient()\n",
    "h2v = hek2vso.H2VClient()\n",
    "tstart = '2012/01/01 00:00:00'\n",
    "tend = '2013/12/31 23:59:59'\n",
    "event_type = 'ER'\n",
    "eruptions = client.query(hek.attrs.Time(tstart,tend),hek.attrs.EventType(event_type))\n",
    "vso_records = h2v.translate_and_query(eruptions[10])"
   ]
  },
  {
   "cell_type": "code",
   "execution_count": 4,
   "metadata": {
    "collapsed": true
   },
   "outputs": [],
   "source": [
    "def SetupSunPlotColor(eruptions, trackno, filament):\n",
    "    plt.grid(True)\n",
    "    plt.ylabel('ycoord (arcsec)',fontsize=18)\n",
    "    plt.xlabel('xcoord (arcsec)',fontsize=18)\n",
    "    plt.axis([-1500, 1500, -1500, 1500])\n",
    "    cmap = plt.get_cmap('nipy_spectral')\n",
    "    norm = mpl.colors.Normalize(vmin=0, vmax=3000)\n",
    "    m = cm.ScalarMappable(norm=norm, cmap=cmap)\n",
    "    scale= m.to_rgba(trackno)\n",
    "    longitude = [elem[\"hpc_x\"] for elem in eruptions]  #plotting only those eruptions that are contained in filaments \n",
    "    latitude = [elem[\"hpc_y\"] for elem in eruptions]   #plotting only those eruptions that are contained in filaments\n",
    "    for x,y in zip(longitude, latitude):\n",
    "        fig=plt.scatter(x, y, color=next(colors),s=50)\n",
    "    Circle1 = plt.Circle((0,0), radius=1000, linestyle='solid', linewidth=2, fill=False)\n",
    "    fig1 = plt.gcf()\n",
    "    fig1.gca().add_artist(Circle1)\n",
    "    fig1.set_size_inches(10.5,10.5)\n",
    "    ax = fig1.add_subplot(111)\n",
    "    ax.set_aspect('equal')\n",
    "    ax.tick_params(axis='both', which='major', labelsize=14)\n",
    "    plt.title('Filament Eruptions and Tracks on the Sun, October 2013')\n",
    "    plot_polygon=plt.Polygon(loads(filament).exterior,color=scale,linewidth=1,fill=None)\n",
    "    fig1.gca().add_artist(plot_polygon) "
   ]
  },
  {
   "cell_type": "code",
   "execution_count": 5,
   "metadata": {
    "collapsed": false
   },
   "outputs": [
    {
     "name": "stdout",
     "output_type": "stream",
     "text": [
      "7957\n"
     ]
    }
   ],
   "source": [
    "times=[elem[\"event_starttime\"] for elem in eruptions] \n",
    "result=[]\n",
    "indices=[]\n",
    "### the following loop will remove identical eruptions that have been recorded at different wavelengths by sorting with time\n",
    "for element in times:\n",
    "    if element not in result:\n",
    "        indices.append((times.index(element)))\n",
    "        result.append(element)\n",
    "filtered=[eruptions[i] for i in indices]\n",
    "print len(filtered)"
   ]
  },
  {
   "cell_type": "code",
   "execution_count": 6,
   "metadata": {
    "collapsed": true
   },
   "outputs": [],
   "source": [
    "fi_tracked = pd.read_csv('FIDustinTracked24Mo.txt',delimiter='\\t')\n",
    "fi_tracked.head()\n",
    "tracks=fi_tracked['Track No.']\n",
    "good_tracks = fi_tracked.groupby('Track No.').filter(lambda x: len(x['Track No.']) >= 3, dropna=False) "
   ]
  },
  {
   "cell_type": "markdown",
   "metadata": {},
   "source": [
    "# Loops through both eruption data and track data. Checks if any track polygons contain an eruption point. Then checks if these eruptions can be found in +/- 12 hours of the polygon."
   ]
  },
  {
   "cell_type": "code",
   "execution_count": null,
   "metadata": {
    "collapsed": false
   },
   "outputs": [],
   "source": [
    "margin = datetime.timedelta(hours=12)             \n",
    "FT_time = good_tracks['HEK_time']    #Finds the time stamps for all the filaments\n",
    "FE_time = [elem[\"event_starttime\"] for elem in filtered] #Finds the time stamps for all the eruptions\n",
    "FT_poly = good_tracks['HPC_BB_Poly']    #Finds the polygon coordinates for the good_tracks\n",
    "FE_coords = [elem[\"hpc_coord\"] for elem in filtered] #Finds the point coordinates for the filtered eruptions \n",
    "contained=[]    ####This will be a helpful list for finding which tracks have eruptions contained inthem \n",
    "loopnumb=[]    #to keep track of the eruption number \n",
    "practice=[]\n",
    "start = time.time()\n",
    "for j in range(0, len(FE_coords)):    #looks at all possible eruptions \n",
    "    FET=(parse_time(FE_time[j])) \n",
    "    FE_point_obj = loads(FE_coords[j]) #creates a shapely point object\n",
    "    for i in range(0, len(FT_poly)):  #looks at all possible tracks \n",
    "        if pd.isnull(FT_poly[i]):   #skips over tracks of less than 3 elements \n",
    "            pass\n",
    "        else:   \n",
    "            FLT=parse(FT_time[i]) \n",
    "            FT_poly_obj = loads(FT_poly[i])   #creates polygon object from track\n",
    "            if FT_poly_obj.contains(FE_point_obj) and FET-margin <= FLT <= FET + margin: #checks if point is contained in polygon \n",
    "                contained.append(good_tracks['Track No.'][i])   #finds the track number of these tracks \n",
    "                loopnumb.append(j)\n",
    "                print FE_time[j]\n",
    "                if good_tracks['Track No.'][i] == 16.0:\n",
    "                    practice.append((FE_time[j], good_tracks['Track No.'][i]))\n",
    "                print \"This means that the eruption point is contained in the filament polygon\"\n",
    "                print j,i  #the indicies of the eruption and filament track\n",
    "erup=[indices[i] for i in loopnumb]   #getting the eruption index from a list of possible indices\n",
    "filtered2=[eruptions[i] for i in erup]   #eruption data that correspond to being contained in a filament \n",
    "totaltime = start - time.time()\n",
    "print 'This loop took', totaltime%60"
   ]
  },
  {
   "cell_type": "code",
   "execution_count": null,
   "metadata": {
    "collapsed": true
   },
   "outputs": [],
   "source": [
    "good_polygons=[] #Trying to find polygon data for the filaments that contained eruptions and at a good time \n",
    "for i in range(len(good_tracks)): #iterating through the whole list of tracks \n",
    "    if good_tracks['Track No.'][i] in contained:  #if the track number is in the lists created previously \n",
    "         good_polygons.append((good_tracks['Track No.'][i],good_tracks['HPC_BB_Poly'][i]))#append the polygon data to good polygons"
   ]
  }
 ],
 "metadata": {
  "kernelspec": {
   "display_name": "Python 2",
   "language": "python",
   "name": "python2"
  },
  "language_info": {
   "codemirror_mode": {
    "name": "ipython",
    "version": 2
   },
   "file_extension": ".py",
   "mimetype": "text/x-python",
   "name": "python",
   "nbconvert_exporter": "python",
   "pygments_lexer": "ipython2",
   "version": "2.7.10"
  }
 },
 "nbformat": 4,
 "nbformat_minor": 0
}
