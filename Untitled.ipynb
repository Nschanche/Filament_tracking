{
 "cells": [
  {
   "cell_type": "code",
   "execution_count": 15,
   "metadata": {
    "collapsed": true
   },
   "outputs": [],
   "source": [
    "from sunpy.net import hek\n",
    "from sunpy.net import hek2vso\n",
    "import matplotlib.pyplot as plt\n",
    "import numpy as np\n",
    "#################################\n",
    "client = hek.HEKClient()\n",
    "h2v = hek2vso.H2VClient()\n",
    "event_type = 'FE'  #### we are only looking at filament eruptions\n",
    "#################################\n",
    "\n"
   ]
  },
  {
   "cell_type": "code",
   "execution_count": 33,
   "metadata": {
    "collapsed": false
   },
   "outputs": [],
   "source": [
    " def eventtime(tstart, tend):   #allows the user to input a custom date\n",
    "    date=tstart+tend\n",
    "    print(date)\n",
    "    result=[]\n",
    "    indices=[]\n",
    "    eruptions = client.query(hek.attrs.Time(tstart,tend),hek.attrs.EventType(event_type))\n",
    "    len(eruptions)\n",
    "    vso_records = h2v.translate_and_query(eruptions[10])\n",
    "    len(vso_records)\n",
    "    #print(len(eruptions), len(vso_records))\n",
    "    times=[elem[\"event_starttime\"] for elem in eruptions] \n",
    "### the following loop will remove identical eruptions that have been recorded at different wavelengths by sorting with time\n",
    "    for element in times:\n",
    "        if element not in result:\n",
    "            indices.append((times.index(element)))\n",
    "            result.append(element)\n",
    "            \n",
    "    filtered=[eruptions[i] for i in indices]\n",
    "    #####################################################\n",
    "    longitude = [elem[\"hpc_x\"] for elem in filtered]\n",
    "    latitude = [elem[\"hpc_y\"] for elem in filtered]\n",
    "    fig=plt.scatter(longitude,latitude,color='gray',s=50) ###plots data points according to location\n",
    "#ax=fig.add_subplot(1,1,1)\n",
    "    Sun=plt.Circle((0,0), radius=1100, color='black', fill=False)\n",
    "    plt.gcf().gca().add_artist(Sun)\n",
    "    plt.ylabel('arcsec')\n",
    "    plt.xlabel('arcsec')\n",
    "    plt.ylim(-1500, 1500)\n",
    "    plt.title('Filament Eruptions on the Sun from '+ tstart + ' to ' + tend)\n",
    "    plt.grid()\n",
    "    plt.show()\n",
    "    plt.savefig('willbevariable.png')"
   ]
  },
  {
   "cell_type": "code",
   "execution_count": null,
   "metadata": {
    "collapsed": false
   },
   "outputs": [],
   "source": [
    "eventtime('2012/10/01 00:00:00', '2012/10/31 23:59:59')   #sample time "
   ]
  },
  {
   "cell_type": "code",
   "execution_count": null,
   "metadata": {
    "collapsed": true
   },
   "outputs": [],
   "source": []
  }
 ],
 "metadata": {
  "kernelspec": {
   "display_name": "Python 2",
   "language": "python",
   "name": "python2"
  },
  "language_info": {
   "codemirror_mode": {
    "name": "ipython",
    "version": 2
   },
   "file_extension": ".py",
   "mimetype": "text/x-python",
   "name": "python",
   "nbconvert_exporter": "python",
   "pygments_lexer": "ipython2",
   "version": "2.7.10"
  }
 },
 "nbformat": 4,
 "nbformat_minor": 0
}
